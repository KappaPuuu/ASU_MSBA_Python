{
 "cells": [
  {
   "cell_type": "markdown",
   "metadata": {},
   "source": [
    "# Basic Python\n",
    "\n",
    "[Python 3.8.3 Documentation](https://docs.python.org/3/)\n",
    "\n",
    "## Best Coding Practices\n",
    "\n",
    "- [The Zen of Python](https://www.python.org/dev/peps/pep-0020/)\n",
    "- [Style Guide for Python Code](https://www.python.org/dev/peps/pep-0008/)\n"
   ]
  },
  {
   "cell_type": "markdown",
   "metadata": {},
   "source": [
    "Check what kind of platform (interpretation) is being used."
   ]
  },
  {
   "cell_type": "code",
   "execution_count": 1,
   "metadata": {},
   "outputs": [
    {
     "data": {
      "text/plain": [
       "'CPython'"
      ]
     },
     "execution_count": 1,
     "metadata": {},
     "output_type": "execute_result"
    }
   ],
   "source": [
    "import platform\n",
    "platform.python_implementation()"
   ]
  },
  {
   "cell_type": "markdown",
   "metadata": {},
   "source": [
    "Typically we use 'CPython' which means running python using C languages.\n",
    "\n",
    "There are also 'Jython' (which uses Java), IronPython (C#) and Pypy (Python)."
   ]
  },
  {
   "cell_type": "markdown",
   "metadata": {},
   "source": [
    "## `Print`"
   ]
  },
  {
   "cell_type": "code",
   "execution_count": 2,
   "metadata": {},
   "outputs": [
    {
     "name": "stdout",
     "output_type": "stream",
     "text": [
      "Hello World!\n"
     ]
    }
   ],
   "source": [
    "print('Hello World!')"
   ]
  },
  {
   "cell_type": "code",
   "execution_count": 3,
   "metadata": {},
   "outputs": [
    {
     "name": "stdout",
     "output_type": "stream",
     "text": [
      "\"Hello World!\"\n"
     ]
    }
   ],
   "source": [
    "print('\\\"Hello World!\\\"')"
   ]
  },
  {
   "cell_type": "code",
   "execution_count": 4,
   "metadata": {},
   "outputs": [
    {
     "name": "stdout",
     "output_type": "stream",
     "text": [
      "Hello World\n"
     ]
    }
   ],
   "source": [
    "print('Hello \\\n",
    "World')"
   ]
  },
  {
   "cell_type": "code",
   "execution_count": 5,
   "metadata": {},
   "outputs": [
    {
     "name": "stdout",
     "output_type": "stream",
     "text": [
      "Hello \n",
      "World\n"
     ]
    }
   ],
   "source": [
    "print(\"\"\"Hello \n",
    "World\"\"\")"
   ]
  },
  {
   "cell_type": "code",
   "execution_count": 6,
   "metadata": {},
   "outputs": [
    {
     "name": "stdout",
     "output_type": "stream",
     "text": [
      "Hello \n",
      "World\n"
     ]
    }
   ],
   "source": [
    "print('Hello \\nWorld')"
   ]
  },
  {
   "cell_type": "code",
   "execution_count": 7,
   "metadata": {},
   "outputs": [
    {
     "name": "stdout",
     "output_type": "stream",
     "text": [
      "Hello \\nWorld\n"
     ]
    }
   ],
   "source": [
    "print(r'Hello \\nWorld')"
   ]
  },
  {
   "cell_type": "code",
   "execution_count": 8,
   "metadata": {},
   "outputs": [
    {
     "name": "stdout",
     "output_type": "stream",
     "text": [
      "Hello\n",
      "World!\n"
     ]
    }
   ],
   "source": [
    "print('Hello')\n",
    "print('World!')"
   ]
  },
  {
   "cell_type": "code",
   "execution_count": 9,
   "metadata": {},
   "outputs": [
    {
     "name": "stdout",
     "output_type": "stream",
     "text": [
      "Hello World\n"
     ]
    }
   ],
   "source": [
    "print('Hello', end=' ')\n",
    "print('World')"
   ]
  },
  {
   "cell_type": "code",
   "execution_count": 10,
   "metadata": {},
   "outputs": [
    {
     "name": "stdout",
     "output_type": "stream",
     "text": [
      "Hello...World\n"
     ]
    }
   ],
   "source": [
    "print('Hello', end='...')\n",
    "print('World')"
   ]
  },
  {
   "cell_type": "code",
   "execution_count": 11,
   "metadata": {},
   "outputs": [
    {
     "name": "stdout",
     "output_type": "stream",
     "text": [
      "Hello World! Hello World! Hello World! \n"
     ]
    }
   ],
   "source": [
    "print('Hello World! '*3)"
   ]
  },
  {
   "cell_type": "code",
   "execution_count": 12,
   "metadata": {},
   "outputs": [
    {
     "name": "stdout",
     "output_type": "stream",
     "text": [
      ".........................\n"
     ]
    }
   ],
   "source": [
    "print('.'*25)"
   ]
  },
  {
   "cell_type": "code",
   "execution_count": 13,
   "metadata": {},
   "outputs": [
    {
     "name": "stdout",
     "output_type": "stream",
     "text": [
      "Hello Worlddddd\n"
     ]
    }
   ],
   "source": [
    "print('Hello' + ' ' + 'World' + 'dddd')"
   ]
  },
  {
   "cell_type": "code",
   "execution_count": 14,
   "metadata": {},
   "outputs": [
    {
     "name": "stdout",
     "output_type": "stream",
     "text": [
      "Hello World\n"
     ]
    }
   ],
   "source": [
    "print('Hello','World')"
   ]
  },
  {
   "cell_type": "code",
   "execution_count": 15,
   "metadata": {},
   "outputs": [
    {
     "name": "stdout",
     "output_type": "stream",
     "text": [
      "Hello World This Is Python 3\n"
     ]
    }
   ],
   "source": [
    "print('Hello','World','This','Is','Python',3)"
   ]
  },
  {
   "cell_type": "markdown",
   "metadata": {},
   "source": [
    "## Comment `#`"
   ]
  },
  {
   "cell_type": "code",
   "execution_count": 16,
   "metadata": {},
   "outputs": [],
   "source": [
    "# This is a comment! So Nothing Will Show"
   ]
  },
  {
   "cell_type": "code",
   "execution_count": 17,
   "metadata": {},
   "outputs": [
    {
     "name": "stdout",
     "output_type": "stream",
     "text": [
      "Comment will not be shown->\n"
     ]
    }
   ],
   "source": [
    "print('Comment will not be shown->') # This is the comment"
   ]
  },
  {
   "cell_type": "code",
   "execution_count": 18,
   "metadata": {},
   "outputs": [
    {
     "name": "stdout",
     "output_type": "stream",
     "text": [
      "# This is not a comment, but a string\n"
     ]
    }
   ],
   "source": [
    "print('# This is not a comment, but a string')"
   ]
  },
  {
   "cell_type": "markdown",
   "metadata": {},
   "source": [
    "## Variables `=`\n",
    "\n",
    "- Variable name can be a Combination of **Character**, **Number** and **Underscore**. But! cannot start with **Number** (add `_` before it instead)\n",
    "- Cannot Be **Reserved World** *(e.g. `print`, `while`, `if`, `for`, etc.)*\n",
    "- Are **Case Sensitive** *(e.g. `ABC` != `abc`)*\n",
    "- Use **Meaningful** Names with **Consistent Nameing Style** *(e.g. `NumberOfMiles`, `Number_of_hours`, `speedMPH`)*"
   ]
  },
  {
   "cell_type": "code",
   "execution_count": 19,
   "metadata": {},
   "outputs": [
    {
     "name": "stdout",
     "output_type": "stream",
     "text": [
      "Number of Miles Traveled 100\n",
      "Number of Hours Traveled 20.0\n",
      "Speed in MPH 5.0\n"
     ]
    }
   ],
   "source": [
    "# set a variable using a meaningful variable name\n",
    "distance_traveled_mi = 100\n",
    "time_taken_min = 1200\n",
    "time_taken_hr = time_taken_min/60\n",
    "\n",
    "print('Number of Miles Traveled', distance_traveled_mi)\n",
    "print('Number of Hours Traveled', time_taken_hr)\n",
    "print('Speed in MPH', distance_traveled_mi / time_taken_hr)"
   ]
  },
  {
   "cell_type": "code",
   "execution_count": 20,
   "metadata": {},
   "outputs": [
    {
     "name": "stdout",
     "output_type": "stream",
     "text": [
      "I have Apples and Oranges ... I have 10 Apples and 20 Oranges\n"
     ]
    }
   ],
   "source": [
    "fruits = \"Apples and Oranges\"\n",
    "numApple = 10\n",
    "numOrange = 20\n",
    "\n",
    "print('I have',fruits,'... I have', numApple,'Apples','and',numOrange,'Oranges')"
   ]
  },
  {
   "cell_type": "code",
   "execution_count": 21,
   "metadata": {},
   "outputs": [
    {
     "name": "stdout",
     "output_type": "stream",
     "text": [
      "0 1\n",
      "2 3\n"
     ]
    }
   ],
   "source": [
    "# multiple assignment\n",
    "a = 0\n",
    "b = 1\n",
    "print(a, b)\n",
    "\n",
    "c, d = 2, 3\n",
    "print(c, d)"
   ]
  },
  {
   "cell_type": "code",
   "execution_count": 22,
   "metadata": {},
   "outputs": [
    {
     "name": "stdout",
     "output_type": "stream",
     "text": [
      "2 3\n"
     ]
    }
   ],
   "source": [
    "a, b = 1, 2\n",
    "a, b = b, a+b\n",
    "print(a,b)"
   ]
  },
  {
   "cell_type": "markdown",
   "metadata": {},
   "source": [
    "## Numbers and Operators\n",
    "\n",
    "Be aware of the presedence! <br>\n",
    "*e.g.*\n",
    "- `2 * 3 + 5` = 11,\n",
    "- `(2 * 3) + 5` = 11,\n",
    "- `2 * (3 + 5)` = 16 ;\n",
    "\n",
    "\n",
    "- `2 * 3 ** 4` = 162,\n",
    "- `(2 * 3) ** 4` =1296,\n",
    "- `2 * (3 ** 4)` = 162;\n",
    "\n",
    "\n",
    "- `-3 ** 2` = -9\n",
    "- `(-3) ** 2` = 9\n",
    "\n",
    "\n",
    "- `-3+5` = 2\n",
    "- `(-3)+5` = 2"
   ]
  },
  {
   "cell_type": "code",
   "execution_count": 23,
   "metadata": {},
   "outputs": [
    {
     "name": "stdout",
     "output_type": "stream",
     "text": [
      "Unary and Bitwise Operators: - ~ \n",
      "-2 =  -2\n",
      "~2 =  -3 (bitwise inversion)\n"
     ]
    }
   ],
   "source": [
    "print('Unary and Bitwise Operators: - ~ ')\n",
    "print('-2 = ', -2)\n",
    "print('~2 = ', ~2, '(bitwise inversion)')"
   ]
  },
  {
   "cell_type": "code",
   "execution_count": 24,
   "metadata": {},
   "outputs": [
    {
     "name": "stdout",
     "output_type": "stream",
     "text": [
      "Floor Operator and Modulo Operator : //  %\n",
      "Quotient of 101/2 (or 101//2) is 50\n",
      "Remainder of 101/2 (or 101%2) is 1\n"
     ]
    }
   ],
   "source": [
    "print('Floor Operator and Modulo Operator : //  %')\n",
    "print('Quotient of 101/2 (or 101//2) is', 101//2)\n",
    "print('Remainder of 101/2 (or 101%2) is', 101%2)"
   ]
  },
  {
   "cell_type": "code",
   "execution_count": 25,
   "metadata": {},
   "outputs": [
    {
     "name": "stdout",
     "output_type": "stream",
     "text": [
      "Shift Operators: >>  <<\n",
      "100>>3 = 12\n",
      "  Same as: 100//(2**3) = 12\n",
      "100<<3 = 800\n",
      "  Same as: 100//(2**3) = 800\n"
     ]
    }
   ],
   "source": [
    "print('Shift Operators: >>  <<')\n",
    "print('100>>3 =', 100>>3)\n",
    "print('  Same as: 100//(2**3) =', 100//(2**3))\n",
    "print('100<<3 =', 100<<3)\n",
    "print('  Same as: 100//(2**3) =', 100*(2**3))"
   ]
  },
  {
   "cell_type": "code",
   "execution_count": 26,
   "metadata": {},
   "outputs": [
    {
     "name": "stdout",
     "output_type": "stream",
     "text": [
      "Binary Bitwise Operator: |  &  ^\n",
      "3 | 0 = 3\n",
      "3 ^ 3 = 0\n",
      "3 & 0 = 0\n"
     ]
    }
   ],
   "source": [
    "print('Binary Bitwise Operator: |  &  ^')\n",
    "print('3 | 0 =', 3 | 0)\n",
    "print('3 ^ 3 =', 3 ^ 3)\n",
    "print('3 & 0 =', 3 & 0)"
   ]
  },
  {
   "cell_type": "code",
   "execution_count": 27,
   "metadata": {},
   "outputs": [
    {
     "name": "stdout",
     "output_type": "stream",
     "text": [
      "Comparison Operators: >   >=   ==   <=   ==   in   not in\n",
      "5 > 2 ? True\n",
      "5 == 3 ? False\n",
      "5 <= 4 ? False\n",
      "2 in (1, 2, 3) ? True\n",
      "5 not in (1, 2, 3) ? True\n"
     ]
    }
   ],
   "source": [
    "print('Comparison Operators: >   >=   ==   <=   ==   in   not in')\n",
    "print('5 > 2 ?', 5 > 2)\n",
    "print('5 == 3 ?', 5 == 3)\n",
    "print('5 <= 4 ?', 5 <= 4)\n",
    "print('2 in (1, 2, 3) ?', 2 in (1, 2, 3))\n",
    "print('5 not in (1, 2, 3) ?', 5 not in (1, 2, 3))"
   ]
  },
  {
   "cell_type": "code",
   "execution_count": 28,
   "metadata": {},
   "outputs": [
    {
     "name": "stdout",
     "output_type": "stream",
     "text": [
      "Boolean Operators: AND   OR   NOT\n",
      "5 > 2 and 5 == 2 ? False\n",
      "5 > 2 or 5 == 2 ? True\n",
      "5 not == 2 ? True\n"
     ]
    }
   ],
   "source": [
    "print('Boolean Operators: AND   OR   NOT')\n",
    "print('5 > 2 and 5 == 2 ?', (5 > 2) and (5 == 2))\n",
    "print('5 > 2 or 5 == 2 ?', (5 > 2) or (5 == 2))\n",
    "print('5 not == 2 ?' , not (5 == 2))"
   ]
  },
  {
   "cell_type": "markdown",
   "metadata": {},
   "source": [
    "## Python Math Library\n",
    "[Math documentation](https://docs.python.org/3/library/math.html)"
   ]
  },
  {
   "cell_type": "code",
   "execution_count": 29,
   "metadata": {},
   "outputs": [],
   "source": [
    "import math"
   ]
  },
  {
   "cell_type": "code",
   "execution_count": 30,
   "metadata": {},
   "outputs": [
    {
     "name": "stdout",
     "output_type": "stream",
     "text": [
      "round(var1/var2): 1\n"
     ]
    }
   ],
   "source": [
    "var1 = 2\n",
    "var2 = 3\n",
    "print('round(var1/var2):', round(var1/var2))"
   ]
  },
  {
   "cell_type": "code",
   "execution_count": 31,
   "metadata": {},
   "outputs": [
    {
     "name": "stdout",
     "output_type": "stream",
     "text": [
      "math.floor(var1/var2): 0\n"
     ]
    }
   ],
   "source": [
    "print('math.floor(var1/var2):', math.floor(var1/var2))"
   ]
  },
  {
   "cell_type": "code",
   "execution_count": 32,
   "metadata": {},
   "outputs": [
    {
     "name": "stdout",
     "output_type": "stream",
     "text": [
      "math.ceil(var1/var2): 1\n"
     ]
    }
   ],
   "source": [
    "print('math.ceil(var1/var2):', math.ceil(var1/var2))"
   ]
  },
  {
   "cell_type": "code",
   "execution_count": 33,
   "metadata": {},
   "outputs": [
    {
     "name": "stdout",
     "output_type": "stream",
     "text": [
      "pow(var1, var2): 8\n",
      "  Same as: var1 ** var2: 8\n"
     ]
    }
   ],
   "source": [
    "print('pow(var1, var2):', pow(var1, var2))\n",
    "print('  Same as: var1 ** var2:', var1 ** var2 )"
   ]
  },
  {
   "cell_type": "code",
   "execution_count": 34,
   "metadata": {},
   "outputs": [
    {
     "name": "stdout",
     "output_type": "stream",
     "text": [
      "abs(var1 - var2): 1\n"
     ]
    }
   ],
   "source": [
    "print('abs(var1 - var2):',abs(var1 - var2))"
   ]
  },
  {
   "cell_type": "code",
   "execution_count": 35,
   "metadata": {},
   "outputs": [
    {
     "name": "stdout",
     "output_type": "stream",
     "text": [
      "math.sqrt(var1): 1.4142135623730951\n"
     ]
    }
   ],
   "source": [
    "print('math.sqrt(var1):', math.sqrt(var1))"
   ]
  },
  {
   "cell_type": "markdown",
   "metadata": {},
   "source": [
    "---\n",
    "\n",
    "## Exercises 1\n",
    "\n",
    "### Exercise Set 1\n",
    "- Declare a variable for the currency of Euros\n",
    "- Convert the amount of Dollars and assign another variable, rounded to two decimal places.\n",
    "- Print the Euro amount and the Dollar amount in a user-friendly format"
   ]
  },
  {
   "cell_type": "code",
   "execution_count": 36,
   "metadata": {},
   "outputs": [
    {
     "name": "stdout",
     "output_type": "stream",
     "text": [
      "100 Euros = 112.13 Dollars\n"
     ]
    }
   ],
   "source": [
    "euro = 100\n",
    "dollar = euro * 1.121264\n",
    "print(euro, 'Euros =', round(dollar,2), 'Dollars')"
   ]
  },
  {
   "cell_type": "code",
   "execution_count": 37,
   "metadata": {},
   "outputs": [
    {
     "name": "stdout",
     "output_type": "stream",
     "text": [
      "Euro = 200\n",
      "Exchange Rate = 1.121264\n",
      "Dollar = 224.25\n"
     ]
    }
   ],
   "source": [
    "euro = 200\n",
    "exchange_rate = 1.121264\n",
    "dollar = round(euro * exchange_rate,2)\n",
    "\n",
    "print('Euro =', euro)\n",
    "print('Exchange Rate =', exchange_rate)\n",
    "print('Dollar =', dollar)"
   ]
  },
  {
   "cell_type": "markdown",
   "metadata": {},
   "source": [
    "### Exercise Set 2\n",
    "- Declare a variable for billed amount, and assign an arbitrary value to it.\n",
    "- Declare a second variable for tip percentage, and assign an arbitrary value to it.\n",
    "- Declare a third variable for total due, derived from the first two variables.\n",
    "- Print the billed amount, the tip percentage, and the total due in a userfriendly format\n",
    "- Plug is different values and ensure above works as expected."
   ]
  },
  {
   "cell_type": "code",
   "execution_count": 38,
   "metadata": {},
   "outputs": [
    {
     "name": "stdout",
     "output_type": "stream",
     "text": [
      "Bill Amount = 200\n",
      "Tip Percentage = 0.15\n",
      "Total Amount = 230.0\n"
     ]
    }
   ],
   "source": [
    "bill_amt = 200\n",
    "tip_pct = 0.15\n",
    "tot_amt = round(bill_amt * (1+tip_pct), 2)\n",
    "\n",
    "print('Bill Amount =', bill_amt)\n",
    "print('Tip Percentage =', tip_pct)\n",
    "print('Total Amount =', tot_amt)"
   ]
  },
  {
   "cell_type": "markdown",
   "metadata": {},
   "source": [
    "### Exercise Set 3\n",
    "- Declare a variable for the radius of a circle and assign an arbitrary value to it\n",
    "- Calculate the circumference of the circle ($\\pi$) and assign to another variable\n",
    "- Calculate the area of the circle ($\\pi$) and assign to another variable\n",
    "- Print the radius, circumference and area in a user-friendly format"
   ]
  },
  {
   "cell_type": "code",
   "execution_count": 39,
   "metadata": {},
   "outputs": [
    {
     "name": "stdout",
     "output_type": "stream",
     "text": [
      "Radius = 1\n",
      "Circumference = 6.28\n",
      "Area = 3.14\n"
     ]
    }
   ],
   "source": [
    "import math\n",
    "\n",
    "radius = 1\n",
    "pi = math.pi\n",
    "circumference = round((radius * 2) * pi, 2)\n",
    "area = round((radius**2) * pi,2)\n",
    "\n",
    "print('Radius =', radius)\n",
    "print('Circumference =', circumference)\n",
    "print('Area =', area)"
   ]
  },
  {
   "cell_type": "markdown",
   "metadata": {},
   "source": [
    "### Exercise Set 4\n",
    "- Declare a variable and assign it an arbitrary integer value\n",
    "- Test whether the variable is even or odd and assign the result to another variable\n",
    "- Print the variable, and whether it is even or odd in a user-friendly format"
   ]
  },
  {
   "cell_type": "code",
   "execution_count": 40,
   "metadata": {},
   "outputs": [
    {
     "name": "stdout",
     "output_type": "stream",
     "text": [
      "5 is odd\n",
      "The new variable is 6\n"
     ]
    }
   ],
   "source": [
    "var = 5\n",
    "\n",
    "\n",
    "if (var % 2) == 0:\n",
    "    print(var, 'is even')\n",
    "    var += 1\n",
    "    print('The new variable is', var)\n",
    "else:\n",
    "    print(var, 'is odd')\n",
    "    var += 1\n",
    "    print('The new variable is', var)\n"
   ]
  },
  {
   "cell_type": "code",
   "execution_count": 41,
   "metadata": {},
   "outputs": [
    {
     "name": "stdout",
     "output_type": "stream",
     "text": [
      "The number is 5\n",
      "The remainder is 1\n",
      "Is the number even? False\n"
     ]
    }
   ],
   "source": [
    "var = 5\n",
    "remainder = var % 2\n",
    "is_even = (remainder==0)\n",
    "\n",
    "print('The number is', var)\n",
    "print('The remainder is', remainder)\n",
    "print('Is the number even?', is_even)"
   ]
  },
  {
   "cell_type": "markdown",
   "metadata": {},
   "source": [
    "### Exercise Set 5\n",
    "- Declare a variable and assign it a dollar value of 259\n",
    "- Print the minimum number of 20, 10, 5 and 1 dollar bills will need to make up the dollar amount"
   ]
  },
  {
   "cell_type": "code",
   "execution_count": 42,
   "metadata": {},
   "outputs": [
    {
     "name": "stdout",
     "output_type": "stream",
     "text": [
      "To pay 259 dollars, you'll need:\n",
      "12 20-dollar bills\n",
      "1 10-dollar bill\n",
      "1 5-dollar bill\n",
      "4 1-dollar bills\n"
     ]
    }
   ],
   "source": [
    "dollar = 259\n",
    "\n",
    "print('To pay', dollar, \"dollars, you'll need:\")\n",
    "\n",
    "in_20 = math.floor(dollar/20)\n",
    "dollar = dollar - (in_20 * 20)\n",
    "in_10 = math.floor(dollar/10)\n",
    "dollar = dollar - (in_10 * 10)\n",
    "in_5 = math.floor(dollar/5)\n",
    "dollar = dollar - (in_5 * 5)\n",
    "in_1 = math.floor(dollar/1)\n",
    "dollar = dollar - (in_1 * 1)\n",
    "\n",
    "print(in_20, '20-dollar bills')\n",
    "print(in_10, '10-dollar bill')\n",
    "print(in_5, '5-dollar bill')\n",
    "print(in_1, '1-dollar bills')"
   ]
  },
  {
   "cell_type": "markdown",
   "metadata": {},
   "source": [
    "---\n",
    "---\n",
    "\n",
    "## Python Data Structure\n",
    "1. Sequence Type \n",
    "  - string (ordered, immutable)\n",
    "  - list (ordered, mutable) -- used to store homogeneous items\n",
    "  - tuple (ordered, immutable) -- used to store heterogeneous items\n",
    "  - range (ordered, )\n",
    "2. Set\n",
    "  - set (unordered, non-duplicate)\n",
    "3. Dictionary\n",
    "  - dictionary (unordered, key(immutable):value(could be updated) pairs)\n",
    "\n",
    "\n",
    "---\n",
    "\n",
    "\n",
    "## Strings `' '` and Operators\n"
   ]
  },
  {
   "cell_type": "code",
   "execution_count": 43,
   "metadata": {},
   "outputs": [
    {
     "name": "stdout",
     "output_type": "stream",
     "text": [
      "left string >< right string\n",
      "\n",
      "CIS409\n",
      "\n",
      "repeat...repeat...repeat...\n"
     ]
    }
   ],
   "source": [
    "# concatenate (+)\n",
    "print('left string >' + '< right string')\n",
    "print()\n",
    "\n",
    "lstr = 'CIS'\n",
    "rstr = '409'\n",
    "lrstr = lstr + rstr\n",
    "print(lrstr)\n",
    "print()\n",
    "\n",
    "# repeat (*)\n",
    "print('repeat...' * 3)\n"
   ]
  },
  {
   "cell_type": "markdown",
   "metadata": {},
   "source": [
    "### string sequences:\n",
    "**How the order is set up**\n",
    "\n",
    "<table>\n",
    "    <thead>\n",
    "        <tr>\n",
    "            <th>P</th>\n",
    "            <th>y</th>\n",
    "            <th>t</th>\n",
    "            <th>h</th>\n",
    "            <th>o</th>\n",
    "            <th>n</th>\n",
    "        </tr>\n",
    "    </thead>\n",
    "    <tbody>\n",
    "        <tr>\n",
    "            <td>0</td>\n",
    "            <td>1</td>\n",
    "            <td>2</td>\n",
    "            <td>3</td>\n",
    "            <td>4</td>\n",
    "            <td>5</td>\n",
    "        </tr>\n",
    "        <tr>\n",
    "            <td>-6</td>\n",
    "            <td>-5</td>\n",
    "            <td>-4</td>\n",
    "            <td>-3</td>\n",
    "            <td>-2</td>\n",
    "            <td>-1</td>\n",
    "        </tr>\n",
    "    </tbody>\n",
    "</table>\n",
    "\n",
    "*Now observe what python does in the following example*"
   ]
  },
  {
   "cell_type": "code",
   "execution_count": 44,
   "metadata": {},
   "outputs": [
    {
     "name": "stdout",
     "output_type": "stream",
     "text": [
      "P\n",
      "y\n",
      "t\n",
      "h\n",
      "o\n",
      "n\n",
      "\n",
      "P\n",
      "y\n",
      "t\n",
      "h\n",
      "o\n",
      "n\n"
     ]
    }
   ],
   "source": [
    "# indexing\n",
    "\n",
    "word = 'Python'\n",
    "print(word[0])\n",
    "print(word[1])\n",
    "print(word[2])\n",
    "print(word[3])\n",
    "print(word[4])\n",
    "print(word[5])\n",
    "print()\n",
    "\n",
    "print(word[-6])\n",
    "print(word[-5])\n",
    "print(word[-4])\n",
    "print(word[-3])\n",
    "print(word[-2])\n",
    "print(word[-1])"
   ]
  },
  {
   "cell_type": "code",
   "execution_count": 45,
   "metadata": {},
   "outputs": [
    {
     "name": "stdout",
     "output_type": "stream",
     "text": [
      "Py\n",
      "thon\n",
      "thon\n",
      "h\n",
      "\n",
      "ho\n",
      "Python\n"
     ]
    }
   ],
   "source": [
    "# slicing\n",
    "word = 'Python'\n",
    "print(word[0:2])\n",
    "print(word[2:6])\n",
    "print(word[2:10])\n",
    "print(word[-3:-2])\n",
    "print(word[-3:-6]) # cannot count backward\n",
    "print(word[-3:5])\n",
    "print(word[:4] + word[4:])\n"
   ]
  },
  {
   "cell_type": "code",
   "execution_count": 46,
   "metadata": {},
   "outputs": [],
   "source": [
    "#immutability\n",
    "word = 'Python'\n",
    "# word[0] = 'J' # --> TypeError: 'str' object does not support item assignment"
   ]
  },
  {
   "cell_type": "code",
   "execution_count": 47,
   "metadata": {},
   "outputs": [
    {
     "name": "stdout",
     "output_type": "stream",
     "text": [
      "Jython\n"
     ]
    }
   ],
   "source": [
    "word = 'Python'\n",
    "word = 'Jython'\n",
    "print(word)"
   ]
  },
  {
   "cell_type": "code",
   "execution_count": 48,
   "metadata": {},
   "outputs": [
    {
     "name": "stdout",
     "output_type": "stream",
     "text": [
      "Jython\n"
     ]
    }
   ],
   "source": [
    "# to update a string\n",
    "word = 'Python'\n",
    "new_word = 'J' + word[1:]\n",
    "print(new_word)"
   ]
  },
  {
   "cell_type": "markdown",
   "metadata": {},
   "source": [
    "## Python String Library"
   ]
  },
  {
   "cell_type": "code",
   "execution_count": 49,
   "metadata": {},
   "outputs": [
    {
     "name": "stdout",
     "output_type": "stream",
     "text": [
      "6\n",
      "True\n",
      "2\n",
      "True\n",
      "False\n",
      "python\n",
      "PYTHON\n",
      "Python\n",
      "['1', ' 2', ' 3', ' 4', ' 5']\n",
      "John,Jane,Sandra,Mike,Lucy\n",
      "['There ', ' are ', ' four ', ' lines']\n"
     ]
    }
   ],
   "source": [
    "# length of the string\n",
    "print(len('Python'))\n",
    "\n",
    "# find substring in string\n",
    "print('th' in 'Python')\n",
    "\n",
    "# find index in string\n",
    "print('Python'.find('th'))\n",
    "\n",
    "# check if string starts with substring\n",
    "print('Python'.startswith('Py'))\n",
    "\n",
    "# check if string ends with substring\n",
    "print('Python'.endswith('Py'))\n",
    "\n",
    "# lower case a string\n",
    "print('Python'.lower())\n",
    "\n",
    "# upper case a string\n",
    "print('Python'.upper())\n",
    "\n",
    "# remove leading and ending blanks\n",
    "print('    Python   '.strip())\n",
    "\n",
    "# split strings using specified character (return a list)\n",
    "print('1, 2, 3, 4, 5'.split(','))\n",
    "\n",
    "# join iterable elements with pecified characters as dilimiter\n",
    "names = ['John', 'Jane', 'Sandra', 'Mike', 'Lucy']\n",
    "sep = ','\n",
    "print(sep.join(names))\n",
    "\n",
    "# split string at a line feeds(\\n) and carriage return (\\r), returns a list\n",
    "print('There \\n are \\n four \\n lines'.splitlines())"
   ]
  },
  {
   "cell_type": "markdown",
   "metadata": {},
   "source": [
    "## Lists `[ ]` and operators\n",
    "\n"
   ]
  },
  {
   "cell_type": "code",
   "execution_count": 50,
   "metadata": {},
   "outputs": [
    {
     "name": "stdout",
     "output_type": "stream",
     "text": [
      "list of people              : ['Tom', 'Jane', 'Harry', 'Liz']\n",
      "list of flowers             : ['Rose', 'Lily', 'Tulip', 'Lantana']\n",
      "list of pets                : ['cat', 'turtle', 'goat', 'dog']\n",
      "list of number of friends   : [21, 33, 10, 51]\n",
      "List Atypical               : [1, 'cat', 69, 576]\n"
     ]
    }
   ],
   "source": [
    "list_of_people = ['Tom', 'Jane', 'Harry', 'Liz']\n",
    "list_of_flowers = ['Rose', 'Lily', 'Tulip', 'Lantana']\n",
    "list_of_pets = ['cat', 'turtle', 'goat', 'dog']\n",
    "list_of_num_of_friends = [21, 33, 10 ,51]\n",
    "\n",
    "list_atypical = [1, 'cat', 0x45, 576]\n",
    "\n",
    "print('list of people              :', list_of_people)\n",
    "print('list of flowers             :', list_of_flowers)\n",
    "print('list of pets                :', list_of_pets)\n",
    "print('list of number of friends   :', list_of_num_of_friends)\n",
    "print('List Atypical               :', list_atypical)\n"
   ]
  },
  {
   "cell_type": "code",
   "execution_count": 51,
   "metadata": {},
   "outputs": [
    {
     "name": "stdout",
     "output_type": "stream",
     "text": [
      "['Tom', 'Jane', 'Harry', 'Liz', 'cat', 'turtle', 'goat', 'dog']\n",
      "8\n",
      "Harry\n",
      "Jane\n",
      "['Harry', 'Liz']\n"
     ]
    }
   ],
   "source": [
    "# concatenate (+)\n",
    "list_concat = list_of_people + list_of_pets\n",
    "print(list_concat)\n",
    "\n",
    "# length of the list\n",
    "print(len(list_concat))\n",
    "\n",
    "# indexing\n",
    "print(list_of_people[2])\n",
    "print(list_of_people[-3])\n",
    "\n",
    "# slicing\n",
    "print(list_of_people[2:])\n"
   ]
  },
  {
   "cell_type": "code",
   "execution_count": 52,
   "metadata": {},
   "outputs": [
    {
     "name": "stdout",
     "output_type": "stream",
     "text": [
      "['Tom', 'Jane', 'Harry', 'Lucy']\n",
      "['python', 'elephant', 'goat', 'dog']\n",
      "['python', 'elephant']\n",
      "['python', 'elephant', 'Bird']\n",
      "[]\n",
      "['Tom', 'Jane', 'Harry', 'Lucy']\n",
      "['Harry', 'Lucy']\n",
      "['Tom', 'Jane', 'Harry', 'Lucy']\n",
      "['John', 'Lucy']\n",
      "['TOM', 'Lily', 'goat', 61]\n"
     ]
    }
   ],
   "source": [
    "# mutability\n",
    "list_of_people = ['Tom', 'Jane', 'Harry', 'Liz']\n",
    "list_of_people[3] = 'Lucy'\n",
    "print(list_of_people)\n",
    "\n",
    "list_of_pets = ['cat', 'turtle', 'goat', 'dog']\n",
    "list_of_pets[0:2] = ['python', 'elephant']\n",
    "print(list_of_pets)\n",
    "\n",
    "list_of_pets[2:4] = []\n",
    "print(list_of_pets)\n",
    "\n",
    "list_of_pets.append('Bird')\n",
    "print(list_of_pets)\n",
    "\n",
    "list_of_pets[:] = []\n",
    "print(list_of_pets)\n",
    "\n",
    "sublist_of_people = list_of_people[2:]\n",
    "print(list_of_people)\n",
    "print(sublist_of_people)\n",
    "\n",
    "sublist_of_people[0] = 'John'\n",
    "print(list_of_people)\n",
    "print(sublist_of_people)\n",
    "\n",
    "\n",
    "list_of_pets = ['cat', 'turtle', 'goat', 'dog']\n",
    "compiled = [(list_of_people[0]).upper(), list_of_flowers[1], list_of_pets[2], list_of_num_of_friends[3]+10]\n",
    "print(compiled)"
   ]
  },
  {
   "cell_type": "code",
   "execution_count": 53,
   "metadata": {},
   "outputs": [
    {
     "name": "stdout",
     "output_type": "stream",
     "text": [
      "list nested       : [['Tom', 'Jane', 'Harry', 'Lucy'], ['Rose', 'Lily', 'Tulip', 'Lantana']]\n",
      "list nested[0]    : ['Tom', 'Jane', 'Harry', 'Lucy']\n",
      "list nested[1]    : ['Rose', 'Lily', 'Tulip', 'Lantana']\n",
      "list nested[0][1] : Jane\n",
      "list nested[1][2] : Tulip\n"
     ]
    }
   ],
   "source": [
    "# nesting\n",
    "list_nested = [list_of_people, list_of_flowers]\n",
    "print('list nested       :',list_nested)\n",
    "print('list nested[0]    :',list_nested[0])\n",
    "print('list nested[1]    :',list_nested[1])\n",
    "print('list nested[0][1] :',list_nested[0][1])\n",
    "print('list nested[1][2] :',list_nested[1][2])\n"
   ]
  },
  {
   "cell_type": "markdown",
   "metadata": {},
   "source": [
    "## Python List Libarary"
   ]
  },
  {
   "cell_type": "code",
   "execution_count": 54,
   "metadata": {},
   "outputs": [
    {
     "name": "stdout",
     "output_type": "stream",
     "text": [
      "List 1 [100, 200, 300]\n",
      "List 2 [0, 5, 25]\n",
      "List 3 [10, 50, 50, 20, 0, 10, 50]\n",
      "\n",
      "lst1.append(-400)     -> [100, 200, 300, -400]\n",
      "lst2.extend(lst1)     -> [0, 5, 25, 100, 200, 300, -400]\n",
      "lst2.insert(3, -100)  -> [0, 5, 25, -100, 100, 200, 300, -400]\n",
      "lst2.remove(-100)     -> [0, 5, 25, 100, 200, 300, -400]\n",
      "del lst2[6]           -> [0, 5, 25, 100, 200, 300]\n",
      "lst2.pop()            -> 300\n",
      "lst2                  -> [0, 5, 25, 100, 200]\n",
      "lst3.index(50)        -> 1\n",
      "lst3.count(50)        -> 3\n",
      "lst3.reverse()        -> [50, 10, 0, 20, 50, 50, 10]\n",
      "lst3.sort()           -> [0, 10, 10, 20, 50, 50, 50]\n",
      "lst.clear()           -> []\n"
     ]
    }
   ],
   "source": [
    "lst1 = [100, 200, 300]\n",
    "lst2 = [0, 5, 25]\n",
    "lst3 = [10, 50, 50, 20, 0, 10, 50]\n",
    "print('List 1',lst1)\n",
    "print('List 2',lst2)\n",
    "print('List 3',lst3)\n",
    "print()\n",
    "\n",
    "\n",
    "# append - add new item by the end of the list\n",
    "# (inplace operation)\n",
    "lst1.append(-400)\n",
    "print('lst1.append(-400)     ->',lst1)\n",
    "\n",
    "# extend - appending all the item in a list onto the current list\n",
    "# (inplace operation)\n",
    "lst2.extend(lst1)\n",
    "print('lst2.extend(lst1)     ->',lst2)\n",
    "\n",
    "# insert - insert an item onto a specific location(index)\n",
    "# (inplace operation)\n",
    "lst2.insert(3, -100) # .insert(location, item)\n",
    "print('lst2.insert(3, -100)  ->',lst2)\n",
    "\n",
    "# remove - remove the first of a 'value'\n",
    "# (inplace operation)\n",
    "lst2.remove(-100)\n",
    "print('lst2.remove(-100)     ->',lst2)\n",
    "\n",
    "# del - remove a item at 'index'\n",
    "# (inplace operation)\n",
    "del lst2[6]\n",
    "print('del lst2[6]           ->',lst2)\n",
    "\n",
    "# pop - 'remove and return' the 'last'(default: -1) item in a list\n",
    "# (inplace operation)\n",
    "print('lst2.pop()            ->', lst2.pop())\n",
    "print('lst2                  ->', lst2)\n",
    "\n",
    "# index - find the index of a 'value'\n",
    "print('lst3.index(50)        ->',lst3.index(50))\n",
    "\n",
    "# count - return the number of times a value shows up\n",
    "print('lst3.count(50)        ->',lst3.count(50))\n",
    "\n",
    "# reverse the order of a list\n",
    "# (inplace operation)\n",
    "lst3.reverse()\n",
    "print('lst3.reverse()        ->',lst3)\n",
    "\n",
    "# sort - sort a list with value\n",
    "# (inplace operation)\n",
    "lst3.sort()\n",
    "print('lst3.sort()           ->',lst3)\n",
    "\n",
    "# clear - empty the list (returns an empty list)\n",
    "# (inplace operation)\n",
    "lst3.clear()\n",
    "print('lst.clear()           ->',lst3)\n",
    "\n",
    "# delete the list completely\n",
    "del lst3\n",
    "# print(lst3) # -> error"
   ]
  },
  {
   "cell_type": "markdown",
   "metadata": {},
   "source": [
    "## Tuples `( )` and operators"
   ]
  },
  {
   "cell_type": "code",
   "execution_count": 55,
   "metadata": {},
   "outputs": [
    {
     "name": "stdout",
     "output_type": "stream",
     "text": [
      "Tuple 1 : () 0\n",
      "Tuple 2 : () 0\n",
      "Tuple 3 : (1,) 1\n",
      "Tuple 4 : (1, 2, 3) 3\n"
     ]
    }
   ],
   "source": [
    "# create/delare an empty tuple\n",
    "tuple1 = ()\n",
    "print('Tuple 1 :', tuple1, len(tuple1))\n",
    "tuple2 = tuple()\n",
    "print('Tuple 2 :', tuple2, len(tuple2))\n",
    "\n",
    "# singleton tuples must have a trailing comma\n",
    "tuple3 = (1,) # tuple3 = (1) will return syntex error\n",
    "print('Tuple 3 :', tuple3, len(tuple3))\n",
    "\n",
    "tuple4 = (1, 2, 3)\n",
    "print('Tuple 4 :', tuple4, len(tuple4))"
   ]
  },
  {
   "cell_type": "code",
   "execution_count": 56,
   "metadata": {},
   "outputs": [
    {
     "name": "stdout",
     "output_type": "stream",
     "text": [
      "2\n",
      "2\n",
      "(2, 3)\n",
      "(1,)\n",
      "((1,), (1, 2, 3))\n",
      "3\n",
      "Tuple 5 : (1, 2, 3) 3\n"
     ]
    }
   ],
   "source": [
    "# index\n",
    "print(tuple4[1])\n",
    "print(tuple4[-2])\n",
    "\n",
    "# slicing\n",
    "print(tuple4[1:])\n",
    "print(tuple4[:-2])\n",
    "\n",
    "# nesting\n",
    "tuple_nested = (tuple3, tuple4)\n",
    "print(tuple_nested)\n",
    "print(tuple_nested[1][2])\n",
    "\n",
    "# convert tuple to a list\n",
    "tuple5 = tuple([1,2,3])\n",
    "print('Tuple 5 :', tuple5, len(tuple5))"
   ]
  },
  {
   "cell_type": "code",
   "execution_count": 57,
   "metadata": {},
   "outputs": [
    {
     "name": "stdout",
     "output_type": "stream",
     "text": [
      "Packed Tuple 6 : (1, 2, 3) 3\n",
      "Unpacked Tuple 6: \n",
      "x: 1\n",
      "y: 2\n",
      "z: 3\n"
     ]
    }
   ],
   "source": [
    "# packing\n",
    "tuple6 = 1, 2, 3\n",
    "print('Packed Tuple 6 :', tuple6, len(tuple6))\n",
    "\n",
    "# unpacking\n",
    "x, y, z = tuple6\n",
    "print('Unpacked Tuple 6: ')\n",
    "print('x:', x)\n",
    "print('y:', y)\n",
    "print('z:', z)"
   ]
  },
  {
   "cell_type": "markdown",
   "metadata": {},
   "source": [
    "---\n",
    "\n",
    "## Exercises 2\n",
    "\n",
    "### Exercise Set 1 - Manhattan, Euclidean, and Minkowski Distances\n",
    "- Let’s say we are trying to calculate the Manhattan, Euclidean, and Minkowski (r=3) Distances between two coordinates (a=1, b=2) and (c=10, d=20).\n",
    "- Declare and assign four variables a, b, c, d, the values 1, 2, 10, 20 respectively.\n",
    "- Calculate and print the Manhattan Distance between the two points: $|a – c| + |b – d|$ [answer: 27]\n",
    "-  Calculate and print the Euclidean Distance between the two points: $(|a – c|^2 + |b – d|^2)^{1/2}$ [answer: 20.12]\n",
    "- Calculate and print the Minkowski Distance (r=3) between the two points: $(|a – c|^3 + |b – d|^3)^{1/3}$ [answer: 18.72]"
   ]
  },
  {
   "cell_type": "code",
   "execution_count": 58,
   "metadata": {},
   "outputs": [
    {
     "name": "stdout",
     "output_type": "stream",
     "text": [
      "Manhattan Distance : 27\n",
      "Euclidean Distance : 20.12\n",
      "Minkowski Distance : 18.72\n"
     ]
    }
   ],
   "source": [
    "a, b = 1, 2\n",
    "c, d = 10, 20\n",
    "r = 3\n",
    "\n",
    "Manhattan_Distance = ( abs(a - c) + abs(b - d) )\n",
    "Euclidean_Distance = ( abs(a - c)**2 + abs(b - d)**2 )**(1/2)\n",
    "Minkowski_Distance = ( abs(a - c)**r + abs(b - d)**r )**(1/r)\n",
    "print('Manhattan Distance :', round(Manhattan_Distance,2))\n",
    "print('Euclidean Distance :', round(Euclidean_Distance,2))\n",
    "print('Minkowski Distance :', round(Minkowski_Distance,2))"
   ]
  },
  {
   "cell_type": "markdown",
   "metadata": {},
   "source": [
    "-  Let’s say we are trying to calculate the Manhattan, Euclidean, and Minkowski (r=3). <br>Distances between two coordinates P [a=1, b=2] and Q [c=10, d=20].\n",
    "- Declare two lists: <br>\n",
    "    - P = [1, 2] <br>\n",
    "    - Q = [10, 20]\n",
    "- Update code in previous exercise to use the lists instead of variables a, b, c, and d."
   ]
  },
  {
   "cell_type": "code",
   "execution_count": 59,
   "metadata": {},
   "outputs": [
    {
     "name": "stdout",
     "output_type": "stream",
     "text": [
      "Method 1 (using multiple assignment) :\n",
      "Manhattan Distance : 27\n",
      "Euclidean Distance : 20.12\n",
      "Minkowski Distance : 18.72\n"
     ]
    }
   ],
   "source": [
    "P = [1, 2]\n",
    "Q = [10, 20]\n",
    "a, b = P\n",
    "c, d = Q\n",
    "\n",
    "# method 1\n",
    "Manhattan_Distance = ( abs(a - c) + abs(b - d) )\n",
    "Euclidean_Distance = ( abs(a - c)**2 + abs(b - d)**2 )**(1/2)\n",
    "Minkowski_Distance = ( abs(a - c)**r + abs(b - d)**r )**(1/r)\n",
    "\n",
    "print('Method 1 (using multiple assignment) :')\n",
    "print('Manhattan Distance :', round(Manhattan_Distance,2))\n",
    "print('Euclidean Distance :', round(Euclidean_Distance,2))\n",
    "print('Minkowski Distance :', round(Minkowski_Distance,2))"
   ]
  },
  {
   "cell_type": "code",
   "execution_count": 60,
   "metadata": {},
   "outputs": [
    {
     "name": "stdout",
     "output_type": "stream",
     "text": [
      "Method 2 (using P,Q): \n",
      "Manhattan Distance : 27\n",
      "Euclidean Distance : 20.12\n",
      "Minkowski Distance : 18.72\n"
     ]
    }
   ],
   "source": [
    "# method 2\n",
    "Manhattan_Distance2 = ( abs(P[0] - Q[0]) + abs(P[1] - Q[1]))\n",
    "Euclidean_Distance2 = ( abs(P[0] - Q[0])**2 + abs(P[1] - Q[1])**2 )**(1/2)\n",
    "Minkowski_Distance2 = ( abs(P[0] - Q[0])**r + abs(P[1] - Q[1])**r )**(1/r)\n",
    "print('Method 2 (using P,Q): ')\n",
    "print('Manhattan Distance :', round(Manhattan_Distance2,2))\n",
    "print('Euclidean Distance :', round(Euclidean_Distance2,2))\n",
    "print('Minkowski Distance :', round(Minkowski_Distance2,2))"
   ]
  },
  {
   "cell_type": "markdown",
   "metadata": {},
   "source": [
    "### Exercise set 2 - Manhattan, Euclidean, and Minkowski Distances\n",
    "- Let’s say we are trying to calculate the Manhattan, Euclidean, and Minkowski (r=3)<br>\n",
    "Distances between two Lists:\n",
    "- P = [1, 2, 3]\n",
    "- Q = [10, 20, 30]\n",
    "- Calculate and print the Manhattan, Euclidean, and Minkowski Distances between the two lists \n"
   ]
  },
  {
   "cell_type": "code",
   "execution_count": 61,
   "metadata": {},
   "outputs": [
    {
     "name": "stdout",
     "output_type": "stream",
     "text": [
      "Manhattan Distance : 54\n",
      "Euclidean Distance : 33.67\n",
      "Minkowski Distance : 29.72\n"
     ]
    }
   ],
   "source": [
    "P = [1, 2, 3]\n",
    "Q = [10, 20, 30]\n",
    "\n",
    "Manhattan_Distance3 = ( abs(P[0] - Q[0]) + abs(P[1] - Q[1]) + abs(P[2] - Q[2]))\n",
    "Euclidean_Distance3 = ( abs(P[0] - Q[0])**2 + abs(P[1] - Q[1])**2 + abs(P[2] - Q[2])**2)**(1/2)\n",
    "Minkowski_Distance3 = ( abs(P[0] - Q[0])**r + abs(P[1] - Q[1])**r + abs(P[2] - Q[2])**r)**(1/r)\n",
    "\n",
    "print('Manhattan Distance :', round(Manhattan_Distance3,2))\n",
    "print('Euclidean Distance :', round(Euclidean_Distance3,2))\n",
    "print('Minkowski Distance :', round(Minkowski_Distance3,2))"
   ]
  },
  {
   "cell_type": "code",
   "execution_count": 62,
   "metadata": {},
   "outputs": [
    {
     "name": "stdout",
     "output_type": "stream",
     "text": [
      "Manhattan Distance : 54\n",
      "Euclidean Distance : 33.67\n",
      "Minkowski Distance : 29.72\n"
     ]
    }
   ],
   "source": [
    "# Practice using for loop\n",
    "P = [1, 2, 3]\n",
    "Q = [10, 20 ,30]\n",
    "n = 3\n",
    "\n",
    "Manhattan = 0\n",
    "for i in range(len(P)):\n",
    "    Manhattan += abs(P[i] - Q[i])\n",
    "# print(round(Manhattan,2))\n",
    "\n",
    "Euclidean = 0\n",
    "for i in range(len(P)):\n",
    "    Euclidean += (abs(P[i] - Q[i])**2)\n",
    "Euclidean = Euclidean ** 0.5\n",
    "# print(round(Euclidean,2))\n",
    "\n",
    "Minkowski = 0\n",
    "for i in range(len(P)):\n",
    "    Minkowski += (abs(P[i] - Q[i])**r)\n",
    "Minkowski = Minkowski ** (1/r)\n",
    "# print(round(Minkowski,2))\n",
    "\n",
    "print('Manhattan Distance :', round(Manhattan,2))\n",
    "print('Euclidean Distance :', round(Euclidean,2))\n",
    "print('Minkowski Distance :', round(Minkowski,2))"
   ]
  },
  {
   "cell_type": "markdown",
   "metadata": {},
   "source": [
    "### Exercise set 3 - Pearson Correlation\n",
    "- Measure of the linear dependence between two variables.\n",
    "\n",
    "<p style=\"text-align:center;\">$r = \\frac{{}\\sum_{i=1}^{n} (p_i - \\bar{p})(q_i - \\bar{q})}\n",
    "{\\sqrt{\\sum_{i=1}^{n-1} (p_i - \\bar{p})^2}\\sqrt{\\sum_{i=1}^{n-1} (q_i - \\bar{q})^2}}$</p>\n",
    "\n",
    "- Computationally efficient form:\n",
    "\n",
    "<p style=\"text-align:center;\">\n",
    "    $r = \\frac{{}\\sum_{i=1}^{n-1} (p_i q_i) - \\frac{\\sum_{i=1}^{n} p_i \\sum_{i=1}^{n} p_i}{n}}\n",
    "    { \\sqrt{ \\sum_{i=1}^{n} p_i^2 - \\frac{(\\sum_{i=1}^{n} p_i)^2}{n}} \\sqrt{ \\sum_{i=1}^{n} q_i^2 - \\frac{(\\sum_{i=1}^{n} q_i)^2}{n} }}$\n",
    "</p>\n",
    "\n",
    "- Let’s say we are trying to calculate the Pearson Correlation between vectors P and Q using the computationally efficient form:\n",
    "  - P = [1, 2, 3]\n",
    "  - Q = [10, 20, 30]\n",
    "  - n = 3\n",
    "- Calculate the Partial Sums\n",
    "- Calculate the Numerator and Denominator\n",
    "- Calculate and print the Pearson Correlation"
   ]
  },
  {
   "cell_type": "code",
   "execution_count": 63,
   "metadata": {},
   "outputs": [
    {
     "name": "stdout",
     "output_type": "stream",
     "text": [
      "P =  [1, 2, 3]\n",
      "Q =  [10, 20, 30]\n",
      "Pearson Correlation = 1.0\n"
     ]
    }
   ],
   "source": [
    "# partial sums\n",
    "sumqp = (P[0]*Q[0]) + (P[1]*Q[1]) + (P[2]*Q[2])\n",
    "sump = (P[0] + P[1] + P[2])\n",
    "sumq = (Q[0] + Q[1] + Q[2])\n",
    "sump2 = (P[0]**2 + P[1]**2 + P[2]**2)\n",
    "sumq2 = (Q[0]**2 + Q[1]**2 + Q[2]**2)\n",
    "\n",
    "# Numerator and Denominator\n",
    "nr = sumqp - ((sump * sumq) / n)\n",
    "dr = pow(sump2 - ((sump)**2 / n),0.5) * pow(sumq2 - ((sumq)**2 / n),0.5)\n",
    "\n",
    "# pearson correlation\n",
    "r = nr/dr\n",
    "print('P = ', P)\n",
    "print('Q = ', Q)\n",
    "print('Pearson Correlation =', round(r, 2))"
   ]
  },
  {
   "cell_type": "code",
   "execution_count": 64,
   "metadata": {},
   "outputs": [
    {
     "name": "stdout",
     "output_type": "stream",
     "text": [
      "Pearson Correlation = 1.0\n"
     ]
    }
   ],
   "source": [
    "P = [1, 2, 3]\n",
    "Q = [10, 20, 30]\n",
    "n = 3\n",
    "\n",
    "part1 = (P[0]*Q[0]) + (P[1]*Q[1]) + (P[2]*Q[2])\n",
    "part2 = ((P[0] + P[1] + P[2]) * (Q[0] + Q[1] + Q[2])) / n\n",
    "part3 = math.sqrt((P[0]**2 + P[1]**2 + P[2]**2) - ((P[0] + P[1] + P[2])**2)/n)\n",
    "part4 = math.sqrt((Q[0]**2 + Q[1]**2 + Q[2]**2) - ((Q[0] + Q[1] + Q[2])**2)/n)\n",
    "\n",
    "pearson = (part1 - part2) / (part3 * part4)\n",
    "print('Pearson Correlation =', round(pearson,2))"
   ]
  },
  {
   "cell_type": "code",
   "execution_count": 65,
   "metadata": {},
   "outputs": [
    {
     "name": "stdout",
     "output_type": "stream",
     "text": [
      "14 12.0\n",
      "1400 1200.0\n"
     ]
    }
   ],
   "source": [
    "# math.sqrt()\n",
    "print(sump2, ((sump**2) / n))\n",
    "print(sumq2, ((sumq**2) / n))"
   ]
  },
  {
   "cell_type": "markdown",
   "metadata": {},
   "source": [
    "## Range `range(start=0, stop, step=1)`\n",
    "Most often used with **for loop** to control number of iteration times.\n",
    "\n",
    "**For loop** iterate through each one of the item in the iterable *(e.g. list, tuple, string)*"
   ]
  },
  {
   "cell_type": "code",
   "execution_count": 66,
   "metadata": {},
   "outputs": [
    {
     "name": "stdout",
     "output_type": "stream",
     "text": [
      "cats, dog, cow, parrot, hampster, goat, "
     ]
    }
   ],
   "source": [
    "# for loop example\n",
    "words = ['cats', 'dog', 'cow', 'parrot', 'hampster', 'goat']\n",
    "\n",
    "for w in words:\n",
    "    print(w, end=', ')"
   ]
  },
  {
   "cell_type": "code",
   "execution_count": 67,
   "metadata": {},
   "outputs": [
    {
     "name": "stdout",
     "output_type": "stream",
     "text": [
      "150\n"
     ]
    }
   ],
   "source": [
    "nums = [10, 20, 30, 40, 50]\n",
    "sum_of_num = 0\n",
    "for n in nums:\n",
    "    sum_of_num += n # add a number and 'itself'\n",
    "\n",
    "print(sum_of_num)"
   ]
  },
  {
   "cell_type": "code",
   "execution_count": 68,
   "metadata": {},
   "outputs": [
    {
     "name": "stdout",
     "output_type": "stream",
     "text": [
      "0, 1, 2, 3, 4, "
     ]
    }
   ],
   "source": [
    "# using range\n",
    "for i in range(5):\n",
    "    print(i, end=', ')"
   ]
  },
  {
   "cell_type": "code",
   "execution_count": 69,
   "metadata": {},
   "outputs": [
    {
     "name": "stdout",
     "output_type": "stream",
     "text": [
      "5, 6, 7, 8, "
     ]
    }
   ],
   "source": [
    "for i in range(5,9):\n",
    "    print(i, end=', ')"
   ]
  },
  {
   "cell_type": "code",
   "execution_count": 70,
   "metadata": {},
   "outputs": [
    {
     "name": "stdout",
     "output_type": "stream",
     "text": [
      "10, 7, 4, 1, -2, "
     ]
    }
   ],
   "source": [
    "for i in range(10,-3,-3):\n",
    "    print(i, end=', ')"
   ]
  },
  {
   "cell_type": "code",
   "execution_count": 71,
   "metadata": {},
   "outputs": [
    {
     "name": "stdout",
     "output_type": "stream",
     "text": [
      "[[0, 'Jane'], [1, 'John'], [2, 'Harry'], [3, 'Mike'], [4, 'Ed'], [5, 'Mark']]\n"
     ]
    }
   ],
   "source": [
    "words = ['Jane', 'John', 'Harry', 'Mike', 'Ed', 'Mark']\n",
    "wordlist = []\n",
    "for i in range(len(words)):\n",
    "    wordlist.append([i, words[i]])\n",
    "print(wordlist)"
   ]
  },
  {
   "cell_type": "code",
   "execution_count": 72,
   "metadata": {},
   "outputs": [
    {
     "name": "stdout",
     "output_type": "stream",
     "text": [
      "range(0, 20, 2)\n",
      "[0, 2, 4, 6, 8, 10, 12, 14, 16, 18]\n",
      "False\n",
      "5\n",
      "10\n",
      "range(0, 10, 2)\n",
      "18\n"
     ]
    }
   ],
   "source": [
    "# note that range is not a list nor tuple, it's saved as it is, a range\n",
    "\n",
    "r = range(0, 20, 2)\n",
    "\n",
    "print(r)\n",
    "\n",
    "# yet you can use some of the list functions to get what you want\n",
    "print(list(r))\n",
    "print(11 in r)\n",
    "print(r.index(10))\n",
    "print(r[5])\n",
    "print(r[:5])\n",
    "print(r[-1])"
   ]
  },
  {
   "cell_type": "code",
   "execution_count": 73,
   "metadata": {},
   "outputs": [
    {
     "name": "stdout",
     "output_type": "stream",
     "text": [
      "True\n"
     ]
    }
   ],
   "source": [
    "print(range(0) == range(2,1,3))"
   ]
  },
  {
   "cell_type": "markdown",
   "metadata": {},
   "source": [
    "## Sets `{ }` and operators\n",
    "Unordered, non-duplicate collection of data"
   ]
  },
  {
   "cell_type": "code",
   "execution_count": 74,
   "metadata": {},
   "outputs": [
    {
     "name": "stdout",
     "output_type": "stream",
     "text": [
      "{'orange', 'banana', 'apple', 'pear'}\n",
      "True\n"
     ]
    }
   ],
   "source": [
    "basket = {'apple', 'orange', 'apple', 'pear', 'orange', 'banana'}\n",
    "print(basket)\n",
    "print('orange' in basket)"
   ]
  },
  {
   "cell_type": "code",
   "execution_count": 75,
   "metadata": {},
   "outputs": [
    {
     "name": "stdout",
     "output_type": "stream",
     "text": [
      "{'3', '7', 'f', 'o', 's', '6', 'd', '2', '4', '1', 'a'}\n"
     ]
    }
   ],
   "source": [
    "# single character set\n",
    "some_characters = set('123467ooasaasddfdffff777713')\n",
    "print(some_characters)"
   ]
  },
  {
   "cell_type": "code",
   "execution_count": 76,
   "metadata": {},
   "outputs": [
    {
     "name": "stdout",
     "output_type": "stream",
     "text": [
      "Set 1 : {'e', 'b', 'd', 'c', 'a'}\n",
      "Set 2 : {'e', 'k', 's', 'd', 'c', 'a'}\n",
      "set1 | set2 :  {'e', 'k', 's', 'b', 'd', 'c', 'a'}\n",
      "set1 & set2 :  {'d', 'c', 'a', 'e'}\n",
      "set1 - set2 :  {'b'}\n",
      "set1 ^ set2 :  {'b', 'k', 's'}\n"
     ]
    }
   ],
   "source": [
    "set1 = set('abcde')\n",
    "set2 = set('acdaske')\n",
    "\n",
    "print('Set 1 :', set1)\n",
    "print('Set 2 :', set2)\n",
    "\n",
    "# union (exist in either set1 or set2)\n",
    "print('set1 | set2 : ', set1 | set2)\n",
    "\n",
    "# intersect (exist in both set1 and set2)\n",
    "print('set1 & set2 : ', set1 & set2)\n",
    "\n",
    "# difference (exist in set1 but not in set2)\n",
    "print('set1 - set2 : ', set1 - set2)\n",
    "\n",
    "# symmetric difference (does not exist in both sets)\n",
    "print('set1 ^ set2 : ', set1 ^ set2)"
   ]
  },
  {
   "cell_type": "code",
   "execution_count": 77,
   "metadata": {},
   "outputs": [
    {
     "name": "stdout",
     "output_type": "stream",
     "text": [
      "set()\n",
      "{'k', 's'}\n",
      "{'cat', 'deer', 'dog'}\n",
      "{'e', 'k', 's', 'd', 'c', 'a'}\n",
      "{'3', 'b', '2', '1', 'c', 'a'}\n",
      "{'3', 'b', '2', \"'\", '1', 'c', 'a'}\n"
     ]
    }
   ],
   "source": [
    "# test\n",
    "set1 = set('abcde')\n",
    "set2 = set('acdaske')\n",
    "\n",
    "print((set1 ^ set2) - (set1 | set2) - (set1 & set2))\n",
    "print((set1 ^ set2) - (set1 - set2) | (set2 - set1))\n",
    "\n",
    "set1 = {'dog', 'cat', 'deer'}\n",
    "print(set1)\n",
    "\n",
    "# set2 = set('sparrow', 'hawk', 'eagle') # error, take only one argument\n",
    "print(set2)\n",
    "\n",
    "set3 = set('abc123')\n",
    "print(set3)\n",
    "\n",
    "set4 = set('\\'abc123\\'')\n",
    "print(set4)\n"
   ]
  },
  {
   "cell_type": "markdown",
   "metadata": {},
   "source": [
    "## Dictionaries `{ : }`\n",
    "Unordered `{key : value}` pairs"
   ]
  },
  {
   "cell_type": "code",
   "execution_count": 78,
   "metadata": {},
   "outputs": [
    {
     "name": "stdout",
     "output_type": "stream",
     "text": [
      "{}\n",
      "0\n"
     ]
    }
   ],
   "source": [
    "# create an empty dictionary\n",
    "grades = {}\n",
    "print(grades)\n",
    "print(len(grades))"
   ]
  },
  {
   "cell_type": "code",
   "execution_count": 79,
   "metadata": {},
   "outputs": [
    {
     "name": "stdout",
     "output_type": "stream",
     "text": [
      "{'jack': 90, 'jill': 100, 'joe': 99, 'nat': 95, 'eric': 100, 'audrey': 90}\n",
      "6\n"
     ]
    }
   ],
   "source": [
    "# create a dictionary\n",
    "grades = {'jack' : 90,\n",
    "         'jill' : 100,\n",
    "         'joe' : 99,\n",
    "         'nat' : 95,\n",
    "         'eric' : 100,\n",
    "         'audrey':90}\n",
    "print(grades)\n",
    "print(len(grades))"
   ]
  },
  {
   "cell_type": "code",
   "execution_count": 80,
   "metadata": {},
   "outputs": [
    {
     "name": "stdout",
     "output_type": "stream",
     "text": [
      "{'jack': 90, 'jill': 100, 'joe': 99, 'nat': 95, 'eric': 100, 'audrey': 90}\n",
      "6\n"
     ]
    }
   ],
   "source": [
    "# create a dictionary using dictionary instantiator - 1\n",
    "grades = dict( [('jack',90),('jill',100),('joe',99),('nat',95),('eric',100),('audrey',90)] )\n",
    "print(grades)\n",
    "print(len(grades))"
   ]
  },
  {
   "cell_type": "code",
   "execution_count": 81,
   "metadata": {},
   "outputs": [
    {
     "name": "stdout",
     "output_type": "stream",
     "text": [
      "{'jack': 90, 'jill': 100, 'joe': 99, 'nat': 95, 'eric': 100, 'audrey': 90}\n",
      "6\n"
     ]
    }
   ],
   "source": [
    "# create a dictionary using dictionary instantiator - 2\n",
    "grades = dict( jack=90, jill=100, joe=99, nat=95, eric=100, audrey=90 )\n",
    "print(grades)\n",
    "print(len(grades))"
   ]
  },
  {
   "cell_type": "code",
   "execution_count": 82,
   "metadata": {},
   "outputs": [
    {
     "name": "stdout",
     "output_type": "stream",
     "text": [
      "dict_keys(['jack', 'jill', 'joe', 'nat', 'eric', 'audrey'])\n"
     ]
    }
   ],
   "source": [
    "# get all keys\n",
    "print(grades.keys())"
   ]
  },
  {
   "cell_type": "code",
   "execution_count": 83,
   "metadata": {},
   "outputs": [
    {
     "name": "stdout",
     "output_type": "stream",
     "text": [
      "['audrey', 'eric', 'jack', 'jill', 'joe', 'nat']\n"
     ]
    }
   ],
   "source": [
    "# get all sorted key\n",
    "print(sorted(grades.keys()))"
   ]
  },
  {
   "cell_type": "code",
   "execution_count": 84,
   "metadata": {},
   "outputs": [
    {
     "name": "stdout",
     "output_type": "stream",
     "text": [
      "95\n"
     ]
    }
   ],
   "source": [
    "# querying\n",
    "print(grades['nat'])"
   ]
  },
  {
   "cell_type": "code",
   "execution_count": 85,
   "metadata": {},
   "outputs": [
    {
     "name": "stdout",
     "output_type": "stream",
     "text": [
      "{'jack': 90, 'jill': 100, 'joe': 99, 'nat': 95, 'eric': 100, 'audrey': 93}\n"
     ]
    }
   ],
   "source": [
    "grades['audrey'] = 93\n",
    "print(grades)"
   ]
  },
  {
   "cell_type": "code",
   "execution_count": 86,
   "metadata": {},
   "outputs": [
    {
     "name": "stdout",
     "output_type": "stream",
     "text": [
      "{'jill': 100, 'joe': 99, 'nat': 95, 'eric': 100, 'audrey': 93}\n"
     ]
    }
   ],
   "source": [
    "del grades['jack']\n",
    "print(grades)"
   ]
  },
  {
   "cell_type": "code",
   "execution_count": 87,
   "metadata": {},
   "outputs": [
    {
     "name": "stdout",
     "output_type": "stream",
     "text": [
      "True\n"
     ]
    }
   ],
   "source": [
    "# check if a key exists\n",
    "print('eric' in grades)"
   ]
  },
  {
   "cell_type": "markdown",
   "metadata": {},
   "source": [
    "## Loops and Comparisons"
   ]
  },
  {
   "cell_type": "code",
   "execution_count": 88,
   "metadata": {},
   "outputs": [
    {
     "name": "stdout",
     "output_type": "stream",
     "text": [
      "jill 100\n",
      "joe 99\n",
      "nat 95\n",
      "eric 100\n",
      "audrey 93\n"
     ]
    }
   ],
   "source": [
    "# for loop for dictionary\n",
    "for key, value in grades.items():\n",
    "    print(key, value)"
   ]
  },
  {
   "cell_type": "code",
   "execution_count": 89,
   "metadata": {},
   "outputs": [
    {
     "name": "stdout",
     "output_type": "stream",
     "text": [
      "0 90\n",
      "1 100\n",
      "2 99\n",
      "3 95\n",
      "4 100\n",
      "5 90\n"
     ]
    }
   ],
   "source": [
    "# for loop for list\n",
    "points = [90, 100, 99, 95, 100, 90]\n",
    "for index, value in enumerate(points):\n",
    "    print(index,value)"
   ]
  },
  {
   "cell_type": "code",
   "execution_count": 90,
   "metadata": {},
   "outputs": [
    {
     "name": "stdout",
     "output_type": "stream",
     "text": [
      "jack 90\n",
      "jill 100\n",
      "joseph 99\n",
      "natasha 95\n",
      "eric 100\n",
      "audrey 90\n"
     ]
    }
   ],
   "source": [
    "# zip through two list\n",
    "names = ['jack', 'jill', 'joseph', 'natasha', 'eric', 'audrey']\n",
    "points = [90, 100, 99, 95, 100, 90]\n",
    "for n, p in zip(names, points):\n",
    "    print(n, p)"
   ]
  },
  {
   "cell_type": "code",
   "execution_count": 91,
   "metadata": {},
   "outputs": [
    {
     "name": "stdout",
     "output_type": "stream",
     "text": [
      "audrey\n",
      "eric\n",
      "jill\n",
      "joe\n",
      "nat\n"
     ]
    }
   ],
   "source": [
    "# sorted\n",
    "for x in sorted(grades.keys()):\n",
    "    print(x)"
   ]
  },
  {
   "cell_type": "code",
   "execution_count": 92,
   "metadata": {},
   "outputs": [
    {
     "name": "stdout",
     "output_type": "stream",
     "text": [
      "nat\n",
      "joe\n",
      "jill\n",
      "eric\n",
      "audrey\n"
     ]
    }
   ],
   "source": [
    "for x in reversed(sorted(grades.keys())):\n",
    "    print(x)"
   ]
  },
  {
   "cell_type": "code",
   "execution_count": 93,
   "metadata": {},
   "outputs": [
    {
     "name": "stdout",
     "output_type": "stream",
     "text": [
      "True\n"
     ]
    }
   ],
   "source": [
    "print((1,2,3) < (1,2,4))"
   ]
  },
  {
   "cell_type": "code",
   "execution_count": 94,
   "metadata": {},
   "outputs": [
    {
     "name": "stdout",
     "output_type": "stream",
     "text": [
      "True\n"
     ]
    }
   ],
   "source": [
    "print([1,2,3] < [1,2,4])"
   ]
  },
  {
   "cell_type": "code",
   "execution_count": 95,
   "metadata": {},
   "outputs": [
    {
     "name": "stdout",
     "output_type": "stream",
     "text": [
      "True\n"
     ]
    }
   ],
   "source": [
    "print('ABC' < 'C' < 'Pascal' < 'Python')"
   ]
  },
  {
   "cell_type": "code",
   "execution_count": 96,
   "metadata": {},
   "outputs": [
    {
     "name": "stdout",
     "output_type": "stream",
     "text": [
      "True\n"
     ]
    }
   ],
   "source": [
    "print((1,2,3,4) < (1,2,4))"
   ]
  },
  {
   "cell_type": "code",
   "execution_count": 97,
   "metadata": {},
   "outputs": [
    {
     "name": "stdout",
     "output_type": "stream",
     "text": [
      "True\n"
     ]
    }
   ],
   "source": [
    "print((1,2) < (1,2,-1))"
   ]
  },
  {
   "cell_type": "code",
   "execution_count": 98,
   "metadata": {},
   "outputs": [
    {
     "name": "stdout",
     "output_type": "stream",
     "text": [
      "True\n"
     ]
    }
   ],
   "source": [
    "print((1, 2, 3) == (1.0, 2.0, 3.0))"
   ]
  },
  {
   "cell_type": "code",
   "execution_count": 99,
   "metadata": {},
   "outputs": [
    {
     "name": "stdout",
     "output_type": "stream",
     "text": [
      "True\n"
     ]
    }
   ],
   "source": [
    "print( (1,2,('aa', 'ab')) < (1,2,('abc','a'),4) )"
   ]
  },
  {
   "cell_type": "markdown",
   "metadata": {},
   "source": [
    "---\n",
    "\n",
    "## Exercises 3\n",
    "\n",
    "### Exercise Set 1"
   ]
  },
  {
   "cell_type": "code",
   "execution_count": 100,
   "metadata": {},
   "outputs": [
    {
     "name": "stdout",
     "output_type": "stream",
     "text": [
      "Hello\n",
      "Hello\n",
      "Hello\n",
      "Hello\n",
      "Hello\n"
     ]
    }
   ],
   "source": [
    "for i in range(5):\n",
    "    print('Hello')"
   ]
  },
  {
   "cell_type": "code",
   "execution_count": 101,
   "metadata": {},
   "outputs": [
    {
     "name": "stdout",
     "output_type": "stream",
     "text": [
      "0\n",
      "1\n",
      "2\n",
      "3\n",
      "4\n"
     ]
    }
   ],
   "source": [
    "for i in range(5):\n",
    "    print(i)"
   ]
  },
  {
   "cell_type": "code",
   "execution_count": 102,
   "metadata": {},
   "outputs": [
    {
     "name": "stdout",
     "output_type": "stream",
     "text": [
      "0\n",
      "Hello\n",
      "1\n",
      "Hello\n",
      "2\n",
      "Hello\n",
      "3\n",
      "Hello\n",
      "4\n",
      "Hello\n"
     ]
    }
   ],
   "source": [
    "for i in range(5):\n",
    "    print(i)\n",
    "    print('Hello')"
   ]
  },
  {
   "cell_type": "markdown",
   "metadata": {},
   "source": [
    "### Exercise Set 2"
   ]
  },
  {
   "cell_type": "code",
   "execution_count": 103,
   "metadata": {},
   "outputs": [
    {
     "name": "stdout",
     "output_type": "stream",
     "text": [
      "0 S\n",
      "1 u\n",
      "2 n\n",
      "3 d\n",
      "4 e\n",
      "5 v\n",
      "6 i\n",
      "7 l\n",
      "8 s\n"
     ]
    }
   ],
   "source": [
    "strg = 'Sundevils'\n",
    "for i in range(len(strg)):\n",
    "    print(i, strg[i])"
   ]
  },
  {
   "cell_type": "code",
   "execution_count": 104,
   "metadata": {},
   "outputs": [
    {
     "name": "stdout",
     "output_type": "stream",
     "text": [
      "0 10\n",
      "1 20\n",
      "2 30\n",
      "10\n",
      "20\n",
      "30\n"
     ]
    }
   ],
   "source": [
    "lst = [10, 20, 30]\n",
    "for i in range(len(lst)):\n",
    "    print(i, lst[i])\n",
    "\n",
    "for l in lst:\n",
    "    print(l)"
   ]
  },
  {
   "cell_type": "code",
   "execution_count": 105,
   "metadata": {},
   "outputs": [
    {
     "name": "stdout",
     "output_type": "stream",
     "text": [
      "0 10 100\n",
      "1 20 200\n",
      "2 30 300\n",
      "10 100\n",
      "20 200\n",
      "30 300\n"
     ]
    }
   ],
   "source": [
    "lst1 = [10, 20, 30]\n",
    "lst2 = [100, 200, 300]\n",
    "for i in range(len(lst1)):\n",
    "    print(i, lst1[i], lst2[i])\n",
    "\n",
    "for l1, l2 in zip(lst1, lst2):\n",
    "    print(l1, l2)"
   ]
  },
  {
   "cell_type": "code",
   "execution_count": 106,
   "metadata": {},
   "outputs": [
    {
     "name": "stdout",
     "output_type": "stream",
     "text": [
      "A 100\n",
      "B 200\n",
      "C 300\n",
      "C 300\n",
      "B 200\n",
      "A 100\n"
     ]
    }
   ],
   "source": [
    "mydictionary = {'A': 100, 'B': 200, 'C':300}\n",
    "for k in sorted(mydictionary.keys()):\n",
    "    print(k, mydictionary[k])\n",
    "\n",
    "for k in reversed(sorted(mydictionary.keys())):\n",
    "    print(k, mydictionary[k])"
   ]
  },
  {
   "cell_type": "code",
   "execution_count": 107,
   "metadata": {},
   "outputs": [
    {
     "name": "stdout",
     "output_type": "stream",
     "text": [
      "0 0\n",
      "1 1\n",
      "2 3\n",
      "3 6\n",
      "4 10\n",
      "10\n"
     ]
    }
   ],
   "source": [
    "sumi = 0\n",
    "for i in range(5):\n",
    "    sumi = sumi + i\n",
    "    print(i, sumi)\n",
    "\n",
    "print(sumi)"
   ]
  },
  {
   "cell_type": "markdown",
   "metadata": {},
   "source": [
    "### Exercise Set 3\n",
    "- Let’s say you had a list:<br>\n",
    "P = [10, 20, 30]\n",
    "- Use a “for” loop with the range function to find the sum of the elements of the list.\n",
    "- Print the index, list element, and sum in each iteration of the “for” loop\n",
    "- Print the final sum."
   ]
  },
  {
   "cell_type": "code",
   "execution_count": 108,
   "metadata": {},
   "outputs": [
    {
     "name": "stdout",
     "output_type": "stream",
     "text": [
      "0 10 10\n",
      "1 20 30\n",
      "2 30 60\n",
      "60\n"
     ]
    }
   ],
   "source": [
    "P = [10, 20, 30]\n",
    "\n",
    "sumP = 0\n",
    "for i in range(len(P)):\n",
    "    sumP += P[i]\n",
    "    print(i, P[i], sumP)\n",
    "\n",
    "print(sumP)"
   ]
  },
  {
   "cell_type": "markdown",
   "metadata": {},
   "source": [
    "### Exercise Set 4\n",
    "- Let’s sat you had two lists: <br>\n",
    "P = [1, 2, 3] <br>\n",
    "Q = [10, 20, 30]\n",
    "- Use a single “for” loop with the range function to find the sums of the elements of the two lists.\n",
    "- Print the two lists, and sum of the elements for the two lists, in user-friendly format"
   ]
  },
  {
   "cell_type": "code",
   "execution_count": 109,
   "metadata": {},
   "outputs": [
    {
     "name": "stdout",
     "output_type": "stream",
     "text": [
      "Number # 0 Element in the list\n",
      "Current P value : 1 Current Q value : 10\n",
      "current sum of P : 1\n",
      "current sum of Q : 10\n",
      "Current sum of both lists P and Q: 11\n",
      "\n",
      "Number # 1 Element in the list\n",
      "Current P value : 2 Current Q value : 20\n",
      "current sum of P : 3\n",
      "current sum of Q : 30\n",
      "Current sum of both lists P and Q: 33\n",
      "\n",
      "Number # 2 Element in the list\n",
      "Current P value : 3 Current Q value : 30\n",
      "current sum of P : 6\n",
      "current sum of Q : 60\n",
      "Current sum of both lists P and Q: 66\n",
      "\n"
     ]
    }
   ],
   "source": [
    "P = [1,2,3]\n",
    "Q = [10,20,30]\n",
    "sumP = 0\n",
    "sumQ = 0\n",
    "sumPQ = 0\n",
    "\n",
    "for i in range(len(P)):\n",
    "    sumP += P[i]\n",
    "    sumQ += Q[i]\n",
    "    sumPQ += P[i] + Q[i]\n",
    "    print('Number #', i, 'Element in the list')\n",
    "    print('Current P value :', P[i], 'Current Q value :', Q[i])\n",
    "    print('current sum of P :', sumP)\n",
    "    print('current sum of Q :', sumQ)\n",
    "    print('Current sum of both lists P and Q:', sumPQ)\n",
    "    print()"
   ]
  },
  {
   "cell_type": "markdown",
   "metadata": {},
   "source": [
    "### Exercise Set 5\n",
    "- Let’s sat you had two lists: <br>\n",
    "P = [1, 2, 3] <br>\n",
    "Q = [10, 20, 30]\n",
    "- Use a single “for” loop with the range function to find the Manhattan distance between the two lists.\n",
    "- Print the two lists, Manhattan distance between the two lists, in user-friendly format"
   ]
  },
  {
   "cell_type": "code",
   "execution_count": 110,
   "metadata": {},
   "outputs": [
    {
     "name": "stdout",
     "output_type": "stream",
     "text": [
      "P[ 0 ] = 1\n",
      "Q[ 0 ] = 10\n",
      "Distance between P[ 0 ] and Q[ 0 ] is: 9\n",
      "P[ 1 ] = 2\n",
      "Q[ 1 ] = 20\n",
      "Distance between P[ 1 ] and Q[ 1 ] is: 18\n",
      "P[ 2 ] = 3\n",
      "Q[ 2 ] = 30\n",
      "Distance between P[ 2 ] and Q[ 2 ] is: 27\n",
      "\n",
      "The Manhattan Distance Between P and Q is: 54.0\n"
     ]
    }
   ],
   "source": [
    "P = [1,2,3]\n",
    "Q = [10,20,30]\n",
    "\n",
    "Manhattan = 0\n",
    "\n",
    "for i in range(3):\n",
    "    Manhattan += math.fabs(Q[i] - P[i])\n",
    "    print('P[',i,'] =', P[i])\n",
    "    print('Q[',i,'] =', Q[i])\n",
    "    print(\"Distance between P[\",i,\"] and Q[\",i,\"] is:\",Q[i] - P[i] )\n",
    "\n",
    "print()\n",
    "print('The Manhattan Distance Between P and Q is:', round(Manhattan,2))"
   ]
  },
  {
   "cell_type": "markdown",
   "metadata": {},
   "source": [
    "### Exercise Set 6\n",
    "- Let’s sat you had two lists:\n",
    "  - P = [1, 2, 3]\n",
    "  - Q = [10, 20, 30]\n",
    "- Use a single “for” loop with the range function to find the Manhattan, Euclidean, and Minkowski (r=3) distances between the two lists.\n",
    "- Print the two lists, and the Manhattan, Euclidean and Minkowski (r=3) distances between the two lists, in user-friendly format"
   ]
  },
  {
   "cell_type": "code",
   "execution_count": 111,
   "metadata": {},
   "outputs": [
    {
     "name": "stdout",
     "output_type": "stream",
     "text": [
      "P[ 0 ] = 1\n",
      "Q[ 0 ] = 10\n",
      "Manhattan: 9.0\n",
      "Euclidean: 99.0\n",
      "Minkowski: 999.0\n",
      "\n",
      "P[ 1 ] = 2\n",
      "Q[ 1 ] = 20\n",
      "Manhattan: 27.0\n",
      "Euclidean: 495.0\n",
      "Minkowski: 8991.0\n",
      "\n",
      "P[ 2 ] = 3\n",
      "Q[ 2 ] = 30\n",
      "Manhattan: 54.0\n",
      "Euclidean: 1386.0\n",
      "Minkowski: 35964.0\n",
      "\n",
      "\n",
      "Final\n",
      "Manhattan: 54.0\n",
      "Euclidean: 37.23\n",
      "Minkowski: 33.01\n"
     ]
    }
   ],
   "source": [
    "P = [1,2,3]\n",
    "Q = [10,20,30]\n",
    "\n",
    "Manhattan = 0 \n",
    "Euclidean = 0\n",
    "Minkowski = 0\n",
    "r = 3\n",
    "\n",
    "for i in range(3):\n",
    "    print('P[',i,'] =', P[i])\n",
    "    print('Q[',i,'] =', Q[i])\n",
    "    Manhattan += math.fabs(Q[i] - P[i])\n",
    "    Euclidean += math.fabs((Q[i] ** 2) - (P[i] **2))\n",
    "    Minkowski += math.fabs((Q[i] ** r) - (P[i] **r))\n",
    "    print('Manhattan:', Manhattan)\n",
    "    print('Euclidean:', Euclidean)\n",
    "    print('Minkowski:', Minkowski)\n",
    "    print()\n",
    "\n",
    "print()\n",
    "print('Final')\n",
    "print('Manhattan:', round(Manhattan,2))\n",
    "print('Euclidean:', round(Euclidean ** 0.5, 2))\n",
    "print('Minkowski:', round(Minkowski ** (1/r),2))\n",
    "\n"
   ]
  },
  {
   "cell_type": "markdown",
   "metadata": {},
   "source": [
    "### Exercise Set 7\n",
    "- Let’s say we have two lists:\n",
    "  - P = [1, 2, 3, 4, 5]\n",
    "  - Q = [10, 20, 30, 40, 50]\n",
    "- Pearson Correlation (computationally efficient form):\n",
    "<p style=\"text-align:center;\">\n",
    "    $r = \\frac{{}\\sum_{i=1}^{n-1} (p_i q_i) - \\frac{\\sum_{i=1}^{n} p_i \\sum_{i=1}^{n} p_i}{n}}\n",
    "    { \\sqrt{ \\sum_{i=1}^{n} p_i^2 - \\frac{(\\sum_{i=1}^{n} p_i)^2}{n}} \\sqrt{ \\sum_{i=1}^{n} q_i^2 - \\frac{(\\sum_{i=1}^{n} q_i)^2}{n} }}$\n",
    "</p>\n",
    "\n",
    "- Use a single for loop and zip function to calculate the Pearson Correlation between the two lists."
   ]
  },
  {
   "cell_type": "code",
   "execution_count": 112,
   "metadata": {},
   "outputs": [
    {
     "name": "stdout",
     "output_type": "stream",
     "text": [
      "550\n",
      "15\n",
      "150\n",
      "55\n",
      "5500\n",
      "P =  [1, 2, 3, 4, 5]\n",
      "Q =  [10, 20, 30, 40, 50]\n",
      "Pearson Correlation = 1.0\n"
     ]
    }
   ],
   "source": [
    "P = [1, 2, 3, 4, 5]\n",
    "Q = [10, 20, 30, 40, 50]\n",
    "n = 5\n",
    "\n",
    "sumPQ = 0\n",
    "sumP = 0\n",
    "sumQ = 0\n",
    "sumP2 = 0\n",
    "sumQ2 = 0\n",
    "\n",
    "for p, q in zip(P, Q):\n",
    "    sumPQ += p*q\n",
    "    sumP += p\n",
    "    sumQ += q\n",
    "    sumP2 += p**2\n",
    "    sumQ2 += q**2\n",
    "\n",
    "print(sumPQ)\n",
    "print(sumP)\n",
    "print(sumQ)\n",
    "print(sumP2)\n",
    "print(sumQ2)\n",
    "\n",
    "\n",
    "# Numerator and Denominator\n",
    "nr = sumPQ - ((sumP * sumQ) / n)\n",
    "dr = pow(sumP2 - ((sumP)**2 / n), 0.5) * pow(sumQ2 - ((sumQ)**2 / n), 0.5)\n",
    "\n",
    "# pearson correlation\n",
    "Pearson = nr/dr\n",
    "\n",
    "print('P = ', P)\n",
    "print('Q = ', Q)\n",
    "print('Pearson Correlation =', round(Pearson, 2))"
   ]
  },
  {
   "cell_type": "markdown",
   "metadata": {},
   "source": [
    "### Exercise Set 8\n",
    "- Let’s say User X has rated 5 items (A, B, C, D, E):\n",
    "  - UserXRatingsD = {‘A’:1, ‘B’:2, ‘C’:3, ‘D’:4, ‘E’:5}\n",
    "- Write a for loop to iterate through the ratings dictionary and print the items and ratings, with keys in sorted order."
   ]
  },
  {
   "cell_type": "code",
   "execution_count": 113,
   "metadata": {},
   "outputs": [
    {
     "name": "stdout",
     "output_type": "stream",
     "text": [
      "A 1\n",
      "B 2\n",
      "C 3\n",
      "D 4\n",
      "E 5\n"
     ]
    }
   ],
   "source": [
    "UserXRatingsD = {'A':1, 'B':2, 'C':3, 'D':4, 'E':5}\n",
    "for i in sorted(UserXRatingsD.keys()):\n",
    "    print(i, UserXRatingsD[i])"
   ]
  },
  {
   "cell_type": "markdown",
   "metadata": {},
   "source": [
    "### Exercise Set 9\n",
    "- Let’s say Users X and Y have rated 5 items (A, B, C, D, E):\n",
    "  - UserXRatingsD = {‘A’:1, ‘B’:2, ‘C’:3, ‘D’:4, ‘E’:5}\n",
    "  - UserYRatingsD = {‘A’:10, ‘B’:20, ‘C’:30, ‘D’:40, ‘E’:50}\n",
    "- Use a single for loop to iterate through the ratings dictionary and print the items and ratings, with keys in sorted order."
   ]
  },
  {
   "cell_type": "code",
   "execution_count": 114,
   "metadata": {},
   "outputs": [
    {
     "name": "stdout",
     "output_type": "stream",
     "text": [
      "A 1 10\n",
      "B 2 20\n",
      "C 3 30\n",
      "D 4 40\n",
      "E 5 50\n"
     ]
    }
   ],
   "source": [
    "UserXRatingsD = {'A':1, 'B':2, 'C':3, 'D':4, 'E':5}\n",
    "UserYRatingsD = {'A':10, 'B':20, 'C':30, 'D':40, 'E':50}\n",
    "\n",
    "for i in sorted(UserXRatingsD.keys()):\n",
    "    print(i, UserXRatingsD[i], UserYRatingsD[i])"
   ]
  },
  {
   "cell_type": "markdown",
   "metadata": {},
   "source": [
    "### Exercise Set 10\n",
    "- Let’s say Users X and Y have rated 5 items (A, B, C, D, E):\n",
    "  - UserXRatingsD = {‘A’:1, ‘B’:2, ‘C’:3, ‘D’:4, ‘E’:5}\n",
    "  - UserYRatingsD = {‘A’:10, ‘B’:20, ‘C’:30, ‘D’:40, ‘E’:50}\n",
    "- Use a single for loop to iterate through the ratings and find the Manhattan Distance between the ratings. "
   ]
  },
  {
   "cell_type": "code",
   "execution_count": 115,
   "metadata": {},
   "outputs": [
    {
     "name": "stdout",
     "output_type": "stream",
     "text": [
      "135.0\n"
     ]
    }
   ],
   "source": [
    "UserXRatingsD = {'A':1, 'B':2, 'C':3, 'D':4, 'E':5}\n",
    "UserYRatingsD = {'A':10, 'B':20, 'C':30, 'D':40, 'E':50}\n",
    "\n",
    "MD = 0\n",
    "for i in sorted(UserXRatingsD.keys()):\n",
    "    MD += math.fabs(UserXRatingsD[i] - UserYRatingsD[i])\n",
    "\n",
    "print(round(MD,2))"
   ]
  },
  {
   "cell_type": "markdown",
   "metadata": {},
   "source": [
    "### Exercise Set 11\n",
    "- Let’s say Users X and Y have rated 5 items (A, B, C, D, E):\n",
    "  - UserRatingsND = {‘X’: {‘A’:10, ‘B’:20, ‘C’:30, ‘D’:40, ‘E’:50},‘Y’: {‘A’:100, ‘B’:200, ‘C’:300, ‘D’:400, ‘E’:500}}\n",
    "- Assign the User X item-ratings to a dictionary called UserXRatingsD, and the User Y item-ratings to a dictionary called UserYRatingsD.\n",
    "- Use a single for loop to iterate through UserXRatingsD and print the items and ratings, with keys in sorted order."
   ]
  },
  {
   "cell_type": "code",
   "execution_count": 116,
   "metadata": {},
   "outputs": [
    {
     "name": "stdout",
     "output_type": "stream",
     "text": [
      "A 10 100\n",
      "B 20 200\n",
      "C 30 300\n",
      "D 40 400\n",
      "E 50 500\n"
     ]
    }
   ],
   "source": [
    "UserRatingsND = {'X':{'A':10, 'B':20, 'C':30, 'D':40, 'E':50},\n",
    "                 'Y':{'A':100, 'B':200, 'C':300, 'D':400, 'E':500}}\n",
    "\n",
    "UserXRatingsD = UserRatingsND['X']\n",
    "UserYRatingsD = UserRatingsND['Y']\n",
    "\n",
    "for k in sorted(UserXRatingsD.keys()):\n",
    "    print(k, UserXRatingsD[k], UserYRatingsD[k])"
   ]
  },
  {
   "cell_type": "markdown",
   "metadata": {},
   "source": [
    "---\n",
    "\n",
    "## Control Flow and Functions\n",
    "\n",
    "[Control Flow Tutorial](https://docs.python.org/3/tutorial/controlflow.html)"
   ]
  },
  {
   "cell_type": "markdown",
   "metadata": {},
   "source": [
    "### `while` loop\n",
    "\n",
    "Evaluate the condition, run (iterate) when `true`.\n"
   ]
  },
  {
   "cell_type": "code",
   "execution_count": 117,
   "metadata": {},
   "outputs": [
    {
     "name": "stdout",
     "output_type": "stream",
     "text": [
      "inside while loop: 0\n",
      "inside while loop: 1\n",
      "inside while loop: 2\n",
      "inside while loop: 3\n",
      "inside while loop: 4\n",
      "Final value of i = 5\n"
     ]
    }
   ],
   "source": [
    "i = 0\n",
    "while (i < 5):\n",
    "    print('inside while loop:',i)\n",
    "    i += 1 # increment by 1\n",
    "\n",
    "print('Final value of i =', i)"
   ]
  },
  {
   "cell_type": "code",
   "execution_count": 118,
   "metadata": {},
   "outputs": [
    {
     "name": "stdout",
     "output_type": "stream",
     "text": [
      "inside while loop: 0\n",
      "inside while loop: 1\n",
      "inside while loop: 2\n",
      "inside while loop: 3\n",
      "inside while loop: 4\n"
     ]
    }
   ],
   "source": [
    "# in comparison with for loop\n",
    "for i in range(5):\n",
    "    print('inside while loop:',i)"
   ]
  },
  {
   "cell_type": "code",
   "execution_count": 119,
   "metadata": {},
   "outputs": [
    {
     "name": "stdout",
     "output_type": "stream",
     "text": [
      "1, 1, 2, 3, 5, 8, 13, 21, 34, 55, 89, \n",
      "Final Value of a, b =  89 144 repectively\n"
     ]
    }
   ],
   "source": [
    "a, b = 0, 1\n",
    "while (b < 100):\n",
    "    print(b, end=', ')\n",
    "    a, b = b, a + b\n",
    "\n",
    "print()\n",
    "print('Final Value of a, b = ', a, b, 'repectively')"
   ]
  },
  {
   "cell_type": "markdown",
   "metadata": {},
   "source": [
    "### `if`, `elif`, `else` statement\n",
    "\n",
    "`if ` runs when `true`, else pass it onto the next testing condition (`elif` or `else` for every `elif` has not been run)\n"
   ]
  },
  {
   "cell_type": "code",
   "execution_count": 120,
   "metadata": {},
   "outputs": [
    {
     "name": "stdout",
     "output_type": "stream",
     "text": [
      "First Test\n",
      "Words start with P\n",
      "\n",
      "Second Test\n",
      "Words end with n\n",
      "\n",
      "Third Test\n",
      "Unknown words\n"
     ]
    }
   ],
   "source": [
    "words = 'Python'\n",
    "\n",
    "print('First Test')\n",
    "if (words.startswith('P')):\n",
    "    print('Words start with P')\n",
    "elif (words.endswith('n')):\n",
    "    print('Words end with n') # will not run\n",
    "\n",
    "print()\n",
    "\n",
    "\n",
    "print('Second Test')\n",
    "if (words.startswith('J')):\n",
    "    print('Words start with J') # will not run\n",
    "elif (words.endswith('n')):\n",
    "    print('Words end with n')\n",
    "\n",
    "    \n",
    "print()\n",
    "print('Third Test')\n",
    "if (words.startswith('J')):\n",
    "    print('Words start with J') # will not run\n",
    "elif (words.endswith('y')):\n",
    "    print('Words end with y') # will not run\n",
    "else:\n",
    "    print('Unknown words')\n"
   ]
  },
  {
   "cell_type": "markdown",
   "metadata": {},
   "source": [
    "### `for` loop\n",
    "\n",
    "Loop through iterables (list, tuple, string)"
   ]
  },
  {
   "cell_type": "code",
   "execution_count": 121,
   "metadata": {},
   "outputs": [
    {
     "name": "stdout",
     "output_type": "stream",
     "text": [
      "cat 3\n",
      "dog 3\n",
      "cow 3\n",
      "parrot 6\n",
      "hamster 7\n",
      "goat 4\n"
     ]
    }
   ],
   "source": [
    "pets = ['cat', 'dog', 'cow', 'parrot', 'hamster', 'goat']\n",
    "for p in pets:\n",
    "    print(p, len(p))"
   ]
  },
  {
   "cell_type": "markdown",
   "metadata": {},
   "source": [
    "### `break` statement\n",
    "\n",
    "break (stop) the loop"
   ]
  },
  {
   "cell_type": "code",
   "execution_count": 122,
   "metadata": {},
   "outputs": [
    {
     "name": "stdout",
     "output_type": "stream",
     "text": [
      "without break\n",
      "value of n is 1\n",
      "Found even number 2\n",
      "value of n is 3\n",
      "Found even number 4\n",
      "value of n is 5\n",
      "Found even number 6\n",
      "value of n is 7\n",
      "Found even number 8\n",
      "value of n is 9\n",
      "\n",
      "with break\n",
      "Found even number 2\n"
     ]
    }
   ],
   "source": [
    "print('without break')\n",
    "for n in range(1,10):\n",
    "    if n % 2 == 0:\n",
    "        print('Found even number', n)\n",
    "    else:\n",
    "        print('value of n is', n)\n",
    "\n",
    "print()\n",
    "print('with break')\n",
    "for n in range(1,10):\n",
    "    if n % 2 == 0:\n",
    "        print('Found even number', n)\n",
    "        break"
   ]
  },
  {
   "cell_type": "code",
   "execution_count": 123,
   "metadata": {},
   "outputs": [
    {
     "name": "stdout",
     "output_type": "stream",
     "text": [
      "all numbers are odds number\n"
     ]
    }
   ],
   "source": [
    "for n in range(1,10,2):\n",
    "    if n % 2 == 0:\n",
    "        print('found even number', n)\n",
    "        break\n",
    "else:\n",
    "    print('all numbers are odds number')"
   ]
  },
  {
   "cell_type": "markdown",
   "metadata": {},
   "source": [
    "## `continue` statement\n",
    "\n",
    "`continue` statement stops this iteration and starts the next iteration from the beginning"
   ]
  },
  {
   "cell_type": "code",
   "execution_count": 124,
   "metadata": {},
   "outputs": [
    {
     "name": "stdout",
     "output_type": "stream",
     "text": [
      "with continue\n",
      "found even number 0\n",
      "not even number 1\n",
      "found even number 2\n",
      "not even number 3\n",
      "found even number 4\n",
      "not even number 5\n",
      "found even number 6\n",
      "not even number 7\n",
      "found even number 8\n",
      "not even number 9\n",
      "\n",
      "without continue\n",
      "found even number 0\n",
      "number 0\n",
      "number 1\n",
      "found even number 2\n",
      "number 2\n",
      "number 3\n",
      "found even number 4\n",
      "number 4\n",
      "number 5\n",
      "found even number 6\n",
      "number 6\n",
      "number 7\n",
      "found even number 8\n",
      "number 8\n",
      "number 9\n"
     ]
    }
   ],
   "source": [
    "print('with continue')\n",
    "for n in range(10):\n",
    "    if n % 2 == 0:\n",
    "        print('found even number', n)\n",
    "        continue\n",
    "    print('not even number', n) # wont run when n is even\n",
    "\n",
    "print()\n",
    "print('without continue')\n",
    "for n in range(10):\n",
    "    if n % 2 == 0:\n",
    "        print('found even number', n)\n",
    "    print('number', n) # run every time"
   ]
  },
  {
   "cell_type": "markdown",
   "metadata": {},
   "source": [
    "### `pass` statement\n",
    "\n",
    "Basically means I'm doing nothing. <br>\n",
    "Think of it as a placeholder when you're testing your code but don't want anything else to run"
   ]
  },
  {
   "cell_type": "code",
   "execution_count": 125,
   "metadata": {},
   "outputs": [],
   "source": [
    "# while (True):    # infinite loop\n",
    "#     pass         # will not return anything but still running (until you kill it!)"
   ]
  },
  {
   "cell_type": "code",
   "execution_count": 126,
   "metadata": {},
   "outputs": [
    {
     "name": "stdout",
     "output_type": "stream",
     "text": [
      " ----------- \n",
      "-1\n",
      "0\n",
      "1\n",
      "2\n",
      "3\n",
      "4\n",
      "5\n",
      "6\n",
      "7\n",
      "8\n",
      "9\n",
      " ----------- \n",
      "condition is False\n"
     ]
    }
   ],
   "source": [
    "# test\n",
    "for i in range(1, -10, 2):\n",
    "    print(i, end=', ')\n",
    "\n",
    "print(' ----------- ')\n",
    "\n",
    "n = -1\n",
    "while n < 10:\n",
    "    print(n)\n",
    "    n += 1\n",
    "\n",
    "print(' ----------- ')\n",
    "\n",
    "if (5 < 3):\n",
    "    print('condition is True')\n",
    "else:\n",
    "    print('condition is False')"
   ]
  },
  {
   "cell_type": "markdown",
   "metadata": {},
   "source": [
    "## Detour: Objects, Names & Bindings\n",
    "\n",
    "- **Mutable Objects**\n",
    "  - A mutable object exhibit time-varying behavior\n",
    "  - Changes to a mutable object are visible through all **Names Bound** to it\n",
    "  - e.g. Python **List**\n",
    "\n",
    "> this is allowed <br>\n",
    "> `myList = [1, 2, 3]\n",
    "myList[0] = 2`\n",
    "\n",
    "- **Immutable Obejcts**\n",
    "  - A immutable object exhibit non time-varying behavior\n",
    "  - The value of immutable object cannot be modified after they are created\n",
    "  - They can, however, be used to compute the values of new objects\n",
    "  - e.g. **string, integer**\n",
    "\n",
    "> this is not allowed <br>\n",
    "> `myWord = 'Fred'\n",
    "myWord[0] = 'B'`\n",
    "\n",
    "\n",
    "- What we commonly refer to as ***variables*** in Python are more properly called **Names**\n",
    "- Likewise, ***assignment*** is really the **Binding** of a **Name** to an **Object**\n",
    "- Each Binding has a Scope that defines its visibility (usually the Block which Name originates)\n",
    "\n",
    "\n",
    "- Simply put, when you ASSIGN a VARIABLE, what you're really doing is **CREATE AN OBJECT and A HANDLE(Name) at the same time, and BIND them together**. An object can be bound with multiple HANDLES(names), but a handle can only bind to an OBJECT. When you update something, it's being done on the OBJECT through using the HANDLES(names)\n"
   ]
  },
  {
   "cell_type": "code",
   "execution_count": 127,
   "metadata": {},
   "outputs": [
    {
     "name": "stdout",
     "output_type": "stream",
     "text": [
      "Bill\n",
      "['Fred', 'George']\n",
      "['Fred', 'George']\n"
     ]
    }
   ],
   "source": [
    "\n",
    "some_guy = 'Fred'\n",
    "\n",
    "first_names = []\n",
    "\n",
    "first_names.append(some_guy)\n",
    "\n",
    "another_list_of_first_names = first_names\n",
    "\n",
    "another_list_of_first_names.append('George')\n",
    "\n",
    "some_guy = 'Bill'\n",
    "\n",
    "print(some_guy)\n",
    "print(first_names)\n",
    "print(another_list_of_first_names)\n"
   ]
  },
  {
   "cell_type": "code",
   "execution_count": 128,
   "metadata": {},
   "outputs": [
    {
     "name": "stdout",
     "output_type": "stream",
     "text": [
      "True\n",
      "True\n",
      "a = [1, 2, 10]\n",
      "b = [1, 2, 10]\n"
     ]
    }
   ],
   "source": [
    "a = [1,2,3]\n",
    "b = a\n",
    "print(b is a) # check if both name bing to same object\n",
    "\n",
    "b[2] = 10\n",
    "print(b is a)\n",
    "print('a =', a)\n",
    "print('b =', b)\n"
   ]
  },
  {
   "cell_type": "code",
   "execution_count": 129,
   "metadata": {},
   "outputs": [
    {
     "name": "stdout",
     "output_type": "stream",
     "text": [
      "False\n",
      "a = [1, 2, 3]\n",
      "c = [1, 2, 10]\n"
     ]
    }
   ],
   "source": [
    "a = [1, 2, 3] # 1st object\n",
    "c = [] # 2nd object\n",
    "\n",
    "c[:] = a[:] # take all the \"ELEMENTS\" in 'a (1st object)' and copy it to 'c (2nd object)'\n",
    "\n",
    "print(c is a) # they are in two different location of memory!\n",
    "\n",
    "c[2] = 10 # modify 2nd object\n",
    "\n",
    "print('a =', a)\n",
    "print('c =', c)"
   ]
  },
  {
   "cell_type": "markdown",
   "metadata": {},
   "source": [
    "---\n",
    "\n",
    "## Functions"
   ]
  },
  {
   "cell_type": "code",
   "execution_count": 130,
   "metadata": {},
   "outputs": [],
   "source": [
    "def fib(n):\n",
    "    # n is the input parameter\n",
    "    # what it does:\n",
    "    result = []\n",
    "    a, b = 0, 1\n",
    "    \n",
    "    # n here means the number of time of the iteration\n",
    "    for i in range(n):\n",
    "        result.append(b)\n",
    "        a, b = b, a+b\n",
    "    \n",
    "    # what will I get back when I call a function\n",
    "    return result "
   ]
  },
  {
   "cell_type": "code",
   "execution_count": 131,
   "metadata": {},
   "outputs": [
    {
     "name": "stdout",
     "output_type": "stream",
     "text": [
      "None\n"
     ]
    }
   ],
   "source": [
    "print(fib.__doc__)"
   ]
  },
  {
   "cell_type": "code",
   "execution_count": 132,
   "metadata": {},
   "outputs": [
    {
     "name": "stdout",
     "output_type": "stream",
     "text": [
      "[1, 1, 2, 3, 5, 8, 13, 21, 34, 55]\n",
      "10\n",
      "\n",
      "[1, 1, 2, 3, 5, 8, 13, 21, 34, 55, 89, 144, 233, 377, 610]\n",
      "15\n"
     ]
    }
   ],
   "source": [
    "print(fib(10))\n",
    "print(len(fib(10)))\n",
    "print()\n",
    "\n",
    "print(fib(15))\n",
    "print(len(fib(15)))"
   ]
  },
  {
   "cell_type": "code",
   "execution_count": 133,
   "metadata": {},
   "outputs": [
    {
     "name": "stdout",
     "output_type": "stream",
     "text": [
      "55\n"
     ]
    }
   ],
   "source": [
    "print(fib(10)[9])"
   ]
  },
  {
   "cell_type": "code",
   "execution_count": 134,
   "metadata": {},
   "outputs": [
    {
     "name": "stdout",
     "output_type": "stream",
     "text": [
      "old value\n",
      "new value\n",
      "old value\n"
     ]
    }
   ],
   "source": [
    "def foo(bar):\n",
    "    print(bar)\n",
    "    bar = 'new value' # immutable\n",
    "    print(bar)\n",
    "\n",
    "answer = 'old value'\n",
    "foo(answer)\n",
    "\n",
    "print(answer)"
   ]
  },
  {
   "cell_type": "code",
   "execution_count": 135,
   "metadata": {},
   "outputs": [
    {
     "name": "stdout",
     "output_type": "stream",
     "text": [
      "[]\n",
      "[42]\n",
      "[42]\n"
     ]
    }
   ],
   "source": [
    "def foo(bar):\n",
    "    print(bar)\n",
    "    bar.append(42) # mutable\n",
    "    print(bar)\n",
    "\n",
    "answer_list = []\n",
    "foo(answer_list)\n",
    "\n",
    "print(answer_list)"
   ]
  },
  {
   "cell_type": "markdown",
   "metadata": {},
   "source": [
    "### `global`"
   ]
  },
  {
   "cell_type": "code",
   "execution_count": 136,
   "metadata": {},
   "outputs": [
    {
     "name": "stdout",
     "output_type": "stream",
     "text": [
      "#1 Main: 10 20 30\n",
      "demoFunc: -100 -200 -300\n",
      "#2 Main: 10 20 -300         -> a3 assigned with -300\n",
      "#3 Main: 15 25 35           -> a3 assigned with 35\n",
      "demoFunc: -100 -200 -300\n",
      "#4 Main: 15 25 -300         -> a3 reassigned with -300 again\n"
     ]
    }
   ],
   "source": [
    "def demoFunc (arg1, arg2):\n",
    "    \n",
    "    # declare local variables\n",
    "    a1, a2 = -100, -200\n",
    "    \n",
    "    # declare global variables\n",
    "    global a3\n",
    "    a3 = -300\n",
    "    \n",
    "    print('demoFunc:', a1, a2, a3)\n",
    "\n",
    "\n",
    "a1, a2, a3 = 10, 20, 30\n",
    "print('#1 Main:', a1, a2, a3)\n",
    "\n",
    "demoFunc(a1, a2)\n",
    "print('#2 Main:', a1, a2, a3, '        -> a3 assigned with -300')\n",
    "\n",
    "a1, a2, a3 = a1+5 , a2+5, 35\n",
    "print('#3 Main:', a1, a2, a3, '          -> a3 assigned with 35')\n",
    "\n",
    "demoFunc(a1, a2)\n",
    "print('#4 Main:', a1, a2, a3, '        -> a3 reassigned with -300 again')\n"
   ]
  },
  {
   "cell_type": "markdown",
   "metadata": {},
   "source": [
    "### Default Argument, Positional Argument & Keyword Argument\n"
   ]
  },
  {
   "cell_type": "code",
   "execution_count": 137,
   "metadata": {},
   "outputs": [
    {
     "name": "stdout",
     "output_type": "stream",
     "text": [
      "1000 0 -1 0\n",
      "10 0 -1 0\n",
      "10 100 -1 0\n",
      "10 100 -1 0\n",
      "10 100 1000 0\n",
      "10 100 -1 0\n"
     ]
    }
   ],
   "source": [
    "def func (arg1, arg2=0, arg3=-1, arg4=0):\n",
    "    print(arg1, arg2, arg3, arg4)\n",
    "\n",
    "func(1000)                        # 1 positional argument\n",
    "func(arg1 = 10)                   # 1 keyword argument\n",
    "func(arg1 = 10, arg2 = 100)       # 2 keyword argument\n",
    "func(arg2 = 100, arg1 = 10)       # 2 keyword argument\n",
    "func(10,100,1000)                 # 3 positional argument\n",
    "func(10, arg2 = 100)              # 1 positional argument, 1 keyword argument\n",
    "\n",
    "# note that positional argument always comes first"
   ]
  },
  {
   "cell_type": "code",
   "execution_count": 138,
   "metadata": {},
   "outputs": [
    {
     "name": "stdout",
     "output_type": "stream",
     "text": [
      "Positional ('one', 'two', 'three')\n",
      "Keywords {}\n",
      "\n",
      "Positional ()\n",
      "Keywords {'a': 'one', 'b': 'two', 'c': 'three'}\n",
      "\n",
      "Positional ('one', 'two')\n",
      "Keywords {'c': 'three', 'd': 'four'}\n"
     ]
    }
   ],
   "source": [
    "def foo (*positional, **keywords):\n",
    "    print('Positional', positional)\n",
    "    print('Keywords', keywords)\n",
    "\n",
    "foo('one', 'two', 'three')\n",
    "print()\n",
    "foo(a='one', b='two', c='three')\n",
    "print()\n",
    "foo('one', 'two', c='three', d='four')"
   ]
  },
  {
   "cell_type": "code",
   "execution_count": 139,
   "metadata": {},
   "outputs": [
    {
     "name": "stdout",
     "output_type": "stream",
     "text": [
      "Not Found\n",
      "Found!\n",
      "Not Found\n",
      "\n"
     ]
    }
   ],
   "source": [
    "def isNumberInRange(num, i=25, n=100):\n",
    "    if num in range(i, n):\n",
    "        print('Found!')\n",
    "    else:\n",
    "        print('Not Found')\n",
    "\n",
    "isNumberInRange(20)\n",
    "isNumberInRange(20,0)\n",
    "isNumberInRange(20,0,10)\n",
    "print()"
   ]
  },
  {
   "cell_type": "code",
   "execution_count": 140,
   "metadata": {},
   "outputs": [
    {
     "name": "stdout",
     "output_type": "stream",
     "text": [
      "[1]\n",
      "[1, 2]\n",
      "[1, 2, 3]\n",
      "[1, 2, 3, 2]\n",
      "[1, 2, 3, 2, 1]\n"
     ]
    }
   ],
   "source": [
    "def lstAppend(a, L=[]):\n",
    "    L.append(a)\n",
    "    return L\n",
    "print(lstAppend(1))\n",
    "print(lstAppend(2))\n",
    "print(lstAppend(3))\n",
    "print(lstAppend(2))\n",
    "print(lstAppend(1))"
   ]
  },
  {
   "cell_type": "code",
   "execution_count": 141,
   "metadata": {},
   "outputs": [
    {
     "name": "stdout",
     "output_type": "stream",
     "text": [
      "[1]\n",
      "[2]\n",
      "[3]\n",
      "[2]\n",
      "[1]\n"
     ]
    }
   ],
   "source": [
    "def lstAppend(a, L=None):\n",
    "    if L is None:\n",
    "        L = []\n",
    "    L.append(a)\n",
    "    return L\n",
    "\n",
    "print(lstAppend(1))\n",
    "print(lstAppend(2))\n",
    "print(lstAppend(3))\n",
    "print(lstAppend(2))\n",
    "print(lstAppend(1))"
   ]
  },
  {
   "cell_type": "markdown",
   "metadata": {},
   "source": [
    "---\n",
    "\n",
    "## Exercises 4\n",
    "\n",
    "### Exercise Set 1"
   ]
  },
  {
   "cell_type": "code",
   "execution_count": 142,
   "metadata": {},
   "outputs": [
    {
     "name": "stdout",
     "output_type": "stream",
     "text": [
      "before if statement\n",
      "inside if statement\n",
      "10\n",
      "after if statement\n"
     ]
    }
   ],
   "source": [
    "num = 10\n",
    "\n",
    "print('before if statement')\n",
    "\n",
    "if (num == 10):\n",
    "    print('inside if statement')\n",
    "    print(num)\n",
    "\n",
    "print('after if statement')"
   ]
  },
  {
   "cell_type": "code",
   "execution_count": 143,
   "metadata": {},
   "outputs": [
    {
     "name": "stdout",
     "output_type": "stream",
     "text": [
      "before if statement\n",
      "after if statement\n"
     ]
    }
   ],
   "source": [
    "num = 20\n",
    "\n",
    "print('before if statement')\n",
    "\n",
    "if (num == 10):\n",
    "    print('inside if statement')\n",
    "    print(num)\n",
    "\n",
    "print('after if statement')"
   ]
  },
  {
   "cell_type": "code",
   "execution_count": 144,
   "metadata": {},
   "outputs": [
    {
     "name": "stdout",
     "output_type": "stream",
     "text": [
      "before if statement\n",
      "after if statement\n"
     ]
    }
   ],
   "source": [
    "num1 = 10\n",
    "num2 = 20\n",
    "\n",
    "print('before if statement')\n",
    "\n",
    "if (num1 == 10 and num2 == 10):\n",
    "    print('inside if statement')\n",
    "    print(num1, num2)\n",
    "\n",
    "print('after if statement')"
   ]
  },
  {
   "cell_type": "code",
   "execution_count": 145,
   "metadata": {},
   "outputs": [
    {
     "name": "stdout",
     "output_type": "stream",
     "text": [
      "before if statement\n",
      "inside if statement\n",
      "10 20\n",
      "after if statement\n"
     ]
    }
   ],
   "source": [
    "num1 = 10\n",
    "num2 = 20\n",
    "\n",
    "print('before if statement')\n",
    "\n",
    "if (num1 == 10 or num2 == 10):\n",
    "    print('inside if statement')\n",
    "    print(num1, num2)\n",
    "\n",
    "print('after if statement')"
   ]
  },
  {
   "cell_type": "markdown",
   "metadata": {},
   "source": [
    "### Exercise Set 2"
   ]
  },
  {
   "cell_type": "code",
   "execution_count": 146,
   "metadata": {},
   "outputs": [
    {
     "name": "stdout",
     "output_type": "stream",
     "text": [
      "before if statement\n",
      "after if statement\n"
     ]
    }
   ],
   "source": [
    "UserXRatingsD = {'A': 1,\n",
    "                 'B': 2,\n",
    "                 'C': 3,\n",
    "                 'D': 4,\n",
    "                 'E': 5}\n",
    "\n",
    "print('before if statement')\n",
    "\n",
    "if ('Z' in UserXRatingsD.keys()):\n",
    "    print('key found')\n",
    "\n",
    "print('after if statement')"
   ]
  },
  {
   "cell_type": "markdown",
   "metadata": {},
   "source": [
    "### Exercise Set 3"
   ]
  },
  {
   "cell_type": "code",
   "execution_count": 147,
   "metadata": {},
   "outputs": [
    {
     "name": "stdout",
     "output_type": "stream",
     "text": [
      "0\n",
      "2\n",
      "4\n",
      "6\n",
      "8\n"
     ]
    }
   ],
   "source": [
    "for i in range(10):\n",
    "    if (i % 2 == 0):\n",
    "        print(i)"
   ]
  },
  {
   "cell_type": "markdown",
   "metadata": {},
   "source": [
    "### Exercise Set 4\n",
    "- Let’s say Users X and Y have rated 5 items (A, B, C, D, E):\n",
    "  - UserXRatingsD = {‘A’:1, ‘B’:2, ‘C’:3, ‘D’:4, ‘E’:5}\n",
    "  - UserYRatingsD = {‘A’:10, ‘B’:20, ‘D’:40, ‘E’:50}\n",
    "- Use a single for loop to iterate through the ratings dictionary and print the items and ratings, with keys in sorted order – but print the item and ratings only if the item was rated by both users.\n",
    "\n"
   ]
  },
  {
   "cell_type": "code",
   "execution_count": 148,
   "metadata": {},
   "outputs": [
    {
     "name": "stdout",
     "output_type": "stream",
     "text": [
      "A 1 10\n",
      "B 2 20\n",
      "D 4 40\n",
      "E 5 50\n"
     ]
    }
   ],
   "source": [
    "UserXRatingsD = {'A': 1,\n",
    "                 'B': 2,\n",
    "                 'C': 3,\n",
    "                 'D': 4,\n",
    "                 'E': 5}\n",
    "\n",
    "UserYRatingsD = {'A': 10,\n",
    "                 'B': 20,\n",
    "                 'D': 40,\n",
    "                 'E': 50}\n",
    "for i in sorted(UserXRatingsD.keys()):\n",
    "    if i in UserYRatingsD.keys():\n",
    "        print(i, UserXRatingsD[i], UserYRatingsD[i])"
   ]
  },
  {
   "cell_type": "markdown",
   "metadata": {},
   "source": [
    "### Exercise Set 5\n",
    "- Let’s say we have two lists:\n",
    "  - UserXRatings = [1, 2, 3, 4, 5]\n",
    "  - UserYRatings = [10, 20, 30, 40, 50]\n",
    "- Use a for loop and zip function to iterate through the two lists and print corresponding elements:"
   ]
  },
  {
   "cell_type": "code",
   "execution_count": 149,
   "metadata": {},
   "outputs": [
    {
     "name": "stdout",
     "output_type": "stream",
     "text": [
      "1 10\n",
      "2 20\n",
      "3 30\n",
      "4 40\n",
      "5 50\n"
     ]
    }
   ],
   "source": [
    "UserXRatings = [1, 2, 3, 4, 5]\n",
    "UserYRatings = [10, 20, 30, 40, 50]\n",
    "\n",
    "for x, y in zip(UserXRatings, UserYRatings):\n",
    "    print(x, y)"
   ]
  },
  {
   "cell_type": "markdown",
   "metadata": {},
   "source": [
    "### Exercise Set 6\n",
    "- Let’s say we have two lists:\n",
    "  - UserXRatings = [1, 2, 3, 4, 5]\n",
    "  - UserYRatings = [10, 20, 30, 40, 50]\n",
    "- Write a function to calculate and return the Minkowski Distance:\n",
    "  - minkowskiL (ratings1, ratings2, r)\n",
    "  - check for common errors/boundary conditions\n",
    "- Call the function as follows, and print the returned values:"
   ]
  },
  {
   "cell_type": "code",
   "execution_count": 150,
   "metadata": {},
   "outputs": [],
   "source": [
    "UserXRatings = [1, 2, 3, 4, 5]\n",
    "UserYRatings = [10, 20, 30, 40, 50]\n",
    "\n",
    "def minkowskiL (ratings1, ratings2, r):\n",
    "    \n",
    "    total = 0\n",
    "    \n",
    "    if len(ratings1) != len(ratings2):\n",
    "        print('Two inputs do now have the same length')\n",
    "    elif r < 1:\n",
    "        print('Value r must be an positive integer')\n",
    "    else:\n",
    "        for i in range(len(ratings1)):\n",
    "            total += (abs(ratings1[i] - ratings2[i]) ** r)\n",
    "\n",
    "    total = round(total ** (1/r), 2)\n",
    "    return total"
   ]
  },
  {
   "cell_type": "code",
   "execution_count": 151,
   "metadata": {},
   "outputs": [
    {
     "name": "stdout",
     "output_type": "stream",
     "text": [
      "135.0\n",
      "66.75\n",
      "54.74\n"
     ]
    }
   ],
   "source": [
    "print(minkowskiL(UserXRatings, UserYRatings, 1))\n",
    "print(minkowskiL(UserXRatings, UserYRatings, 2))\n",
    "print(minkowskiL(UserXRatings, UserYRatings, 3))"
   ]
  },
  {
   "cell_type": "code",
   "execution_count": 152,
   "metadata": {},
   "outputs": [],
   "source": [
    "UserXRatingsD = {'A': 1,\n",
    "                 'B': 2,\n",
    "                 'C': 3,\n",
    "                 'D': 4,\n",
    "                 'E': 5}\n",
    "\n",
    "UserYRatingsD = {'A': 10,\n",
    "                 'B': 20,\n",
    "                 'D': 40,\n",
    "                 'E': 50}\n",
    "\n",
    "\n",
    "def minkowskiD (ratingsD1, ratingsD2, r):\n",
    "    \n",
    "    total = 0\n",
    "    inner = ratingsD1.keys() & ratingsD2.keys()\n",
    "    \n",
    "    if r < 1:\n",
    "        print('Value r must be an positive integer')\n",
    "    else:\n",
    "        for i in inner:\n",
    "            total += (abs(ratingsD1[i] - ratingsD2[i]) ** r)\n",
    "    \n",
    "    total = round(total ** (1/r), 2)\n",
    "    \n",
    "    return total\n"
   ]
  },
  {
   "cell_type": "code",
   "execution_count": 153,
   "metadata": {},
   "outputs": [
    {
     "name": "stdout",
     "output_type": "stream",
     "text": [
      "108.0\n",
      "61.04\n",
      "52.46\n"
     ]
    }
   ],
   "source": [
    "print(minkowskiD(UserXRatingsD, UserYRatingsD, 1))\n",
    "print(minkowskiD(UserXRatingsD, UserYRatingsD, 2))\n",
    "print(minkowskiD(UserXRatingsD, UserYRatingsD, 3))"
   ]
  },
  {
   "cell_type": "markdown",
   "metadata": {},
   "source": [
    "---\n",
    "\n",
    "## Modules\n",
    "\n",
    "A group of functions saved in a script so it is made available for users to re-use.\n",
    "\n",
    "saved as **'fibmod.py'**\n",
    "\n",
    "#### Namespace\n",
    "- name to object bindings\n",
    "- when we import a module, we can access that namespace within the module\n",
    "\n",
    "#### Scope\n",
    "*e.g. local variable & global variable*"
   ]
  },
  {
   "cell_type": "code",
   "execution_count": 154,
   "metadata": {},
   "outputs": [],
   "source": [
    "# create script fibmod.py with a function fib()\n",
    "\n",
    "# def fib(n):\n",
    "#     a, b = 0, 1\n",
    "#     while b < n:\n",
    "#         print(b, end=' ')\n",
    "#         a, b = b, a+b\n",
    "#     print()"
   ]
  },
  {
   "cell_type": "code",
   "execution_count": 155,
   "metadata": {},
   "outputs": [],
   "source": [
    "import fibmod"
   ]
  },
  {
   "cell_type": "code",
   "execution_count": 156,
   "metadata": {},
   "outputs": [
    {
     "name": "stdout",
     "output_type": "stream",
     "text": [
      "1 1 2 3 5 8 \n"
     ]
    }
   ],
   "source": [
    "fibmod.fib(10)"
   ]
  },
  {
   "cell_type": "code",
   "execution_count": 157,
   "metadata": {},
   "outputs": [],
   "source": [
    "from fibmod import fib"
   ]
  },
  {
   "cell_type": "code",
   "execution_count": 158,
   "metadata": {},
   "outputs": [
    {
     "name": "stdout",
     "output_type": "stream",
     "text": [
      "1 1 2 3 5 8 13 \n"
     ]
    }
   ],
   "source": [
    "fib(20)"
   ]
  },
  {
   "cell_type": "markdown",
   "metadata": {},
   "source": [
    "---\n",
    "\n",
    "## Input & Output\n",
    "\n",
    "#### input through:\n",
    "1. argument\n",
    "2. console (user input)\n",
    "3. from a file (data analyst use the most)"
   ]
  },
  {
   "cell_type": "code",
   "execution_count": 159,
   "metadata": {},
   "outputs": [],
   "source": [
    "# # 1. argument (cmdline)\n",
    "\n",
    "# # script\n",
    "# from sys import argv\n",
    "# print(argv)\n",
    "\n",
    "# # commend line\n",
    "# runfile ('test.py', args='a b c')\n",
    "# return:\n",
    "# -> ['test.py', 'a', 'b', 'c']\n",
    "\n",
    "# # unpack argv\n",
    "# script, var1, var2, var3 = argv\n",
    "# print(script, var1, var2, var3)"
   ]
  },
  {
   "cell_type": "code",
   "execution_count": 160,
   "metadata": {},
   "outputs": [
    {
     "name": "stdout",
     "output_type": "stream",
     "text": [
      "Write Your Name: johnnylee\n",
      "Write Your Birthday: 1992\n",
      "\n",
      "johnnylee 1992\n"
     ]
    }
   ],
   "source": [
    "# # 2. console (stdin)\n",
    "yourName = input('Write Your Name: ')\n",
    "yourBirthday = input('Write Your Birthday: ')\n",
    "\n",
    "print()\n",
    "print(yourName, yourBirthday)"
   ]
  },
  {
   "cell_type": "code",
   "execution_count": 161,
   "metadata": {},
   "outputs": [
    {
     "name": "stdout",
     "output_type": "stream",
     "text": [
      "abc\n",
      "def\n",
      "ghi\n",
      "jkl\n",
      "mno\n"
     ]
    }
   ],
   "source": [
    "# # 3. file i/o\n",
    "text = open('text.txt','r')\n",
    "\n",
    "print(text.read())"
   ]
  },
  {
   "cell_type": "code",
   "execution_count": 162,
   "metadata": {},
   "outputs": [
    {
     "name": "stdout",
     "output_type": "stream",
     "text": [
      "abc\n",
      "\n"
     ]
    }
   ],
   "source": [
    "# # 3. file i/o (line by line)\n",
    "text = open('text.txt','r')\n",
    "\n",
    "text.seek(0) # reset the location (python keep track of the offset location)\n",
    "\n",
    "print(text.readline())"
   ]
  },
  {
   "cell_type": "code",
   "execution_count": 163,
   "metadata": {},
   "outputs": [
    {
     "name": "stdout",
     "output_type": "stream",
     "text": [
      "abc\n",
      "\n",
      "def\n",
      "\n"
     ]
    }
   ],
   "source": [
    "# # 3. file i/o (line by line without the SEEK function)\n",
    "text = open('text.txt','r')\n",
    "\n",
    "print(text.readline()) # print the first line\n",
    "print(text.readline()) # print the second line"
   ]
  },
  {
   "cell_type": "code",
   "execution_count": 164,
   "metadata": {},
   "outputs": [
    {
     "name": "stdout",
     "output_type": "stream",
     "text": [
      "abc\n",
      "def\n",
      "ghi\n",
      "jkl\n",
      "mno"
     ]
    }
   ],
   "source": [
    "text = open('text.txt','r')\n",
    "\n",
    "text.seek(0)\n",
    "\n",
    "for ln in text:\n",
    "    print(ln, end='')"
   ]
  },
  {
   "cell_type": "code",
   "execution_count": 165,
   "metadata": {},
   "outputs": [],
   "source": [
    "# close to release the computing resources\n",
    "text.close()"
   ]
  },
  {
   "cell_type": "markdown",
   "metadata": {},
   "source": [
    "#### output through\n",
    "1. console\n",
    "2. through a file"
   ]
  },
  {
   "cell_type": "code",
   "execution_count": 166,
   "metadata": {},
   "outputs": [
    {
     "name": "stdout",
     "output_type": "stream",
     "text": [
      "abc\n",
      "def\n",
      "ghi\n",
      "jkl\n",
      "mno\n",
      "Hello\n",
      "World\n"
     ]
    }
   ],
   "source": [
    "# append(a) --> adding\n",
    "textA = open('text.txt', 'a')\n",
    "\n",
    "textA.write('\\nHello')\n",
    "textA.write('\\nWorld')\n",
    "textA.close()\n",
    "\n",
    "textR = open('text.txt', 'r')\n",
    "print(textR.read())\n",
    "textR.close()"
   ]
  },
  {
   "cell_type": "code",
   "execution_count": 167,
   "metadata": {},
   "outputs": [
    {
     "name": "stdout",
     "output_type": "stream",
     "text": [
      "Hello\n",
      "World\n",
      "\n"
     ]
    }
   ],
   "source": [
    "# write(w) --> rewriting\n",
    "textW = open('text.txt', 'w')\n",
    "\n",
    "textW.write('Hello\\n')\n",
    "textW.write('World\\n')\n",
    "textW.close()\n",
    "\n",
    "textR = open('text.txt', 'r')\n",
    "print(textR.read())\n",
    "textR.close()"
   ]
  },
  {
   "cell_type": "code",
   "execution_count": 168,
   "metadata": {},
   "outputs": [
    {
     "name": "stdout",
     "output_type": "stream",
     "text": [
      "file exists\n"
     ]
    }
   ],
   "source": [
    "# before you imput a file, check for existence\n",
    "from os.path import exists\n",
    "if (exists('text.txt')):\n",
    "    print('file exists')"
   ]
  },
  {
   "cell_type": "markdown",
   "metadata": {},
   "source": [
    "---\n",
    "\n",
    "## Classes\n",
    "\n",
    "Look with an example\n",
    "\n",
    "- `__init__` must be called __init__\n",
    "- first arg must be `self`"
   ]
  },
  {
   "cell_type": "code",
   "execution_count": 169,
   "metadata": {},
   "outputs": [],
   "source": [
    "class Dog:                                   # definition\n",
    "    \n",
    "    \"\"\" This class defines dogs\"\"\"           # class summary\n",
    "    \n",
    "    code = 123                               # class-variable for data shared by all instance\n",
    "    kind = 'Canine'                          # class-variable for data shared by all instance\n",
    "    \n",
    "    def __init__ (self, name, age = -1):     # class instantiation method\n",
    "        print('In the instantiation method')\n",
    "        self.name = name                     # instance-variable : for data unique to each instance\n",
    "        self.age = age                       # instance-variable : for data unique to each instance\n",
    "        self.tricks = []                     # instance-variable : for data unique to each instance\n",
    "    \n",
    "    def bark (self):                         # method\n",
    "        print('In the bark method')\n",
    "        if 'bark' in self.tricks:\n",
    "            print('... Ruff Ruff...')\n",
    "        else:\n",
    "            print('... Silence ...')\n",
    "    \n",
    "    def add_tricks (self, trick):            # method\n",
    "        print('In the add_tricks method')\n",
    "        self.tricks.append(trick)\n",
    "        "
   ]
  },
  {
   "cell_type": "code",
   "execution_count": 170,
   "metadata": {},
   "outputs": [
    {
     "name": "stdout",
     "output_type": "stream",
     "text": [
      "In the instantiation method\n",
      "\n",
      "In the add_tricks method\n",
      "\n",
      "In the add_tricks method\n",
      "\n",
      "Fido\n",
      "123\n",
      "Canine\n",
      "5\n",
      "['row over', 'play dead']\n",
      "\n",
      "In the bark method\n",
      "... Silence ...\n"
     ]
    }
   ],
   "source": [
    "fido = Dog('Fido', 5) # instantiating an object of class Dog with name = 'Fido', age = 5, tricks = [] (empty list)\n",
    "print()\n",
    "fido.add_tricks('row over')\n",
    "print()\n",
    "fido.add_tricks('play dead')\n",
    "print()\n",
    "print(fido.name)\n",
    "print(fido.code)\n",
    "print(fido.kind)\n",
    "print(fido.age)\n",
    "print(fido.tricks)\n",
    "\n",
    "print()\n",
    "fido.bark()"
   ]
  },
  {
   "cell_type": "code",
   "execution_count": 171,
   "metadata": {},
   "outputs": [
    {
     "name": "stdout",
     "output_type": "stream",
     "text": [
      "In the instantiation method\n",
      "\n",
      "In the add_tricks method\n",
      "\n",
      "buddy 123 Canine 10 ['bark']\n",
      "\n",
      "In the bark method\n",
      "... Ruff Ruff...\n"
     ]
    }
   ],
   "source": [
    "buddy = Dog('buddy', 10)\n",
    "print()\n",
    "buddy.add_tricks('bark')\n",
    "print()\n",
    "print(buddy.name, buddy.code, buddy.kind, buddy.age, buddy.tricks)\n",
    "print()\n",
    "buddy.bark()"
   ]
  },
  {
   "cell_type": "markdown",
   "metadata": {},
   "source": [
    "#### Concept of inheritance"
   ]
  },
  {
   "cell_type": "code",
   "execution_count": 172,
   "metadata": {},
   "outputs": [],
   "source": [
    "class Parent():                         # base class\n",
    "    \n",
    "    def __init__ (self):\n",
    "        print('instantiating based class')\n",
    "    def Height(self):\n",
    "        print(\"I'm tall\")\n",
    "    def HairColor(self):\n",
    "        print(\"I have black hair\")\n",
    "\n",
    "class Children(Parent):\n",
    "    \n",
    "    def __init__ (self):\n",
    "        print('instantiating derived class')\n",
    "    \n",
    "    def HairColor(self):                 # overriding based class function\n",
    "        print('I have blonde hair')"
   ]
  },
  {
   "cell_type": "code",
   "execution_count": 173,
   "metadata": {},
   "outputs": [
    {
     "name": "stdout",
     "output_type": "stream",
     "text": [
      "instantiating based class\n",
      "I'm tall\n",
      "I have black hair\n",
      "\n",
      "instantiating derived class\n",
      "I'm tall\n",
      "I have blonde hair\n",
      "\n"
     ]
    }
   ],
   "source": [
    "mom = Parent()\n",
    "mom.Height()\n",
    "mom.HairColor()\n",
    "print()\n",
    "daughter = Children()\n",
    "daughter.Height()\n",
    "daughter.HairColor()\n",
    "print()"
   ]
  },
  {
   "cell_type": "markdown",
   "metadata": {},
   "source": [
    "## Exceptions and Errors"
   ]
  },
  {
   "cell_type": "code",
   "execution_count": 174,
   "metadata": {},
   "outputs": [],
   "source": [
    "# # example of sytax error\n",
    "# for i in range(10)\n",
    "#     print(i)\n",
    "\n",
    "# # example of Zero devision error\n",
    "# def foo():\n",
    "#     print(1/0)\n",
    "# foo()"
   ]
  },
  {
   "cell_type": "markdown",
   "metadata": {},
   "source": [
    "--- \n",
    "## Things to read\n",
    "- [datetime](https://docs.python.org/3/library/datetime.html)\n",
    "- [regex](https://docs.python.org/3/library/re.html)\n",
    "- [math](https://docs.python.org/3/library/math.html)\n",
    "- [random](https://docs.python.org/3/library/random.html)\n",
    "- [statistics](https://docs.python.org/3/library/statistics.html)"
   ]
  },
  {
   "cell_type": "markdown",
   "metadata": {},
   "source": [
    "---\n",
    "\n",
    "## Exercise 5\n",
    "\n",
    "### Exercise Set 1\n",
    "\n",
    "- Let’s say you have two lists:\n",
    "  - lstA = [1, 2, 3, 4, 5]\n",
    "  - lstB = [10, 20, 30, 40, 50]\n",
    "- Write a single for loop to add corresponding elements of the two lists, and put the result in another list called lstC\n",
    "- Then execute the following code:\n",
    "`print (lstC)`"
   ]
  },
  {
   "cell_type": "code",
   "execution_count": 175,
   "metadata": {},
   "outputs": [
    {
     "name": "stdout",
     "output_type": "stream",
     "text": [
      "[11, 22, 33, 44, 55]\n"
     ]
    }
   ],
   "source": [
    "lstA = [1,2,3,4,5]\n",
    "lstB = [10,20,30,40,50]\n",
    "lstC = []\n",
    "for a, b in zip(lstA, lstB):\n",
    "    lstC.append(a+b)\n",
    "print(lstC)"
   ]
  },
  {
   "cell_type": "markdown",
   "metadata": {},
   "source": [
    "Exercise\n",
    "- Write a function called `addLists` that **takes two lists as parameters**, uses a single for loop to add corresponding elements of the two lists, and returns the resulting list\n",
    "- Then execute the following code:\n",
    "  - `lstA = [1, 2, 3, 4, 5]`\n",
    "  - `lstB = [10, 20, 30, 40, 50]`\n",
    "  - `lstC = addLists (lstA, lstB)`\n",
    "  - `print (lstC)`"
   ]
  },
  {
   "cell_type": "code",
   "execution_count": 176,
   "metadata": {},
   "outputs": [
    {
     "name": "stdout",
     "output_type": "stream",
     "text": [
      "[11, 22, 33, 44, 55]\n"
     ]
    }
   ],
   "source": [
    "def addLists(lst1, lst2):\n",
    "    lst3 = []\n",
    "    for i, j in zip(lst1, lst2):\n",
    "        lst3.append(i+j)\n",
    "    return lst3\n",
    "\n",
    "lstA = [1, 2, 3, 4, 5]\n",
    "lstB = [10, 20, 30, 40, 50]\n",
    "lstC = addLists (lstA, lstB)\n",
    "print (lstC)"
   ]
  },
  {
   "cell_type": "markdown",
   "metadata": {},
   "source": [
    "### Exercise Set 3\n",
    "-  Write a **class** called `listComposites` that can be **instantiated with two lists**. Then write a class method called addLists that uses a single for loop to add corresponding elements of the two lists, and returns the resulting list\n",
    "- Then execute the following code:\n",
    "  - `lstA = [1, 2, 3, 4, 5]`\n",
    "  - `lstB = [10, 20, 30, 40, 50]`\n",
    "  - `lc = listComposites(lstA, lstB)`\n",
    "  - `lstC = lc.addLists()`\n",
    "  - `print (lstC)`"
   ]
  },
  {
   "cell_type": "code",
   "execution_count": 177,
   "metadata": {},
   "outputs": [],
   "source": [
    "class listComposites():\n",
    "    \n",
    "    def __init__ (self, l1, l2):\n",
    "#         print('init')\n",
    "        self.l1 = l1\n",
    "        self.l2 = l2\n",
    "    \n",
    "    def addLists(self):\n",
    "#         print('addLists')\n",
    "        l3 = []\n",
    "        for i, j in zip(self.l1, self.l2):\n",
    "            l3.append(i+j)\n",
    "        return l3"
   ]
  },
  {
   "cell_type": "code",
   "execution_count": 178,
   "metadata": {},
   "outputs": [
    {
     "name": "stdout",
     "output_type": "stream",
     "text": [
      "[11, 22, 33, 44, 55]\n"
     ]
    }
   ],
   "source": [
    "lstA = [1, 2, 3, 4, 5]\n",
    "lstB = [10, 20, 30, 40, 50]\n",
    "\n",
    "lc = listComposites(lstA, lstB)\n",
    "\n",
    "lstC = lc.addLists()\n",
    "print (lstC)"
   ]
  },
  {
   "cell_type": "markdown",
   "metadata": {},
   "source": [
    "### Exercise Set 4\n",
    "- Include another **class method** called `subLists` that uses a single for loop to **subtract** corresponding elements of the two lists, and returns the resulting list\n",
    "- Then execute the following code:\n",
    "  - `lstA = [1, 2, 3, 4, 5]`\n",
    "  - `lstB = [10, 20, 30, 40, 50]`\n",
    "  - `lc = listComposites(lstA, lstB)`\n",
    "  - `lstC = lc.addLists()`\n",
    "  - `print (lstC)`\n",
    "  - `lstC = lc.subLists()`\n",
    "  - `print (lstC)`"
   ]
  },
  {
   "cell_type": "code",
   "execution_count": 179,
   "metadata": {},
   "outputs": [],
   "source": [
    "class listComposites():\n",
    "    \n",
    "    def __init__ (self, l1, l2):\n",
    "#         print('init')\n",
    "        self.l1 = l1\n",
    "        self.l2 = l2\n",
    "    \n",
    "    def addLists(self):\n",
    "#         print('addLists')\n",
    "        l3 = []\n",
    "        for i, j in zip(self.l1, self.l2):\n",
    "            l3.append(i+j)\n",
    "        return l3\n",
    "    \n",
    "    def subLists(self):\n",
    "        l4 = []\n",
    "        for i, j in zip(self.l1, self.l2):\n",
    "            l4.append(i-j)\n",
    "        return l4"
   ]
  },
  {
   "cell_type": "code",
   "execution_count": 180,
   "metadata": {},
   "outputs": [
    {
     "name": "stdout",
     "output_type": "stream",
     "text": [
      "[11, 22, 33, 44, 55]\n",
      "[-9, -18, -27, -36, -45]\n"
     ]
    }
   ],
   "source": [
    "lstA = [1, 2, 3, 4, 5]\n",
    "lstB = [10, 20, 30, 40, 50]\n",
    "lc = listComposites(lstA, lstB)\n",
    "lstC = lc.addLists()\n",
    "print (lstC)\n",
    "lstC = lc.subLists()\n",
    "print (lstC)"
   ]
  },
  {
   "cell_type": "markdown",
   "metadata": {},
   "source": [
    "- Put the class definition in a module called listModule.\n",
    "- Then execute the following code:\n",
    "  - `lstA = [1, 2, 3, 4, 5]`\n",
    "  - `lstB = [10, 20, 30, 40, 50]`\n",
    "  - `lc = listModule.listComposites(lstA, lstB)`\n",
    "  - `lstC = lc.addLists()`\n",
    "  - `print (lstC)`\n",
    "  - `lstC = lc.subLists()`\n",
    "  - `print (lstC)`"
   ]
  },
  {
   "cell_type": "code",
   "execution_count": 181,
   "metadata": {},
   "outputs": [
    {
     "name": "stdout",
     "output_type": "stream",
     "text": [
      "[11, 22, 33, 44, 55]\n",
      "[-9, -18, -27, -36, -45]\n"
     ]
    }
   ],
   "source": [
    "# create listModule.py\n",
    "# class listComposites():\n",
    "    \n",
    "#     def __init__ (self, l1, l2):\n",
    "#         self.l1 = l1\n",
    "#         self.l2 = l2\n",
    "    \n",
    "#     def addLists(self):\n",
    "#         l3 = []\n",
    "#         for i, j in zip(self.l1, self.l2):\n",
    "#             l3.append(i+j)\n",
    "#         return l3\n",
    "    \n",
    "#     def subLists(self):\n",
    "#         l4 = []\n",
    "#         for i, j in zip(self.l1, self.l2):\n",
    "#             l4.append(i-j)\n",
    "#         return l4\n",
    "\n",
    "import listModule\n",
    "\n",
    "lstA = [1, 2, 3, 4, 5]\n",
    "lstB = [10, 20, 30, 40, 50]\n",
    "lc = listModule.listComposites(lstA, lstB)\n",
    "lstC = lc.addLists()\n",
    "print (lstC)\n",
    "lstC = lc.subLists()\n",
    "print (lstC)"
   ]
  },
  {
   "cell_type": "markdown",
   "metadata": {},
   "source": [
    "--- \n",
    "\n",
    "## Exercise 6"
   ]
  },
  {
   "cell_type": "code",
   "execution_count": 182,
   "metadata": {},
   "outputs": [
    {
     "name": "stdout",
     "output_type": "stream",
     "text": [
      "[21, 30, 45, 50]\n",
      "[50, 45, 30, 21]\n"
     ]
    }
   ],
   "source": [
    "var = [45, 30, 21, 50]\n",
    "sortvar = sorted(var)\n",
    "print(sortvar)\n",
    "\n",
    "sortvar = sorted(var, reverse=True)\n",
    "print(sortvar)"
   ]
  },
  {
   "cell_type": "code",
   "execution_count": 183,
   "metadata": {},
   "outputs": [
    {
     "name": "stdout",
     "output_type": "stream",
     "text": [
      "[('Amy', 30), ('Carl', 45), ('Jane', 50), ('Zack', 30)]\n",
      "[('Amy', 30), ('Zack', 30), ('Carl', 45), ('Jane', 50)]\n",
      "[('Jane', 50), ('Carl', 45), ('Amy', 30), ('Zack', 30)]\n"
     ]
    }
   ],
   "source": [
    "from operator import itemgetter\n",
    "\n",
    "var = [('Carl', 45), ('Amy',30), ('Zack',30), ('Jane',50)]\n",
    "\n",
    "sortvar = sorted(var)\n",
    "print(sortvar)\n",
    "\n",
    "sortvar = sorted(var, key = itemgetter(1))\n",
    "print(sortvar)\n",
    "\n",
    "sortvar = sorted(var, key = itemgetter(1), reverse=True)\n",
    "print(sortvar)"
   ]
  },
  {
   "cell_type": "code",
   "execution_count": 184,
   "metadata": {},
   "outputs": [
    {
     "name": "stdout",
     "output_type": "stream",
     "text": [
      "[('Amy', 30), ('Carl', 45), ('Jane', 50), ('Zack', 30)]\n",
      "[('Amy', 30), ('Zack', 30), ('Carl', 45), ('Jane', 50)]\n",
      "[('Jane', 50), ('Carl', 45), ('Amy', 30), ('Zack', 30)]\n"
     ]
    }
   ],
   "source": [
    "from operator import itemgetter\n",
    "\n",
    "# dictionary\n",
    "var = {'Carl': 45, 'Amy':30, 'Zack':30, 'Jane':50}\n",
    "\n",
    "# use dict.items to transform key:value pairs to tuples\n",
    "sortvar = sorted(var.items())\n",
    "print(sortvar)\n",
    "\n",
    "sortvar = sorted(var.items(), key = itemgetter(1))\n",
    "print(sortvar)\n",
    "\n",
    "sortvar = sorted(var.items(), key = itemgetter(1), reverse=True)\n",
    "print(sortvar)"
   ]
  },
  {
   "cell_type": "markdown",
   "metadata": {},
   "source": [
    "### Nested Data Structure & Nested For Loop"
   ]
  },
  {
   "cell_type": "code",
   "execution_count": 185,
   "metadata": {},
   "outputs": [
    {
     "name": "stdout",
     "output_type": "stream",
     "text": [
      "Element 0 0 is:  10\n",
      "Element 0 1 is:  20\n",
      "Element 0 2 is:  30\n",
      "Element 1 0 is:  100\n",
      "Element 1 1 is:  200\n",
      "Element 1 2 is:  300\n",
      "Element 1 3 is:  400\n",
      "Element 2 0 is:  1000\n",
      "Element 2 1 is:  2000\n",
      "Element 2 2 is:  3000\n",
      "Element 2 3 is:  4000\n",
      "Element 2 4 is:  5000\n"
     ]
    }
   ],
   "source": [
    "nl = [[10,20,30], [100,200,300,400], [1000,2000,3000,4000,5000]]\n",
    "\n",
    "# for i in nl:\n",
    "#     for ii in i:\n",
    "#         print(ii)\n",
    "\n",
    "for i in range(len(nl)):\n",
    "    for j in range(len(nl[i])):\n",
    "        print('Element', i, j, 'is: ', nl[i][j])"
   ]
  },
  {
   "cell_type": "code",
   "execution_count": 186,
   "metadata": {},
   "outputs": [
    {
     "name": "stdout",
     "output_type": "stream",
     "text": [
      "Alfred Hitchcock\n",
      "   Family Plot : 6.8\n",
      "   Rebecca : 8.2\n",
      "   Spellbound : 7.6\n",
      "--------------------\n",
      "Mel Gibson\n",
      "   Apocalypto : 7.8\n",
      "   Braveheart : 8.4\n",
      "--------------------\n",
      "Mel Brooks\n",
      "   Spaceballs : 7.1\n",
      "   History of the World: Part I : 6.9\n",
      "--------------------\n",
      "Ang Lee\n",
      "   Life of Pi : 8\n",
      "   The Ice Storm : 7.5\n",
      "--------------------\n",
      "J.J. Abrams\n",
      "   Star Trek : 8\n",
      "   Star Trek Into Darkness : 7.8\n",
      "--------------------\n",
      "Clint Eastwood\n",
      "   J. Edgar : 6.6\n",
      "   The Bridges of Madison County : 7.5\n",
      "--------------------\n"
     ]
    }
   ],
   "source": [
    "DirectorMovieRatings = {\n",
    "    'Alfred Hitchcock': {'Family Plot': '6.8', 'Rebecca': '8.2', 'Spellbound': '7.6'}, \n",
    "    'Mel Gibson': {'Apocalypto': '7.8', 'Braveheart': '8.4'}, \n",
    "    'Mel Brooks': {'Spaceballs': '7.1', 'History of the World: Part I': '6.9'}, \n",
    "    'Ang Lee': {'Life of Pi': '8', 'The Ice Storm': '7.5'}, \n",
    "    'J.J. Abrams': {'Star Trek': '8', 'Star Trek Into Darkness': '7.8'}, \n",
    "    'Clint Eastwood': {'J. Edgar': '6.6', 'The Bridges of Madison County': '7.5'}}\n",
    "\n",
    "for k, v in DirectorMovieRatings.items():\n",
    "    print(k)\n",
    "    for k1, v1 in v.items():\n",
    "        print('  ',k1, ':', v1)\n",
    "    print('-'*20)"
   ]
  },
  {
   "cell_type": "markdown",
   "metadata": {},
   "source": [
    "### File"
   ]
  },
  {
   "cell_type": "code",
   "execution_count": 187,
   "metadata": {},
   "outputs": [
    {
     "name": "stdout",
     "output_type": "stream",
     "text": [
      "color,director_name,num_critic_for_reviews,duration,director_facebook_likes,actor_3_facebook_likes,actor_2_name,actor_1_facebook_likes,gross,genres,actor_1_name,movie_title,num_voted_users,cast_total_facebook_likes,actor_3_name,facenumber_in_poster,plot_keywords,movie_imdb_link,num_user_for_reviews,language,country,content_rating,budget,title_year,actor_2_facebook_likes,imdb_score,aspect_ratio,movie_facebook_likes\n",
      "\n",
      "Color,Alfred Hitchcock,50,127,13000,148,John Vernon,204,,Drama|Thriller,Roscoe Lee Browne,Topaz ,12677,753,Philippe Noiret,0,1960s|agent|cuba|intelligence|spy,http://www.imdb.com/title/tt0065112/?ref_=fn_tt_tt_1,89,English,USA,M,4000000,1969,187,6.3,1.85,414\n",
      "\n",
      "Color,Alfred Hitchcock,110,116,13000,118,Jean Marsh,195,,Thriller,Bernard Cribbins,Frenzy ,30982,771,Clive Swift,0,penknife|police|rape|serial killer|united kingdom,http://www.imdb.com/title/tt0068611/?ref_=fn_tt_tt_1,199,English,UK,R,2000000,1972,146,7.5,1.85,0\n",
      "\n",
      "Color,Alfred Hitchcock,67,120,13000,416,Bruce Dern,897,,Comedy|Thriller,Ed Lauter,Family Plot ,15293,2811,William Devane,1,actor|diamond|heir|kidnapping|ransom,http://www.imdb.com/title/tt0074512/?ref_=fn_tt_tt_1,111,English,USA,PG,4490375,1976,844,6.8,1.85,609\n",
      "\n",
      "Color,Alfred Hitchcock,64,128,13000,14,Lila Kedrova,18,,Thriller,Tamara Toumanova,Torn Curtain ,18656,70,David Opatoshu,1,defection|east germany|germany|iron curtain|scientist,http://www.imdb.com/title/tt0061107/?ref_=fn_tt_tt_1,137,English,USA,Approved,6000000,1966,16,6.7,1.85,933\n",
      "\n",
      "Color,Alfred Hitchcock,97,95,13000,82,Rhonda Fleming,472,,Film-Noir|Mystery|Romance|Thriller,Norman Lloyd,Spellbound ,32927,896,Leo G. Carroll,1,amnesia|dream analysis|dream sequence|guilt complex|post traumatic stress disorder,http://www.imdb.com/title/tt0038109/?ref_=fn_tt_tt_1,161,English,USA,Unrated,1696377,1945,239,7.6,1.37,0\n",
      "\n",
      " Black and White,Alfred Hitchcock,144,130,13000,333,Joan Fontaine,1000,,Drama|Film-Noir|Mystery|Thriller,Laurence Olivier,Rebecca ,87424,2888,George Sanders,2,death|estate|housekeeper|love|monte carlo,http://www.imdb.com/title/tt0032976/?ref_=fn_tt_tt_1,276,English,USA,Not Rated,1288000,1940,991,8.2,1.37,0\n",
      "\n",
      "Color,Alfred Hitchcock,73,99,13000,232,John Forsythe,282,,Comedy|Mystery|Romance,Jerry Mathers,The Trouble with Harry ,24891,1041,Royal Dano,0,artist|death|hunting|sheriff|vermont,http://www.imdb.com/title/tt0048750/?ref_=fn_tt_tt_1,150,English,USA,Approved,1200000,1955,255,7.2,1.5,0\n",
      "\n",
      "Color,Ang Lee,552,127,0,341,Rafe Spall,774,124976634,Adventure|Drama|Fantasy,Suraj Sharma,Life of Pi ,440084,2121,Tabu,0,animal|faith|india|journey|tiger,http://www.imdb.com/title/tt0454876/?ref_=fn_tt_tt_1,755,English,USA,PG,120000000,2012,358,8,1.85,122000\n",
      "\n",
      "Color,Ang Lee,95,148,0,0,Jeffrey Dover,3,630779,Drama|Romance|War|Western,Jeremy W. Auman,Ride with the Devil ,11101,5,Tobey Maguire,0,bushwhacker|friend|honor|kansas|raid,http://www.imdb.com/title/tt0134154/?ref_=fn_tt_tt_1,159,English,USA,R,35000000,1999,2,6.8,2.35,633\n",
      "\n",
      "Color,Ang Lee,210,120,0,210,Kevin Chamberlin,579,7443007,Comedy|Drama|Music,Imelda Staunton,Taking Woodstock ,24663,1500,Demetri Martin,12,female full frontal nudity|female nudity|male frontal nudity|male full frontal nudity|male nudity,http://www.imdb.com/title/tt1127896/?ref_=fn_tt_tt_1,71,English,USA,R,30000000,2009,489,6.7,1.85,0\n",
      "\n",
      "Color,Ang Lee,124,112,0,177,Kate Burton,805,7837632,Drama,Joan Allen,The Ice Storm ,46396,1466,Henry Czerny,0,ice|ice storm|storm|thanksgiving|virgin,http://www.imdb.com/title/tt0119349/?ref_=fn_tt_tt_1,287,English,USA,R,18000000,1997,223,7.5,1.85,0\n",
      "\n",
      "Color,Ang Lee,69,136,0,1000,Kate Winslet,25000,42700000,Drama|Romance,Alan Rickman,Sense and Sensibility ,78392,41059,Tom Wilkinson,2,1810s|female protagonist|horseback riding|inheritance|three word title,http://www.imdb.com/title/tt0114388/?ref_=fn_tt_tt_1,196,English,USA,PG,16500000,1995,14000,7.7,1.85,0\n",
      "\n",
      "Color,Ang Lee,357,134,0,11000,Heath Ledger,15000,83025853,Drama|Romance,Jake Gyllenhaal,Brokeback Mountain ,259837,39789,Anne Hathaway,0,gay relationship|homosexuality|mountain|ranch|rodeo,http://www.imdb.com/title/tt0388795/?ref_=fn_tt_tt_1,2254,English,USA,R,14000000,2005,13000,7.7,1.85,13000\n",
      "\n",
      " Black and White,Clint Eastwood,169,130,16000,416,Courtney B. Vance,16000,90454043,Action|Adventure|Thriller,Clint Eastwood,Space Cowboys ,60165,17771,William Devane,1,nasa|old age|satellite|space|space shuttle,http://www.imdb.com/title/tt0186566/?ref_=fn_tt_tt_1,326,English,USA,PG-13,65000000,2000,495,6.4,2.35,0\n",
      "\n",
      "Color,Clint Eastwood,306,134,16000,204,Morgan Freeman,13000,37479778,Biography|Drama|History|Sport,Matt Damon,Invictus ,124222,24458,Leleti Khumalo,1,apartheid|nation|nelson mandela|president|rugby,http://www.imdb.com/title/tt1057500/?ref_=fn_tt_tt_1,259,English,USA,PG-13,60000000,2009,11000,7.4,2.35,23000\n",
      "\n",
      "Color,Clint Eastwood,490,133,16000,318,Leonard Roberts,14000,350123553,Action|Biography|Drama|History|Thriller|War,Bradley Cooper,American Sniper ,325264,16277,Keir O'Donnell,0,assassin|death of child|iraq|sniper|sniper rifle,http://www.imdb.com/title/tt2179136/?ref_=fn_tt_tt_1,916,English,USA,R,58800000,2014,962,7.3,2.35,112000\n",
      "\n",
      "Color,Clint Eastwood,264,141,16000,539,Michael Kelly,11000,35707327,Crime|Drama|Mystery|Thriller,Angelina Jolie Pitt,Changeling ,199056,12840,Colm Feore,0,execution by hanging|los angeles police department|miscarriage of justice|missing child|wrongful conviction,http://www.imdb.com/title/tt0824747/?ref_=fn_tt_tt_1,387,English,USA,R,55000000,2008,963,7.8,2.35,14000\n",
      "\n",
      "Color,Clint Eastwood,279,135,16000,310,Chris Bauer,23000,33574332,Drama|History|War,Paul Walker,Flags of Our Fathers ,101221,24468,Tom McCarthy,0,imperial japan|japan|japanese army|japanese soldier|world war two,http://www.imdb.com/title/tt0418689/?ref_=fn_tt_tt_1,415,English,USA,R,90000000,2006,638,7.1,2.35,0\n",
      "\n",
      "Color,Clint Eastwood,76,121,16000,826,Mark Margolis,16000,50007168,Action|Crime|Drama|Thriller,Clint Eastwood,Absolute Power ,39529,19139,Scott Glenn,0,death|death of wife|murder|thief|violence,http://www.imdb.com/title/tt0118548/?ref_=fn_tt_tt_1,142,English,USA,R,50000000,1997,1000,6.7,2.35,1000\n",
      "\n",
      "Color,Clint Eastwood,315,129,16000,447,Jay Mohr,13000,32741596,Drama|Fantasy,Matt Damon,Hereafter ,80140,14344,Cécile De France,0,death|france|near death experience|tsunami|twin brother,http://www.imdb.com/title/tt1212419/?ref_=fn_tt_tt_1,323,English,USA,PG-13,50000000,2010,563,6.5,2.35,16000\n",
      "\n",
      "Color,Clint Eastwood,146,110,16000,581,Anjelica Huston,16000,26199517,Action|Crime|Drama|Mystery|Thriller,Clint Eastwood,Blood Work ,34356,18635,Rick Hoffman,1,boat|heart transplant|murder|serial killer|sister,http://www.imdb.com/title/tt0309377/?ref_=fn_tt_tt_1,260,English,USA,R,50000000,2002,1000,6.4,2.35,705\n",
      "\n",
      "Color,Clint Eastwood,249,134,16000,235,Steve Schirripa,880,47034272,Biography|Drama|Music|Musical,Johnny Cannizzaro,Jersey Boys ,25465,2281,Scott Vance,1,band|music group|musical quartet|singer|song,http://www.imdb.com/title/tt1742044/?ref_=fn_tt_tt_1,190,English,USA,R,40000000,2014,413,6.9,2.35,16000\n",
      "\n",
      "Color,Clint Eastwood,392,137,16000,363,Naomi Watts,29000,37304950,Biography|Crime|Drama,Leonardo DiCaprio,J. Edgar ,102728,36258,Kaitlyn Dever,0,agent|fbi|federal bureau of investigation|gay relationship|secret,http://www.imdb.com/title/tt1616195/?ref_=fn_tt_tt_1,279,English,USA,R,35000000,2011,6000,6.6,2.35,16000\n",
      "\n",
      "Color,Clint Eastwood,91,155,16000,229,Bob Gunton,18000,25078937,Crime|Drama|Mystery|Thriller,Kevin Spacey,Midnight in the Garden of Good and Evil ,31751,19689,Leon Rippy,2,graveyard|murder|murder trial|reporter|trial,http://www.imdb.com/title/tt0119668/?ref_=fn_tt_tt_1,216,English,USA,R,30000000,1997,461,6.6,1.85,0\n",
      "\n",
      "Color,Clint Eastwood,229,138,16000,262,Spencer Treat Clark,616,90135191,Crime|Drama|Mystery|Thriller,John Doman,Mystic River ,338415,1942,Tom Guiry,0,ballistics|detective|friend|gun|sexual abuse,http://www.imdb.com/title/tt0327056/?ref_=fn_tt_tt_1,935,English,USA,R,25000000,2003,541,8,2.35,12000\n",
      "\n",
      "Color,Clint Eastwood,268,132,16000,567,Morgan Freeman,16000,100422786,Drama|Sport,Clint Eastwood,Million Dollar Baby ,482064,28830,Mike Colter,1,boxing|boxing trainer|death|suicide attempt|women boxing,http://www.imdb.com/title/tt0405159/?ref_=fn_tt_tt_1,1106,English,USA,PG-13,30000000,2004,11000,8.1,2.35,14000\n",
      "\n",
      "Color,Clint Eastwood,366,116,16000,198,Dreama Walker,16000,148085755,Drama,Clint Eastwood,Gran Torino ,561773,17347,Ahney Her,0,gang|gang rape|hmong|teenager|widower,http://www.imdb.com/title/tt1205489/?ref_=fn_tt_tt_1,871,English,USA,R,33000000,2008,601,8.2,2.35,28000\n",
      "\n",
      "Color,Clint Eastwood,69,135,16000,86,Meryl Streep,16000,70960517,Drama|Romance,Clint Eastwood,The Bridges of Madison County ,54631,27237,Debra Monk,0,1960s|bridge|housewife|love|photographer,http://www.imdb.com/title/tt0112579/?ref_=fn_tt_tt_1,192,English,USA,PG-13,35000000,1995,11000,7.5,1.85,0\n",
      "\n",
      "Color,Clint Eastwood,43,136,16000,216,Warren Clarke,16000,46700000,Action|Adventure|Thriller,Clint Eastwood,Firefox ,19832,16805,Kenneth Colley,1,fighter plane|jet fighter|refueling|russia|soviet union,http://www.imdb.com/title/tt0083943/?ref_=fn_tt_tt_1,98,English,USA,PG,21000000,1982,281,5.9,2.35,0\n",
      "\n",
      "Color,Clint Eastwood,131,131,16000,638,Morgan Freeman,16000,101157447,Drama|Western,Clint Eastwood,Unforgiven ,277505,28544,Frances Fisher,1,englishman|leaving flowers on a grave|one last job|reputation|visiting wife's grave,http://www.imdb.com/title/tt0105695/?ref_=fn_tt_tt_1,495,English,USA,R,14400000,1992,11000,8.3,2.35,10000\n",
      "\n",
      "Color,Clint Eastwood,251,141,16000,78,Kazunari Ninomiya,378,13753931,Drama|History|War,Yuki Matsuzaki,Letters from Iwo Jima ,132149,751,Shidô Nakamura,0,blood splatter|general|island|japan|world war two,http://www.imdb.com/title/tt0498380/?ref_=fn_tt_tt_1,316,Japanese,USA,R,19000000,2006,85,7.9,2.35,5000\n",
      "\n",
      "Color,Clint Eastwood,38,115,16000,240,Chris Penn,16000,41400000,Western,Clint Eastwood,Pale Rider ,39451,17209,Sydney Penny,0,gold|miner|preacher|prospector|sheriff,http://www.imdb.com/title/tt0089767/?ref_=fn_tt_tt_1,138,English,USA,R,6900000,1985,455,7.3,2.35,0\n",
      "\n",
      "Color,Clint Eastwood,72,105,16000,258,Richard Bull,16000,,Mystery|Western,Clint Eastwood,High Plains Drifter ,36381,17599,John Hillerman,0,gravestone|gunfighter|outlaw|revenge|small town,http://www.imdb.com/title/tt0068699/?ref_=fn_tt_tt_1,169,English,USA,R,5500000,1973,742,7.6,2.35,0\n",
      "\n",
      "Color,J.J. Abrams,590,132,14000,928,Bruce Greenwood,19000,228756232,Action|Adventure|Sci-Fi,Benedict Cumberbatch,Star Trek Into Darkness ,395573,21411,Noel Clarke,0,admiral|captain|manhunt|mission|space,http://www.imdb.com/title/tt1408101/?ref_=fn_tt_tt_1,1171,English,USA,PG-13,190000000,2013,981,7.8,2.35,92000\n",
      "\n",
      "Color,J.J. Abrams,310,124,14000,979,Tom Cruise,22000,133382309,Action|Adventure|Thriller,Philip Seymour Hoffman,Mission: Impossible III ,256695,34817,Eddie Marsan,0,arms dealer|fictional government agency|mission|rescue|vatican,http://www.imdb.com/title/tt0317919/?ref_=fn_tt_tt_1,871,English,USA,PG-13,150000000,2006,10000,6.9,2.35,0\n",
      "\n",
      "Color,J.J. Abrams,518,127,14000,981,Leonard Nimoy,26000,257704099,Action|Adventure|Sci-Fi,Chris Hemsworth,Star Trek ,504419,39284,Bruce Greenwood,0,box office hit|future|lifted by the throat|star trek|vulcan,http://www.imdb.com/title/tt0796366/?ref_=fn_tt_tt_1,1559,English,USA,PG-13,150000000,2009,12000,8,2.35,19000\n",
      "\n",
      "Color,J.J. Abrams,539,112,14000,417,AJ Michalka,1000,126975169,Mystery|Sci-Fi|Thriller,Joel Courtney,Super 8 ,287822,3388,Zach Mills,0,deputy|group of friends|time|train|train crash,http://www.imdb.com/title/tt1650062/?ref_=fn_tt_tt_1,849,English,USA,PG-13,50000000,2011,560,7.1,2.35,37000\n",
      "\n",
      "Color,Jonathan Demme,209,129,438,502,Dorian Missick,18000,65948711,Drama|Mystery|Sci-Fi|Thriller,Denzel Washington,The Manchurian Candidate ,86422,20056,Jose Pablo Cantillo,1,brainwashed assassin|conspiracy|critically acclaimed|mother son relationship|soldier,http://www.imdb.com/title/tt0368008/?ref_=fn_tt_tt_1,363,English,USA,R,80000000,2004,1000,6.6,1.85,0\n",
      "\n",
      "Color,Jonathan Demme,78,172,438,466,Kimberly Elise,852,22843047,Drama|History|Horror,Oprah Winfrey,Beloved ,6082,2397,Hill Harper,1,farm|freedom|ohio|slavery|spirit,http://www.imdb.com/title/tt0120603/?ref_=fn_tt_tt_1,207,English,USA,R,55000000,1998,637,5.9,1.85,853\n",
      "\n",
      "Color,Jonathan Demme,185,138,438,173,Scott Glenn,12000,130727000,Crime|Drama|Horror|Thriller,Anthony Hopkins,The Silence of the Lambs ,887467,13184,Anthony Heald,0,case file|fbi agent|psycho thriller|psychopath|serial killer,http://www.imdb.com/title/tt0102926/?ref_=fn_tt_tt_1,916,English,USA,R,19000000,1991,826,8.6,1.85,40000\n",
      "\n",
      "Color,Jonathan Demme,68,125,438,372,Tom Hanks,18000,77324422,Drama,Denzel Washington,Philadelphia ,178731,33865,Jason Robards,2,aids|city name in title|gay|homophobia|lawyer,http://www.imdb.com/title/tt0107818/?ref_=fn_tt_tt_1,261,English,USA,PG-13,26000000,1993,15000,7.7,1.85,0\n",
      "\n",
      "Color,Jonathan Demme,232,113,438,471,Rosemarie DeWitt,11000,12796277,Drama|Romance,Anne Hathaway,Rachel Getting Married ,41226,12274,Bill Irwin,1,12 step program|friend|maid of honor|tears|wedding,http://www.imdb.com/title/tt1084950/?ref_=fn_tt_tt_1,281,English,USA,R,,2008,536,6.7,1.85,0\n",
      "\n",
      "Color,Mel Brooks,103,96,0,542,Dick Van Patten,1000,38119483,Adventure|Comedy|Sci-Fi,Joan Rivers,Spaceballs ,136667,2936,Michael Winslow,2,parody|planet enclosed within shield|sci fi spoof|self referential|winnebago,http://www.imdb.com/title/tt0094012/?ref_=fn_tt_tt_1,273,English,USA,PG,22700000,1987,605,7.1,1.85,13000\n",
      "\n",
      "Color,Mel Brooks,48,92,0,842,Sid Caesar,1000,,Comedy,Madeline Kahn,History of the World: Part I ,36559,3931,Dom DeLuise,0,french revolution|old testament|part of an unfinished series|reference to john wayne|roman emperor,http://www.imdb.com/title/tt0082517/?ref_=fn_tt_tt_1,131,English,USA,R,11000000,1981,898,6.9,2.35,0\n",
      "\n",
      "Color,Mel Brooks,39,87,0,753,Dom DeLuise,898,,Comedy|Romance,Sid Caesar,Silent Movie ,12666,2951,Bernadette Peters,0,black comedy|friend|modern silent movie|silent movie|two word title,http://www.imdb.com/title/tt0075222/?ref_=fn_tt_tt_1,61,,USA,PG,4400000,1976,842,6.7,1.85,629\n",
      "\n",
      "Color,Mel Brooks,55,94,0,605,Harvey Korman,1000,,Comedy,Madeline Kahn,High Anxiety ,15115,2861,Dick Van Patten,0,belldon's hysteria|high anxiety|hitchcockian|murder|parody,http://www.imdb.com/title/tt0076141/?ref_=fn_tt_tt_1,102,English,USA,PG,3400000,1977,628,6.7,1.85,0\n",
      "\n",
      " Black and White,Mel Brooks,129,106,0,481,Peter Boyle,1000,86300000,Comedy,Madeline Kahn,Young Frankenstein ,112671,2703,Teri Garr,0,assistant|castle|experiment|frankenstein's monster|scientist,http://www.imdb.com/title/tt0072431/?ref_=fn_tt_tt_1,315,English,USA,PG,2800000,1974,595,8,1.85,14000\n",
      "\n",
      "Color,Mel Brooks,121,93,0,628,David Huddleston,1000,119500000,Comedy|Western,Madeline Kahn,Blazing Saddles ,95294,4701,Harvey Korman,0,railroad|reference to douglas fairbanks|reference to jesse owens|reference to randolph scott|year 1874,http://www.imdb.com/title/tt0071230/?ref_=fn_tt_tt_1,363,English,USA,R,2600000,1974,1000,7.8,2.35,12000\n",
      "\n",
      "Color,Mel Brooks,48,92,0,842,Sid Caesar,1000,,Comedy,Madeline Kahn,History of the World: Part I ,36559,3931,Dom DeLuise,0,french revolution|old testament|part of an unfinished series|reference to john wayne|roman emperor,http://www.imdb.com/title/tt0082517/?ref_=fn_tt_tt_1,131,English,USA,R,11000000,1981,898,6.9,2.35,0\n",
      "\n",
      "Color,Mel Gibson,132,178,0,403,Patrick McGoohan,906,75600000,Biography|Drama|History|War,Mhairi Calvey,Braveheart ,736638,1976,James Robinson,1,14th century|legend|revolt|scotland|tyranny,http://www.imdb.com/title/tt0112573/?ref_=fn_tt_tt_1,1065,English,USA,R,72000000,1995,466,8.4,2.35,17000\n",
      "\n",
      "Color,Mel Gibson,283,139,0,19,Dalia Hernández,708,50859889,Action|Adventure|Drama|Thriller,Rudy Youngblood,Apocalypto ,236000,848,Jonathan Brewer,0,jaguar|mayan|solar eclipse|tribe|village,http://www.imdb.com/title/tt0472043/?ref_=fn_tt_tt_1,1043,Maya,USA,R,40000000,2006,78,7.8,1.85,14000\n",
      "\n",
      "Color,Mel Gibson,406,120,0,113,Maia Morgenstern,260,499263,Drama,Christo Jivkov,The Passion of the Christ ,179235,705,Hristo Shopov,0,anti semitism|cult film|grindhouse|suffering|torture,http://www.imdb.com/title/tt0335345/?ref_=fn_tt_tt_1,2814,Aramaic,USA,R,30000000,2004,252,7.1,2.35,13000\n",
      "\n"
     ]
    }
   ],
   "source": [
    "frh = open('imdb.csv','r', encoding='utf-8', errors='ignore')\n",
    "\n",
    "for line in frh:\n",
    "    print(line)\n",
    "\n",
    "frh.close()"
   ]
  },
  {
   "cell_type": "code",
   "execution_count": 188,
   "metadata": {},
   "outputs": [
    {
     "name": "stdout",
     "output_type": "stream",
     "text": [
      "['color,director_name,num_critic_for_reviews,duration,director_facebook_likes,actor_3_facebook_likes,actor_2_name,actor_1_facebook_likes,gross,genres,actor_1_name,movie_title,num_voted_users,cast_total_facebook_likes,actor_3_name,facenumber_in_poster,plot_keywords,movie_imdb_link,num_user_for_reviews,language,country,content_rating,budget,title_year,actor_2_facebook_likes,imdb_score,aspect_ratio,movie_facebook_likes']\n",
      "['Color,Alfred', 'Hitchcock,50,127,13000,148,John', 'Vernon,204,,Drama|Thriller,Roscoe', 'Lee', 'Browne,Topaz', ',12677,753,Philippe', 'Noiret,0,1960s|agent|cuba|intelligence|spy,http://www.imdb.com/title/tt0065112/?ref_=fn_tt_tt_1,89,English,USA,M,4000000,1969,187,6.3,1.85,414']\n",
      "['Color,Alfred', 'Hitchcock,110,116,13000,118,Jean', 'Marsh,195,,Thriller,Bernard', 'Cribbins,Frenzy', ',30982,771,Clive', 'Swift,0,penknife|police|rape|serial', 'killer|united', 'kingdom,http://www.imdb.com/title/tt0068611/?ref_=fn_tt_tt_1,199,English,UK,R,2000000,1972,146,7.5,1.85,0']\n",
      "['Color,Alfred', 'Hitchcock,67,120,13000,416,Bruce', 'Dern,897,,Comedy|Thriller,Ed', 'Lauter,Family', 'Plot', ',15293,2811,William', 'Devane,1,actor|diamond|heir|kidnapping|ransom,http://www.imdb.com/title/tt0074512/?ref_=fn_tt_tt_1,111,English,USA,PG,4490375,1976,844,6.8,1.85,609']\n",
      "['Color,Alfred', 'Hitchcock,64,128,13000,14,Lila', 'Kedrova,18,,Thriller,Tamara', 'Toumanova,Torn', 'Curtain', ',18656,70,David', 'Opatoshu,1,defection|east', 'germany|germany|iron', 'curtain|scientist,http://www.imdb.com/title/tt0061107/?ref_=fn_tt_tt_1,137,English,USA,Approved,6000000,1966,16,6.7,1.85,933']\n",
      "['Color,Alfred', 'Hitchcock,97,95,13000,82,Rhonda', 'Fleming,472,,Film-Noir|Mystery|Romance|Thriller,Norman', 'Lloyd,Spellbound', ',32927,896,Leo', 'G.', 'Carroll,1,amnesia|dream', 'analysis|dream', 'sequence|guilt', 'complex|post', 'traumatic', 'stress', 'disorder,http://www.imdb.com/title/tt0038109/?ref_=fn_tt_tt_1,161,English,USA,Unrated,1696377,1945,239,7.6,1.37,0']\n",
      "['Black', 'and', 'White,Alfred', 'Hitchcock,144,130,13000,333,Joan', 'Fontaine,1000,,Drama|Film-Noir|Mystery|Thriller,Laurence', 'Olivier,Rebecca', ',87424,2888,George', 'Sanders,2,death|estate|housekeeper|love|monte', 'carlo,http://www.imdb.com/title/tt0032976/?ref_=fn_tt_tt_1,276,English,USA,Not', 'Rated,1288000,1940,991,8.2,1.37,0']\n",
      "['Color,Alfred', 'Hitchcock,73,99,13000,232,John', 'Forsythe,282,,Comedy|Mystery|Romance,Jerry', 'Mathers,The', 'Trouble', 'with', 'Harry', ',24891,1041,Royal', 'Dano,0,artist|death|hunting|sheriff|vermont,http://www.imdb.com/title/tt0048750/?ref_=fn_tt_tt_1,150,English,USA,Approved,1200000,1955,255,7.2,1.5,0']\n",
      "['Color,Ang', 'Lee,552,127,0,341,Rafe', 'Spall,774,124976634,Adventure|Drama|Fantasy,Suraj', 'Sharma,Life', 'of', 'Pi', ',440084,2121,Tabu,0,animal|faith|india|journey|tiger,http://www.imdb.com/title/tt0454876/?ref_=fn_tt_tt_1,755,English,USA,PG,120000000,2012,358,8,1.85,122000']\n",
      "['Color,Ang', 'Lee,95,148,0,0,Jeffrey', 'Dover,3,630779,Drama|Romance|War|Western,Jeremy', 'W.', 'Auman,Ride', 'with', 'the', 'Devil', ',11101,5,Tobey', 'Maguire,0,bushwhacker|friend|honor|kansas|raid,http://www.imdb.com/title/tt0134154/?ref_=fn_tt_tt_1,159,English,USA,R,35000000,1999,2,6.8,2.35,633']\n",
      "['Color,Ang', 'Lee,210,120,0,210,Kevin', 'Chamberlin,579,7443007,Comedy|Drama|Music,Imelda', 'Staunton,Taking', 'Woodstock', ',24663,1500,Demetri', 'Martin,12,female', 'full', 'frontal', 'nudity|female', 'nudity|male', 'frontal', 'nudity|male', 'full', 'frontal', 'nudity|male', 'nudity,http://www.imdb.com/title/tt1127896/?ref_=fn_tt_tt_1,71,English,USA,R,30000000,2009,489,6.7,1.85,0']\n",
      "['Color,Ang', 'Lee,124,112,0,177,Kate', 'Burton,805,7837632,Drama,Joan', 'Allen,The', 'Ice', 'Storm', ',46396,1466,Henry', 'Czerny,0,ice|ice', 'storm|storm|thanksgiving|virgin,http://www.imdb.com/title/tt0119349/?ref_=fn_tt_tt_1,287,English,USA,R,18000000,1997,223,7.5,1.85,0']\n",
      "['Color,Ang', 'Lee,69,136,0,1000,Kate', 'Winslet,25000,42700000,Drama|Romance,Alan', 'Rickman,Sense', 'and', 'Sensibility', ',78392,41059,Tom', 'Wilkinson,2,1810s|female', 'protagonist|horseback', 'riding|inheritance|three', 'word', 'title,http://www.imdb.com/title/tt0114388/?ref_=fn_tt_tt_1,196,English,USA,PG,16500000,1995,14000,7.7,1.85,0']\n",
      "['Color,Ang', 'Lee,357,134,0,11000,Heath', 'Ledger,15000,83025853,Drama|Romance,Jake', 'Gyllenhaal,Brokeback', 'Mountain', ',259837,39789,Anne', 'Hathaway,0,gay', 'relationship|homosexuality|mountain|ranch|rodeo,http://www.imdb.com/title/tt0388795/?ref_=fn_tt_tt_1,2254,English,USA,R,14000000,2005,13000,7.7,1.85,13000']\n",
      "['Black', 'and', 'White,Clint', 'Eastwood,169,130,16000,416,Courtney', 'B.', 'Vance,16000,90454043,Action|Adventure|Thriller,Clint', 'Eastwood,Space', 'Cowboys', ',60165,17771,William', 'Devane,1,nasa|old', 'age|satellite|space|space', 'shuttle,http://www.imdb.com/title/tt0186566/?ref_=fn_tt_tt_1,326,English,USA,PG-13,65000000,2000,495,6.4,2.35,0']\n",
      "['Color,Clint', 'Eastwood,306,134,16000,204,Morgan', 'Freeman,13000,37479778,Biography|Drama|History|Sport,Matt', 'Damon,Invictus', ',124222,24458,Leleti', 'Khumalo,1,apartheid|nation|nelson', 'mandela|president|rugby,http://www.imdb.com/title/tt1057500/?ref_=fn_tt_tt_1,259,English,USA,PG-13,60000000,2009,11000,7.4,2.35,23000']\n",
      "['Color,Clint', 'Eastwood,490,133,16000,318,Leonard', 'Roberts,14000,350123553,Action|Biography|Drama|History|Thriller|War,Bradley', 'Cooper,American', 'Sniper', ',325264,16277,Keir', \"O'Donnell,0,assassin|death\", 'of', 'child|iraq|sniper|sniper', 'rifle,http://www.imdb.com/title/tt2179136/?ref_=fn_tt_tt_1,916,English,USA,R,58800000,2014,962,7.3,2.35,112000']\n",
      "['Color,Clint', 'Eastwood,264,141,16000,539,Michael', 'Kelly,11000,35707327,Crime|Drama|Mystery|Thriller,Angelina', 'Jolie', 'Pitt,Changeling', ',199056,12840,Colm', 'Feore,0,execution', 'by', 'hanging|los', 'angeles', 'police', 'department|miscarriage', 'of', 'justice|missing', 'child|wrongful', 'conviction,http://www.imdb.com/title/tt0824747/?ref_=fn_tt_tt_1,387,English,USA,R,55000000,2008,963,7.8,2.35,14000']\n",
      "['Color,Clint', 'Eastwood,279,135,16000,310,Chris', 'Bauer,23000,33574332,Drama|History|War,Paul', 'Walker,Flags', 'of', 'Our', 'Fathers', ',101221,24468,Tom', 'McCarthy,0,imperial', 'japan|japan|japanese', 'army|japanese', 'soldier|world', 'war', 'two,http://www.imdb.com/title/tt0418689/?ref_=fn_tt_tt_1,415,English,USA,R,90000000,2006,638,7.1,2.35,0']\n",
      "['Color,Clint', 'Eastwood,76,121,16000,826,Mark', 'Margolis,16000,50007168,Action|Crime|Drama|Thriller,Clint', 'Eastwood,Absolute', 'Power', ',39529,19139,Scott', 'Glenn,0,death|death', 'of', 'wife|murder|thief|violence,http://www.imdb.com/title/tt0118548/?ref_=fn_tt_tt_1,142,English,USA,R,50000000,1997,1000,6.7,2.35,1000']\n",
      "['Color,Clint', 'Eastwood,315,129,16000,447,Jay', 'Mohr,13000,32741596,Drama|Fantasy,Matt', 'Damon,Hereafter', ',80140,14344,Cécile', 'De', 'France,0,death|france|near', 'death', 'experience|tsunami|twin', 'brother,http://www.imdb.com/title/tt1212419/?ref_=fn_tt_tt_1,323,English,USA,PG-13,50000000,2010,563,6.5,2.35,16000']\n",
      "['Color,Clint', 'Eastwood,146,110,16000,581,Anjelica', 'Huston,16000,26199517,Action|Crime|Drama|Mystery|Thriller,Clint', 'Eastwood,Blood', 'Work', ',34356,18635,Rick', 'Hoffman,1,boat|heart', 'transplant|murder|serial', 'killer|sister,http://www.imdb.com/title/tt0309377/?ref_=fn_tt_tt_1,260,English,USA,R,50000000,2002,1000,6.4,2.35,705']\n",
      "['Color,Clint', 'Eastwood,249,134,16000,235,Steve', 'Schirripa,880,47034272,Biography|Drama|Music|Musical,Johnny', 'Cannizzaro,Jersey', 'Boys', ',25465,2281,Scott', 'Vance,1,band|music', 'group|musical', 'quartet|singer|song,http://www.imdb.com/title/tt1742044/?ref_=fn_tt_tt_1,190,English,USA,R,40000000,2014,413,6.9,2.35,16000']\n",
      "['Color,Clint', 'Eastwood,392,137,16000,363,Naomi', 'Watts,29000,37304950,Biography|Crime|Drama,Leonardo', 'DiCaprio,J.', 'Edgar', ',102728,36258,Kaitlyn', 'Dever,0,agent|fbi|federal', 'bureau', 'of', 'investigation|gay', 'relationship|secret,http://www.imdb.com/title/tt1616195/?ref_=fn_tt_tt_1,279,English,USA,R,35000000,2011,6000,6.6,2.35,16000']\n",
      "['Color,Clint', 'Eastwood,91,155,16000,229,Bob', 'Gunton,18000,25078937,Crime|Drama|Mystery|Thriller,Kevin', 'Spacey,Midnight', 'in', 'the', 'Garden', 'of', 'Good', 'and', 'Evil', ',31751,19689,Leon', 'Rippy,2,graveyard|murder|murder', 'trial|reporter|trial,http://www.imdb.com/title/tt0119668/?ref_=fn_tt_tt_1,216,English,USA,R,30000000,1997,461,6.6,1.85,0']\n",
      "['Color,Clint', 'Eastwood,229,138,16000,262,Spencer', 'Treat', 'Clark,616,90135191,Crime|Drama|Mystery|Thriller,John', 'Doman,Mystic', 'River', ',338415,1942,Tom', 'Guiry,0,ballistics|detective|friend|gun|sexual', 'abuse,http://www.imdb.com/title/tt0327056/?ref_=fn_tt_tt_1,935,English,USA,R,25000000,2003,541,8,2.35,12000']\n",
      "['Color,Clint', 'Eastwood,268,132,16000,567,Morgan', 'Freeman,16000,100422786,Drama|Sport,Clint', 'Eastwood,Million', 'Dollar', 'Baby', ',482064,28830,Mike', 'Colter,1,boxing|boxing', 'trainer|death|suicide', 'attempt|women', 'boxing,http://www.imdb.com/title/tt0405159/?ref_=fn_tt_tt_1,1106,English,USA,PG-13,30000000,2004,11000,8.1,2.35,14000']\n",
      "['Color,Clint', 'Eastwood,366,116,16000,198,Dreama', 'Walker,16000,148085755,Drama,Clint', 'Eastwood,Gran', 'Torino', ',561773,17347,Ahney', 'Her,0,gang|gang', 'rape|hmong|teenager|widower,http://www.imdb.com/title/tt1205489/?ref_=fn_tt_tt_1,871,English,USA,R,33000000,2008,601,8.2,2.35,28000']\n",
      "['Color,Clint', 'Eastwood,69,135,16000,86,Meryl', 'Streep,16000,70960517,Drama|Romance,Clint', 'Eastwood,The', 'Bridges', 'of', 'Madison', 'County', ',54631,27237,Debra', 'Monk,0,1960s|bridge|housewife|love|photographer,http://www.imdb.com/title/tt0112579/?ref_=fn_tt_tt_1,192,English,USA,PG-13,35000000,1995,11000,7.5,1.85,0']\n",
      "['Color,Clint', 'Eastwood,43,136,16000,216,Warren', 'Clarke,16000,46700000,Action|Adventure|Thriller,Clint', 'Eastwood,Firefox', ',19832,16805,Kenneth', 'Colley,1,fighter', 'plane|jet', 'fighter|refueling|russia|soviet', 'union,http://www.imdb.com/title/tt0083943/?ref_=fn_tt_tt_1,98,English,USA,PG,21000000,1982,281,5.9,2.35,0']\n",
      "['Color,Clint', 'Eastwood,131,131,16000,638,Morgan', 'Freeman,16000,101157447,Drama|Western,Clint', 'Eastwood,Unforgiven', ',277505,28544,Frances', 'Fisher,1,englishman|leaving', 'flowers', 'on', 'a', 'grave|one', 'last', 'job|reputation|visiting', \"wife's\", 'grave,http://www.imdb.com/title/tt0105695/?ref_=fn_tt_tt_1,495,English,USA,R,14400000,1992,11000,8.3,2.35,10000']\n",
      "['Color,Clint', 'Eastwood,251,141,16000,78,Kazunari', 'Ninomiya,378,13753931,Drama|History|War,Yuki', 'Matsuzaki,Letters', 'from', 'Iwo', 'Jima', ',132149,751,Shidô', 'Nakamura,0,blood', 'splatter|general|island|japan|world', 'war', 'two,http://www.imdb.com/title/tt0498380/?ref_=fn_tt_tt_1,316,Japanese,USA,R,19000000,2006,85,7.9,2.35,5000']\n",
      "['Color,Clint', 'Eastwood,38,115,16000,240,Chris', 'Penn,16000,41400000,Western,Clint', 'Eastwood,Pale', 'Rider', ',39451,17209,Sydney', 'Penny,0,gold|miner|preacher|prospector|sheriff,http://www.imdb.com/title/tt0089767/?ref_=fn_tt_tt_1,138,English,USA,R,6900000,1985,455,7.3,2.35,0']\n",
      "['Color,Clint', 'Eastwood,72,105,16000,258,Richard', 'Bull,16000,,Mystery|Western,Clint', 'Eastwood,High', 'Plains', 'Drifter', ',36381,17599,John', 'Hillerman,0,gravestone|gunfighter|outlaw|revenge|small', 'town,http://www.imdb.com/title/tt0068699/?ref_=fn_tt_tt_1,169,English,USA,R,5500000,1973,742,7.6,2.35,0']\n",
      "['Color,J.J.', 'Abrams,590,132,14000,928,Bruce', 'Greenwood,19000,228756232,Action|Adventure|Sci-Fi,Benedict', 'Cumberbatch,Star', 'Trek', 'Into', 'Darkness', ',395573,21411,Noel', 'Clarke,0,admiral|captain|manhunt|mission|space,http://www.imdb.com/title/tt1408101/?ref_=fn_tt_tt_1,1171,English,USA,PG-13,190000000,2013,981,7.8,2.35,92000']\n",
      "['Color,J.J.', 'Abrams,310,124,14000,979,Tom', 'Cruise,22000,133382309,Action|Adventure|Thriller,Philip', 'Seymour', 'Hoffman,Mission:', 'Impossible', 'III', ',256695,34817,Eddie', 'Marsan,0,arms', 'dealer|fictional', 'government', 'agency|mission|rescue|vatican,http://www.imdb.com/title/tt0317919/?ref_=fn_tt_tt_1,871,English,USA,PG-13,150000000,2006,10000,6.9,2.35,0']\n",
      "['Color,J.J.', 'Abrams,518,127,14000,981,Leonard', 'Nimoy,26000,257704099,Action|Adventure|Sci-Fi,Chris', 'Hemsworth,Star', 'Trek', ',504419,39284,Bruce', 'Greenwood,0,box', 'office', 'hit|future|lifted', 'by', 'the', 'throat|star', 'trek|vulcan,http://www.imdb.com/title/tt0796366/?ref_=fn_tt_tt_1,1559,English,USA,PG-13,150000000,2009,12000,8,2.35,19000']\n",
      "['Color,J.J.', 'Abrams,539,112,14000,417,AJ', 'Michalka,1000,126975169,Mystery|Sci-Fi|Thriller,Joel', 'Courtney,Super', '8', ',287822,3388,Zach', 'Mills,0,deputy|group', 'of', 'friends|time|train|train', 'crash,http://www.imdb.com/title/tt1650062/?ref_=fn_tt_tt_1,849,English,USA,PG-13,50000000,2011,560,7.1,2.35,37000']\n",
      "['Color,Jonathan', 'Demme,209,129,438,502,Dorian', 'Missick,18000,65948711,Drama|Mystery|Sci-Fi|Thriller,Denzel', 'Washington,The', 'Manchurian', 'Candidate', ',86422,20056,Jose', 'Pablo', 'Cantillo,1,brainwashed', 'assassin|conspiracy|critically', 'acclaimed|mother', 'son', 'relationship|soldier,http://www.imdb.com/title/tt0368008/?ref_=fn_tt_tt_1,363,English,USA,R,80000000,2004,1000,6.6,1.85,0']\n",
      "['Color,Jonathan', 'Demme,78,172,438,466,Kimberly', 'Elise,852,22843047,Drama|History|Horror,Oprah', 'Winfrey,Beloved', ',6082,2397,Hill', 'Harper,1,farm|freedom|ohio|slavery|spirit,http://www.imdb.com/title/tt0120603/?ref_=fn_tt_tt_1,207,English,USA,R,55000000,1998,637,5.9,1.85,853']\n",
      "['Color,Jonathan', 'Demme,185,138,438,173,Scott', 'Glenn,12000,130727000,Crime|Drama|Horror|Thriller,Anthony', 'Hopkins,The', 'Silence', 'of', 'the', 'Lambs', ',887467,13184,Anthony', 'Heald,0,case', 'file|fbi', 'agent|psycho', 'thriller|psychopath|serial', 'killer,http://www.imdb.com/title/tt0102926/?ref_=fn_tt_tt_1,916,English,USA,R,19000000,1991,826,8.6,1.85,40000']\n",
      "['Color,Jonathan', 'Demme,68,125,438,372,Tom', 'Hanks,18000,77324422,Drama,Denzel', 'Washington,Philadelphia', ',178731,33865,Jason', 'Robards,2,aids|city', 'name', 'in', 'title|gay|homophobia|lawyer,http://www.imdb.com/title/tt0107818/?ref_=fn_tt_tt_1,261,English,USA,PG-13,26000000,1993,15000,7.7,1.85,0']\n",
      "['Color,Jonathan', 'Demme,232,113,438,471,Rosemarie', 'DeWitt,11000,12796277,Drama|Romance,Anne', 'Hathaway,Rachel', 'Getting', 'Married', ',41226,12274,Bill', 'Irwin,1,12', 'step', 'program|friend|maid', 'of', 'honor|tears|wedding,http://www.imdb.com/title/tt1084950/?ref_=fn_tt_tt_1,281,English,USA,R,,2008,536,6.7,1.85,0']\n",
      "['Color,Mel', 'Brooks,103,96,0,542,Dick', 'Van', 'Patten,1000,38119483,Adventure|Comedy|Sci-Fi,Joan', 'Rivers,Spaceballs', ',136667,2936,Michael', 'Winslow,2,parody|planet', 'enclosed', 'within', 'shield|sci', 'fi', 'spoof|self', 'referential|winnebago,http://www.imdb.com/title/tt0094012/?ref_=fn_tt_tt_1,273,English,USA,PG,22700000,1987,605,7.1,1.85,13000']\n",
      "['Color,Mel', 'Brooks,48,92,0,842,Sid', 'Caesar,1000,,Comedy,Madeline', 'Kahn,History', 'of', 'the', 'World:', 'Part', 'I', ',36559,3931,Dom', 'DeLuise,0,french', 'revolution|old', 'testament|part', 'of', 'an', 'unfinished', 'series|reference', 'to', 'john', 'wayne|roman', 'emperor,http://www.imdb.com/title/tt0082517/?ref_=fn_tt_tt_1,131,English,USA,R,11000000,1981,898,6.9,2.35,0']\n",
      "['Color,Mel', 'Brooks,39,87,0,753,Dom', 'DeLuise,898,,Comedy|Romance,Sid', 'Caesar,Silent', 'Movie', ',12666,2951,Bernadette', 'Peters,0,black', 'comedy|friend|modern', 'silent', 'movie|silent', 'movie|two', 'word', 'title,http://www.imdb.com/title/tt0075222/?ref_=fn_tt_tt_1,61,,USA,PG,4400000,1976,842,6.7,1.85,629']\n",
      "['Color,Mel', 'Brooks,55,94,0,605,Harvey', 'Korman,1000,,Comedy,Madeline', 'Kahn,High', 'Anxiety', ',15115,2861,Dick', 'Van', \"Patten,0,belldon's\", 'hysteria|high', 'anxiety|hitchcockian|murder|parody,http://www.imdb.com/title/tt0076141/?ref_=fn_tt_tt_1,102,English,USA,PG,3400000,1977,628,6.7,1.85,0']\n",
      "['Black', 'and', 'White,Mel', 'Brooks,129,106,0,481,Peter', 'Boyle,1000,86300000,Comedy,Madeline', 'Kahn,Young', 'Frankenstein', ',112671,2703,Teri', \"Garr,0,assistant|castle|experiment|frankenstein's\", 'monster|scientist,http://www.imdb.com/title/tt0072431/?ref_=fn_tt_tt_1,315,English,USA,PG,2800000,1974,595,8,1.85,14000']\n",
      "['Color,Mel', 'Brooks,121,93,0,628,David', 'Huddleston,1000,119500000,Comedy|Western,Madeline', 'Kahn,Blazing', 'Saddles', ',95294,4701,Harvey', 'Korman,0,railroad|reference', 'to', 'douglas', 'fairbanks|reference', 'to', 'jesse', 'owens|reference', 'to', 'randolph', 'scott|year', '1874,http://www.imdb.com/title/tt0071230/?ref_=fn_tt_tt_1,363,English,USA,R,2600000,1974,1000,7.8,2.35,12000']\n",
      "['Color,Mel', 'Brooks,48,92,0,842,Sid', 'Caesar,1000,,Comedy,Madeline', 'Kahn,History', 'of', 'the', 'World:', 'Part', 'I', ',36559,3931,Dom', 'DeLuise,0,french', 'revolution|old', 'testament|part', 'of', 'an', 'unfinished', 'series|reference', 'to', 'john', 'wayne|roman', 'emperor,http://www.imdb.com/title/tt0082517/?ref_=fn_tt_tt_1,131,English,USA,R,11000000,1981,898,6.9,2.35,0']\n",
      "['Color,Mel', 'Gibson,132,178,0,403,Patrick', 'McGoohan,906,75600000,Biography|Drama|History|War,Mhairi', 'Calvey,Braveheart', ',736638,1976,James', 'Robinson,1,14th', 'century|legend|revolt|scotland|tyranny,http://www.imdb.com/title/tt0112573/?ref_=fn_tt_tt_1,1065,English,USA,R,72000000,1995,466,8.4,2.35,17000']\n",
      "['Color,Mel', 'Gibson,283,139,0,19,Dalia', 'Hernández,708,50859889,Action|Adventure|Drama|Thriller,Rudy', 'Youngblood,Apocalypto', ',236000,848,Jonathan', 'Brewer,0,jaguar|mayan|solar', 'eclipse|tribe|village,http://www.imdb.com/title/tt0472043/?ref_=fn_tt_tt_1,1043,Maya,USA,R,40000000,2006,78,7.8,1.85,14000']\n",
      "['Color,Mel', 'Gibson,406,120,0,113,Maia', 'Morgenstern,260,499263,Drama,Christo', 'Jivkov,The', 'Passion', 'of', 'the', 'Christ', ',179235,705,Hristo', 'Shopov,0,anti', 'semitism|cult', 'film|grindhouse|suffering|torture,http://www.imdb.com/title/tt0335345/?ref_=fn_tt_tt_1,2814,Aramaic,USA,R,30000000,2004,252,7.1,2.35,13000']\n"
     ]
    }
   ],
   "source": [
    "fhr = open('imdb.csv','r', encoding='utf-8', errors='ignore')\n",
    "\n",
    "for line in fhr:\n",
    "    ls = line.split()\n",
    "    print(ls)\n",
    "\n",
    "fhr.close()"
   ]
  },
  {
   "cell_type": "code",
   "execution_count": 189,
   "metadata": {},
   "outputs": [
    {
     "name": "stdout",
     "output_type": "stream",
     "text": [
      "director_name movie_title imdb_score\n",
      "Alfred Hitchcock Topaz 6.3\n",
      "Alfred Hitchcock Frenzy 7.5\n",
      "Alfred Hitchcock Family Plot 6.8\n",
      "Alfred Hitchcock Torn Curtain 6.7\n",
      "Alfred Hitchcock Spellbound 7.6\n",
      "Alfred Hitchcock Rebecca 8.2\n",
      "Alfred Hitchcock The Trouble with Harry 7.2\n",
      "Ang Lee Life of Pi 8\n",
      "Ang Lee Ride with the Devil 6.8\n",
      "Ang Lee Taking Woodstock 6.7\n",
      "Ang Lee The Ice Storm 7.5\n",
      "Ang Lee Sense and Sensibility 7.7\n",
      "Ang Lee Brokeback Mountain 7.7\n",
      "Clint Eastwood Space Cowboys 6.4\n",
      "Clint Eastwood Invictus 7.4\n",
      "Clint Eastwood American Sniper 7.3\n",
      "Clint Eastwood Changeling 7.8\n",
      "Clint Eastwood Flags of Our Fathers 7.1\n",
      "Clint Eastwood Absolute Power 6.7\n",
      "Clint Eastwood Hereafter 6.5\n",
      "Clint Eastwood Blood Work 6.4\n",
      "Clint Eastwood Jersey Boys 6.9\n",
      "Clint Eastwood J. Edgar 6.6\n",
      "Clint Eastwood Midnight in the Garden of Good and Evil 6.6\n",
      "Clint Eastwood Mystic River 8\n",
      "Clint Eastwood Million Dollar Baby 8.1\n",
      "Clint Eastwood Gran Torino 8.2\n",
      "Clint Eastwood The Bridges of Madison County 7.5\n",
      "Clint Eastwood Firefox 5.9\n",
      "Clint Eastwood Unforgiven 8.3\n",
      "Clint Eastwood Letters from Iwo Jima 7.9\n",
      "Clint Eastwood Pale Rider 7.3\n",
      "Clint Eastwood High Plains Drifter 7.6\n",
      "J.J. Abrams Star Trek Into Darkness 7.8\n",
      "J.J. Abrams Mission: Impossible III 6.9\n",
      "J.J. Abrams Star Trek 8\n",
      "J.J. Abrams Super 8 7.1\n",
      "Jonathan Demme The Manchurian Candidate 6.6\n",
      "Jonathan Demme Beloved 5.9\n",
      "Jonathan Demme The Silence of the Lambs 8.6\n",
      "Jonathan Demme Philadelphia 7.7\n",
      "Jonathan Demme Rachel Getting Married 6.7\n",
      "Mel Brooks Spaceballs 7.1\n",
      "Mel Brooks History of the World: Part I 6.9\n",
      "Mel Brooks Silent Movie 6.7\n",
      "Mel Brooks High Anxiety 6.7\n",
      "Mel Brooks Young Frankenstein 8\n",
      "Mel Brooks Blazing Saddles 7.8\n",
      "Mel Brooks History of the World: Part I 6.9\n",
      "Mel Gibson Braveheart 8.4\n",
      "Mel Gibson Apocalypto 7.8\n",
      "Mel Gibson The Passion of the Christ 7.1\n"
     ]
    }
   ],
   "source": [
    "fhr = open('imdb.csv','r', encoding='utf-8', errors='ignore')\n",
    "\n",
    "for line in fhr:\n",
    "    ls = line.split(',')\n",
    "    director = (ls[1]).strip()\n",
    "    title = (ls[11]).strip()\n",
    "    rating = (ls[25]).strip()\n",
    "    print(director, title, rating)\n",
    "\n",
    "fhr.close()"
   ]
  },
  {
   "cell_type": "code",
   "execution_count": 190,
   "metadata": {},
   "outputs": [
    {
     "name": "stdout",
     "output_type": "stream",
     "text": [
      "Alfred Hitchcock Topaz 6.3\n",
      "Alfred Hitchcock Frenzy 7.5\n",
      "Alfred Hitchcock Family Plot 6.8\n",
      "Alfred Hitchcock Torn Curtain 6.7\n",
      "Alfred Hitchcock Spellbound 7.6\n",
      "Alfred Hitchcock Rebecca 8.2\n",
      "Alfred Hitchcock The Trouble with Harry 7.2\n",
      "Ang Lee Life of Pi 8\n",
      "Ang Lee Ride with the Devil 6.8\n",
      "Ang Lee Taking Woodstock 6.7\n",
      "Ang Lee The Ice Storm 7.5\n",
      "Ang Lee Sense and Sensibility 7.7\n",
      "Ang Lee Brokeback Mountain 7.7\n",
      "Clint Eastwood Space Cowboys 6.4\n",
      "Clint Eastwood Invictus 7.4\n",
      "Clint Eastwood American Sniper 7.3\n",
      "Clint Eastwood Changeling 7.8\n",
      "Clint Eastwood Flags of Our Fathers 7.1\n",
      "Clint Eastwood Absolute Power 6.7\n",
      "Clint Eastwood Hereafter 6.5\n",
      "Clint Eastwood Blood Work 6.4\n",
      "Clint Eastwood Jersey Boys 6.9\n",
      "Clint Eastwood J. Edgar 6.6\n",
      "Clint Eastwood Midnight in the Garden of Good and Evil 6.6\n",
      "Clint Eastwood Mystic River 8\n",
      "Clint Eastwood Million Dollar Baby 8.1\n",
      "Clint Eastwood Gran Torino 8.2\n",
      "Clint Eastwood The Bridges of Madison County 7.5\n",
      "Clint Eastwood Firefox 5.9\n",
      "Clint Eastwood Unforgiven 8.3\n",
      "Clint Eastwood Letters from Iwo Jima 7.9\n",
      "Clint Eastwood Pale Rider 7.3\n",
      "Clint Eastwood High Plains Drifter 7.6\n",
      "J.J. Abrams Star Trek Into Darkness 7.8\n",
      "J.J. Abrams Mission: Impossible III 6.9\n",
      "J.J. Abrams Star Trek 8\n",
      "J.J. Abrams Super 8 7.1\n",
      "Jonathan Demme The Manchurian Candidate 6.6\n",
      "Jonathan Demme Beloved 5.9\n",
      "Jonathan Demme The Silence of the Lambs 8.6\n",
      "Jonathan Demme Philadelphia 7.7\n",
      "Jonathan Demme Rachel Getting Married 6.7\n",
      "Mel Brooks Spaceballs 7.1\n",
      "Mel Brooks History of the World: Part I 6.9\n",
      "Mel Brooks Silent Movie 6.7\n",
      "Mel Brooks High Anxiety 6.7\n",
      "Mel Brooks Young Frankenstein 8\n",
      "Mel Brooks Blazing Saddles 7.8\n",
      "Mel Brooks History of the World: Part I 6.9\n",
      "Mel Gibson Braveheart 8.4\n",
      "Mel Gibson Apocalypto 7.8\n",
      "Mel Gibson The Passion of the Christ 7.1\n"
     ]
    }
   ],
   "source": [
    "fhr = open('imdb.csv','r', encoding='utf-8', errors='ignore')\n",
    "\n",
    "fhr.readline() # read the first line and ignore it\n",
    "for line in fhr:\n",
    "    ls = line.split(',')\n",
    "    director = (ls[1]).strip()\n",
    "    title = (ls[11]).strip()\n",
    "    rating = (ls[25]).strip()\n",
    "    print(director, title, rating)\n",
    "\n",
    "fhr.close()"
   ]
  },
  {
   "cell_type": "code",
   "execution_count": 191,
   "metadata": {},
   "outputs": [
    {
     "name": "stdout",
     "output_type": "stream",
     "text": [
      "{'Topaz': '6.3', 'Frenzy': '7.5', 'Family Plot': '6.8', 'Torn Curtain': '6.7', 'Spellbound': '7.6', 'Rebecca': '8.2', 'The Trouble with Harry': '7.2', 'Life of Pi': '8', 'Ride with the Devil': '6.8', 'Taking Woodstock': '6.7', 'The Ice Storm': '7.5', 'Sense and Sensibility': '7.7', 'Brokeback Mountain': '7.7', 'Space Cowboys': '6.4', 'Invictus': '7.4', 'American Sniper': '7.3', 'Changeling': '7.8', 'Flags of Our Fathers': '7.1', 'Absolute Power': '6.7', 'Hereafter': '6.5', 'Blood Work': '6.4', 'Jersey Boys': '6.9', 'J. Edgar': '6.6', 'Midnight in the Garden of Good and Evil': '6.6', 'Mystic River': '8', 'Million Dollar Baby': '8.1', 'Gran Torino': '8.2', 'The Bridges of Madison County': '7.5', 'Firefox': '5.9', 'Unforgiven': '8.3', 'Letters from Iwo Jima': '7.9', 'Pale Rider': '7.3', 'High Plains Drifter': '7.6', 'Star Trek Into Darkness': '7.8', 'Mission: Impossible III': '6.9', 'Star Trek': '8', 'Super 8': '7.1', 'The Manchurian Candidate': '6.6', 'Beloved': '5.9', 'The Silence of the Lambs': '8.6', 'Philadelphia': '7.7', 'Rachel Getting Married': '6.7', 'Spaceballs': '7.1', 'History of the World: Part I': '6.9', 'Silent Movie': '6.7', 'High Anxiety': '6.7', 'Young Frankenstein': '8', 'Blazing Saddles': '7.8', 'Braveheart': '8.4', 'Apocalypto': '7.8', 'The Passion of the Christ': '7.1'}\n"
     ]
    }
   ],
   "source": [
    "fhr = open('imdb.csv','r', encoding='utf-8', errors='ignore')\n",
    "\n",
    "imdbD = {}\n",
    "fhr.readline()\n",
    "\n",
    "for line in fhr:\n",
    "    ls = line.split(',')\n",
    "    title = (ls[11]).strip()\n",
    "    rating = (ls[25]).strip()\n",
    "    if (title not in imdbD.keys()):\n",
    "        imdbD[title] = rating\n",
    "\n",
    "fhr.close()\n",
    "print(imdbD)"
   ]
  },
  {
   "cell_type": "code",
   "execution_count": 192,
   "metadata": {},
   "outputs": [
    {
     "name": "stdout",
     "output_type": "stream",
     "text": [
      "{'Alfred Hitchcock': {'Topaz': '6.3', 'Frenzy': '7.5', 'Family Plot': '6.8', 'Torn Curtain': '6.7', 'Spellbound': '7.6', 'Rebecca': '8.2', 'The Trouble with Harry': '7.2'}, 'Ang Lee': {'Life of Pi': '8', 'Ride with the Devil': '6.8', 'Taking Woodstock': '6.7', 'The Ice Storm': '7.5', 'Sense and Sensibility': '7.7', 'Brokeback Mountain': '7.7'}, 'Clint Eastwood': {'Space Cowboys': '6.4', 'Invictus': '7.4', 'American Sniper': '7.3', 'Changeling': '7.8', 'Flags of Our Fathers': '7.1', 'Absolute Power': '6.7', 'Hereafter': '6.5', 'Blood Work': '6.4', 'Jersey Boys': '6.9', 'J. Edgar': '6.6', 'Midnight in the Garden of Good and Evil': '6.6', 'Mystic River': '8', 'Million Dollar Baby': '8.1', 'Gran Torino': '8.2', 'The Bridges of Madison County': '7.5', 'Firefox': '5.9', 'Unforgiven': '8.3', 'Letters from Iwo Jima': '7.9', 'Pale Rider': '7.3', 'High Plains Drifter': '7.6'}, 'J.J. Abrams': {'Star Trek Into Darkness': '7.8', 'Mission: Impossible III': '6.9', 'Star Trek': '8', 'Super 8': '7.1'}, 'Jonathan Demme': {'The Manchurian Candidate': '6.6', 'Beloved': '5.9', 'The Silence of the Lambs': '8.6', 'Philadelphia': '7.7', 'Rachel Getting Married': '6.7'}, 'Mel Brooks': {'Spaceballs': '7.1', 'History of the World: Part I': '6.9', 'Silent Movie': '6.7', 'High Anxiety': '6.7', 'Young Frankenstein': '8', 'Blazing Saddles': '7.8'}, 'Mel Gibson': {'Braveheart': '8.4', 'Apocalypto': '7.8', 'The Passion of the Christ': '7.1'}}\n"
     ]
    }
   ],
   "source": [
    "fhr = open('imdb.csv','r', encoding='utf-8', errors='ignore')\n",
    "\n",
    "imdbND = {}\n",
    "fhr.readline()\n",
    "\n",
    "for line in fhr:\n",
    "    ls = line.split(',')\n",
    "    director = (ls[1]).strip()\n",
    "    title = (ls[11]).strip()\n",
    "    rating = (ls[25]).strip()\n",
    "    if (director in imdbND.keys()):\n",
    "        titleratings = imdbND[director]\n",
    "    else:\n",
    "        titleratings = {}\n",
    "    titleratings[title] = rating\n",
    "    imdbND[director] = titleratings\n",
    "\n",
    "print(imdbND)\n",
    "    \n",
    "fhr.close()\n"
   ]
  },
  {
   "cell_type": "code",
   "execution_count": 193,
   "metadata": {},
   "outputs": [],
   "source": [
    "fhr = open('dmr.csv','w', encoding='utf-8', errors='ignore')\n",
    "\n",
    "fhr.write('Director,Title,Rating\\n')\n",
    "for director, movierating in imdbND.items():\n",
    "    for movie, rating in movierating.items():\n",
    "        fhr.write(director + ','+ movie + ','+ rating + '\\n')\n",
    "\n",
    "fhr.close()"
   ]
  },
  {
   "cell_type": "code",
   "execution_count": 194,
   "metadata": {},
   "outputs": [],
   "source": [
    "def minkowksiD(ratings1, ratings2, r):\n",
    "    \n",
    "    # calcualte minkowski distance\n",
    "    distance = 0       \n",
    "    for item in ratings1.keys():\n",
    "        # consider item rating only if \n",
    "        # both users have rated item\n",
    "        if item in ratings2.keys():\n",
    "            x = ratings1[item]\n",
    "            y = ratings2[item]\n",
    "            distance += pow(abs(x - y), r)\n",
    "    \n",
    "    # return value of minkowski distance\n",
    "    return pow(distance,1/r)\n",
    "\n",
    "DirectorMovieRatings = {\n",
    "    'Alfred Hitchcock': {'Family Plot': '6.8', 'Rebecca': '8.2', 'Spellbound': '7.6'}, \n",
    "    'Mel Gibson': {'Apocalypto': '7.8', 'Braveheart': '8.4'}, \n",
    "    'Mel Brooks': {'Spaceballs': '7.1', 'History of the World: Part I': '6.9'}, \n",
    "    'Ang Lee': {'Life of Pi': '8', 'The Ice Storm': '7.5'}, \n",
    "    'J.J. Abrams': {'Star Trek': '8', 'Star Trek Into Darkness': '7.8'}, \n",
    "    'Clint Eastwood': {'J. Edgar': '6.6', 'The Bridges of Madison County': '7.5'}}\n",
    "    \n",
    "UserMovieRatings = {\n",
    "    'Amy': {'Family Plot':10, 'Rebecca':5, 'Spellbound':9, 'Star Trek':6}, \n",
    "    'Bill': {'Apocalypto':8, 'Braveheart':3, 'Rebecca':10, 'Spellbound':5, 'Star Trek':7}, \n",
    "    'Cathy': {'Spaceballs':7, 'The Ice Storm':4, 'Family Plot':5, 'Rebecca':9, 'Spellbound':1}, \n",
    "    'Dave': {'Braveheart':5, 'Rebecca':7, 'Spellbound':4}, \n",
    "    'Ernie': {'Apocalypto':3, 'Braveheart':8, 'Rebecca':1, 'Star Trek':7}, \n",
    "    'Fiona': {'The Ice Storm':3, 'Family Plot':10, 'Rebecca':6, 'Spellbound':10}}\n",
    "\n"
   ]
  },
  {
   "cell_type": "code",
   "execution_count": 195,
   "metadata": {},
   "outputs": [
    {
     "name": "stdout",
     "output_type": "stream",
     "text": [
      "{'Apocalypto': 8, 'Braveheart': 3, 'Rebecca': 10, 'Spellbound': 5, 'Star Trek': 7}\n"
     ]
    }
   ],
   "source": [
    "UserX = 'Amy'\n",
    "UserXRatings = UserMovieRatings[UserX]\n",
    "\n",
    "UserY = 'Bill'\n",
    "UserYRatings = UserMovieRatings[UserY]\n",
    "print(UserYRatings)"
   ]
  },
  {
   "cell_type": "code",
   "execution_count": 196,
   "metadata": {},
   "outputs": [
    {
     "name": "stdout",
     "output_type": "stream",
     "text": [
      "10.0\n",
      "6.48074069840786\n",
      "5.748897078944831\n"
     ]
    }
   ],
   "source": [
    "print(minkowksiD(UserXRatings, UserYRatings, 1))\n",
    "print(minkowksiD(UserXRatings, UserYRatings, 2))\n",
    "print(minkowksiD(UserXRatings, UserYRatings, 3))"
   ]
  },
  {
   "cell_type": "code",
   "execution_count": 197,
   "metadata": {},
   "outputs": [
    {
     "name": "stdout",
     "output_type": "stream",
     "text": [
      "Amy {'Family Plot': 10, 'Rebecca': 5, 'Spellbound': 9, 'Star Trek': 6}\n",
      "Bill {'Apocalypto': 8, 'Braveheart': 3, 'Rebecca': 10, 'Spellbound': 5, 'Star Trek': 7}\n",
      "Cathy {'Spaceballs': 7, 'The Ice Storm': 4, 'Family Plot': 5, 'Rebecca': 9, 'Spellbound': 1}\n",
      "Dave {'Braveheart': 5, 'Rebecca': 7, 'Spellbound': 4}\n",
      "Ernie {'Apocalypto': 3, 'Braveheart': 8, 'Rebecca': 1, 'Star Trek': 7}\n",
      "Fiona {'The Ice Storm': 3, 'Family Plot': 10, 'Rebecca': 6, 'Spellbound': 10}\n"
     ]
    }
   ],
   "source": [
    "for user, movierating in UserMovieRatings.items():\n",
    "    print(user, movierating)"
   ]
  },
  {
   "cell_type": "code",
   "execution_count": 198,
   "metadata": {},
   "outputs": [
    {
     "name": "stdout",
     "output_type": "stream",
     "text": [
      "[('Fiona', 2.0), ('Ernie', 5.0), ('Dave', 7.0), ('Bill', 10.0), ('Cathy', 17.0)]\n"
     ]
    }
   ],
   "source": [
    "UserX = 'Amy'\n",
    "userXRatings = UserMovieRatings[UserX]\n",
    "\n",
    "RatingMD = []\n",
    "\n",
    "for UserY, UserYRatings in UserMovieRatings.items():\n",
    "    if UserY == UserX:\n",
    "        continue\n",
    "    UserMD = minkowksiD(UserXRatings, UserYRatings, 1)\n",
    "    tpl = (UserY, UserMD)\n",
    "    RatingMD.append(tpl)\n",
    "\n",
    "from operator import itemgetter\n",
    "\n",
    "print(sorted(RatingMD, key = itemgetter(1)))\n"
   ]
  },
  {
   "cell_type": "markdown",
   "metadata": {},
   "source": [
    "---\n",
    "\n",
    "## Exercise 7\n"
   ]
  },
  {
   "cell_type": "markdown",
   "metadata": {},
   "source": [
    "Let’s say we have 6 users, and they have rated 8 different movies on a scale of 1 to 10. Note that not all\n",
    "users have rated all movies.\n",
    "> UserMovieRatings = { <br>\n",
    "> 'Amy': {'Family Plot':10, 'Rebecca':5, 'Spellbound':9, 'Star Trek':6},\n",
    "  'Bill': {'Apocalypto':8, 'Braveheart':3, 'Rebecca':10, 'Spellbound':5, 'Star Trek':7},\n",
    "  'Cathy': {'Spaceballs':7, 'The Ice Storm':4, 'Family Plot':5, 'Rebecca':9, 'Spellbound':1},\n",
    "  'Dave': {'Braveheart':5, 'Rebecca':7, 'Spellbound':4},\n",
    "  'Ernie': {'Apocalypto':3, 'Braveheart':8, 'Rebecca':1, 'Star Trek':7},\n",
    "  'Fiona': {'The Ice Storm':3, 'Family Plot':10, 'Rebecca':6, 'Spellbound':10}}\n",
    "\n",
    "You can build a simple User-Based Recommendation System as follows:\n",
    "- Let’s say you want to make recommendations for UserX\n",
    "- Given a UserX, you can find the most similar user or the “nearest neighbor” of UserX by calculating the manhattan distance between UserX and every other user (not including UserX).\n",
    "- The person with the smallest manhattan distance is considered the most similar user. Let’s call this person UserXNN.\n",
    "- You can now find recommendations for UserX by considering all the movies that UserXNN has rated but that UserX has not.\n",
    "\n",
    "\n",
    "You have been provided with a framework for this MiniProject: “MiniProject – Framework.py”.\n",
    "- The Framework defines a function called manhattanD which takes two rating dictionaries ratings1D and ratings2D as parameters and returns the Manhattan Distance between the two dictionaries.\n",
    "- Pseudo-code has been provided to you in the framework. So, you essentially need to plug in appropriate code for steps 1 through 5 in the framework.\n",
    "\n",
    "\n",
    "***Hints:***\n",
    "- You can use the last exercise in ExerciseSet7 as a starting point for the mini project.\n",
    "- The next page provides intermediate and final answers for each user. You can use this to check your work.\n",
    "\n",
    "\n",
    "Some things to keep in mind as you code:\n",
    "- Make your code readable – for instance, use meaningful variable names and comments.\n",
    "- Make your code elegant – for instance, balance the number of variables you introduce – too many or too few make your code difficult to debug, read, and maintain.\n",
    "- Make your output readable and user-friendly"
   ]
  },
  {
   "cell_type": "code",
   "execution_count": 199,
   "metadata": {},
   "outputs": [
    {
     "name": "stdout",
     "output_type": "stream",
     "text": [
      "Recommendations for: Amy\n",
      "Based on closest user: Fiona\n",
      "[('The Ice Storm', 3)]\n"
     ]
    }
   ],
   "source": [
    "# prompt\n",
    "UserMovieRatings = {'Amy': {'Family Plot':10, 'Rebecca':5, 'Spellbound':9, 'Star Trek':6},\n",
    "                    'Bill': {'Apocalypto':8, 'Braveheart':3, 'Rebecca':10, 'Spellbound':5, 'Star Trek':7},\n",
    "                    'Cathy': {'Spaceballs':7, 'The Ice Storm':4, 'Family Plot':5, 'Rebecca':9, 'Spellbound':1},\n",
    "                    'Dave': {'Braveheart':5, 'Rebecca':7, 'Spellbound':4},\n",
    "                    'Ernie': {'Apocalypto':3, 'Braveheart':8, 'Rebecca':1, 'Star Trek':7},\n",
    "                    'Fiona': {'The Ice Storm':3, 'Family Plot':10, 'Rebecca':6, 'Spellbound':10}}\n",
    "\n",
    "# mini Framework\n",
    "from operator import itemgetter\n",
    "\n",
    "# manhattan distance between 2 dictionary ratings\n",
    "def manhattanD(ratings1D, ratings2D):\n",
    "    \n",
    "    # calcualte manhattan distance\n",
    "    distance = 0       \n",
    "    for k in ratings1D.keys() & ratings2D.keys():\n",
    "        distance = distance + abs(ratings1D[k] - ratings2D[k])\n",
    "    \n",
    "    # return value of manhattan distance\n",
    "    return distance\n",
    "\n",
    "\n",
    "# for whom are we making recommendations?\n",
    "userX = \"Amy\"\n",
    "userXRatings = UserMovieRatings[userX]\n",
    "\n",
    "# find the manhattan distance between userX's ratings, and each of the other user's ratings.\n",
    "# use a for loop to get at the other users and their ratings - DO NOT hard code.\n",
    "# use the manhattan function to caclulate the manhattan distance between user ratings.\n",
    "# assign list of (user, distance) tuples to variable userDistances.\n",
    "# Example: [('Bill', 4.39), ('Cathy', 3.16), ('Dave', 1.41), ('Ernie', 3.64)]\n",
    "\n",
    "userDistances = []\n",
    "\n",
    "# <<<<< (1) YOUR CODE HERE >>>>>\n",
    "for UserY, UserYRatings in UserMovieRatings.items():\n",
    "    if UserY == UserX:\n",
    "        continue\n",
    "    UserMD = minkowksiD(UserXRatings, UserYRatings, 1)\n",
    "    tpl = (UserY, UserMD)\n",
    "    userDistances.append(tpl)\n",
    "\n",
    "\n",
    "# sort list of tuples by lowest distance to highest distance.\n",
    "# assign sorted list to variable userSortedDistances.\n",
    "# Example: [('Dave', 1.41), ('Cathy', 3.16), ('Ernie', 3.64), ('Bill', 4.39)]\n",
    "\n",
    "# userSortedDistances = []\n",
    "# <<<<< (2) YOUR CODE HERE >>>>>\n",
    "userSortedDistances = sorted(userDistances, key = itemgetter(1))\n",
    "\n",
    "\n",
    "# userX's NN is the user at the 0th position of the sorted list.\n",
    "# assign NN to userXNN.\n",
    "# Example: 'Dave'\n",
    "\n",
    "userXNN = \"\"\n",
    "# <<<<< (3) YOUR CODE HERE >>>>>\n",
    "userXNN = userSortedDistances[0][0]\n",
    "\n",
    "# recos for userX will include movies rated by userXNN, not already rated by userX.\n",
    "# assign list of (movie, rating) tuples to variable userXRecos.\n",
    "# Example: [('Family Plot',10), ('The Ice Storm',3), ('Rebecca',6)]\n",
    "\n",
    "userXRecos = []\n",
    "userXNotRated = (UserMovieRatings[userXNN].keys() - UserMovieRatings[userX].keys())\n",
    "\n",
    "for i in UserMovieRatings[userXNN].items():\n",
    "    if i[0] in userXNotRated:\n",
    "        userXRecos.append(i)\n",
    "\n",
    "\n",
    "# sort list of tuples by highest rating to lowest rating.\n",
    "# assign sorted list to varaible userXSortedRecos.\n",
    "# Example: [('Family Plot',10), ('Rebecca',6), ('The Ice Storm',3)]\n",
    "\n",
    "userXSortedRecos = []\n",
    "# <<<<< (5) YOUR CODE HERE >>>>>\n",
    "userXSortedRecos = sorted(userXRecos, key=itemgetter(1))\n",
    "\n",
    "\n",
    "print (\"Recommendations for:\", userX)\n",
    "print (\"Based on closest user:\", userXNN)\n",
    "print (userXSortedRecos)"
   ]
  },
  {
   "cell_type": "markdown",
   "metadata": {},
   "source": [
    "## Exercise 7 - Final Recommendations For Each User"
   ]
  },
  {
   "cell_type": "code",
   "execution_count": 200,
   "metadata": {},
   "outputs": [
    {
     "name": "stdout",
     "output_type": "stream",
     "text": [
      "Recommendation for:  Amy\n",
      "Based on users:  Fiona ( 2 )\n",
      "Recommendation:  [('The Ice Storm', 3)]\n",
      "\n",
      "Recommendation for:  Bill\n",
      "Based on users:  Cathy ( 5 )\n",
      "Recommendation:  [('Spaceballs', 7), ('Family Plot', 5), ('The Ice Storm', 4)]\n",
      "\n",
      "Recommendation for:  Cathy\n",
      "Based on users:  Bill ( 5 )\n",
      "Recommendation:  [('Apocalypto', 8), ('Star Trek', 7), ('Braveheart', 3)]\n",
      "\n",
      "Recommendation for:  Dave\n",
      "Based on users:  Cathy ( 5 )\n",
      "Recommendation:  [('Spaceballs', 7), ('Family Plot', 5), ('The Ice Storm', 4)]\n",
      "\n",
      "Recommendation for:  Ernie\n",
      "Based on users:  Amy ( 5 )\n",
      "Recommendation:  [('Family Plot', 10), ('Spellbound', 9)]\n",
      "\n",
      "Recommendation for:  Fiona\n",
      "Based on users:  Amy ( 2 )\n",
      "Recommendation:  [('Star Trek', 6)]\n",
      "\n"
     ]
    }
   ],
   "source": [
    "# prompt\n",
    "UserMovieRatings = {'Amy': {'Family Plot':10, 'Rebecca':5, 'Spellbound':9, 'Star Trek':6},\n",
    "                    'Bill': {'Apocalypto':8, 'Braveheart':3, 'Rebecca':10, 'Spellbound':5, 'Star Trek':7},\n",
    "                    'Cathy': {'Spaceballs':7, 'The Ice Storm':4, 'Family Plot':5, 'Rebecca':9, 'Spellbound':1},\n",
    "                    'Dave': {'Braveheart':5, 'Rebecca':7, 'Spellbound':4},\n",
    "                    'Ernie': {'Apocalypto':3, 'Braveheart':8, 'Rebecca':1, 'Star Trek':7},\n",
    "                    'Fiona': {'The Ice Storm':3, 'Family Plot':10, 'Rebecca':6, 'Spellbound':10}}\n",
    "\n",
    "\n",
    "# mini Framework\n",
    "from operator import itemgetter\n",
    "\n",
    "# manhattan distance between 2 dictionary ratings\n",
    "def manhattanD(ratings1D, ratings2D):\n",
    "    \n",
    "    # calcualte manhattan distance\n",
    "    distance = 0       \n",
    "    for k in ratings1D.keys() & ratings2D.keys():\n",
    "        distance = distance + abs(ratings1D[k] - ratings2D[k])\n",
    "    \n",
    "    # return value of manhattan distance\n",
    "    return distance\n",
    "\n",
    "AllUsers = list(UserMovieRatings.keys())\n",
    "\n",
    "UsersMDD = {}\n",
    "\n",
    "for i in AllUsers:\n",
    "    currentLowestScore = 0\n",
    "    for j in AllUsers:\n",
    "        if i == j:\n",
    "            continue\n",
    "        else:\n",
    "            ijMD = manhattanD(UserMovieRatings[i],UserMovieRatings[j])\n",
    "#             print(i, '-', j, ':', ijMD)\n",
    "            if currentLowestScore == 0:\n",
    "                currentLowestScore = ijMD\n",
    "                currentLowestUser = j\n",
    "            elif ijMD < currentLowestScore:\n",
    "                currentLowestScore = ijMD\n",
    "                currentLowestUser = j\n",
    "            else:\n",
    "                continue\n",
    "\n",
    "    UsersMDD[i] = (currentLowestUser, currentLowestScore)\n",
    "\n",
    "# print(UsersMDD)\n",
    "# print()\n",
    "for userX, (userY, score) in UsersMDD.items():\n",
    "    diff = set()\n",
    "    diff = (UserMovieRatings[userY].keys() - UserMovieRatings[userX].keys())\n",
    "    if diff != set():\n",
    "        print('Recommendation for: ',userX)\n",
    "        print('Based on users: ', userY, '(', score, ')')\n",
    "        movieScore = []\n",
    "        for i in diff:\n",
    "            tpl = (i, UserMovieRatings[userY][i])\n",
    "            movieScore.append(tpl)\n",
    "        print('Recommendation: ', sorted(movieScore, key=itemgetter(1), reverse=True))\n",
    "        print()\n",
    "# "
   ]
  },
  {
   "cell_type": "code",
   "execution_count": null,
   "metadata": {},
   "outputs": [],
   "source": [
    "\n"
   ]
  }
 ],
 "metadata": {
  "kernelspec": {
   "display_name": "Python 3",
   "language": "python",
   "name": "python3"
  },
  "language_info": {
   "codemirror_mode": {
    "name": "ipython",
    "version": 3
   },
   "file_extension": ".py",
   "mimetype": "text/x-python",
   "name": "python",
   "nbconvert_exporter": "python",
   "pygments_lexer": "ipython3",
   "version": "3.8.1"
  }
 },
 "nbformat": 4,
 "nbformat_minor": 4
}
