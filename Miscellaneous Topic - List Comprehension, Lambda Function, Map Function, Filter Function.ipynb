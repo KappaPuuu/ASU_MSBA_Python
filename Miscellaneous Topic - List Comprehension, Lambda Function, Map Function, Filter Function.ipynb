{
 "cells": [
  {
   "cell_type": "markdown",
   "metadata": {},
   "source": [
    "# Introduction\n",
    "\n",
    "Welcome to the Advanced Python Workshop!\n",
    "\n",
    "The content in this workshop was originally created by Dr. Hina Arora for an Advanced Data Mining course in 2018/2019. You might therefore still see some references to the Data Mining course in the workshop videos - you may safely ignore these references.\n",
    "\n",
    "**Pre-requisites for this workshop:**\n",
    "\n",
    "- It is assumed that you have already successfully completed the Basic Python Workshop.\n",
    "- Note that this is not a workshop on data mining. Rather, it covers how you can accomplish common data mining tasks using advanced Python packages. It is therefore assumed that (a) you either already have basic knowledge of common data mining tasks (such as data visualization, pre-processing, transformation, and building and evaluating supervised/unsupervised models), or (b) that you are using this workshop as a companion to a data mining course that you are currently taking. This is especially critical for the SKLearn module.\n",
    "\n",
    "\n",
    "This workshop is designed to be a fully-online self-paced workshop. The practice quizzes are set up to test your knowledge of key concepts in each module. It is therefore recommended you attempt the quizzes without executing the code. This will also help you hone a valuable skill in coding, of reading and interpreting code without executing it.\n",
    "\n",
    "You are encouraged to use whatever resources you need in order to learn the concepts covered in the workshop, including:\n",
    "\n",
    "- Use of the online Discussion Board on this course site. \n",
    "- Forming study groups with classmates.\n",
    "- Use of other online resources. \n",
    "\n",
    "\n",
    "Please be sure to actually work through the videos and exercises. You can not learn Programming by just watching videos. You have to practice writing code yourself. In that regard, it is much like learning any other spoken language - the more you practice speaking it yourself, the more you will learn.\n",
    "\n",
    "If you have any questions or feedback regarding workshop content or logistics, please reach out to your Program coordinator or Program director. \n",
    "\n",
    "#### References:\n",
    "\n",
    "- [Python](https://docs.python.org/3/tutorial/)\n",
    "- [SciPy](https://docs.scipy.org/doc/numpy/)\n",
    "- [Pandas](https://pandas.pydata.org/pandas-docs/stable/)\n",
    "- [SKlearn](https://scikit-learn.org/stable/index.html)\n",
    "- [SpaCy](https://spacy.io/)\n",
    "- [Matplolib](https://matplotlib.org/users/index.html)\n",
    "- [Seaborn](https://seaborn.pydata.org/)"
   ]
  },
  {
   "cell_type": "markdown",
   "metadata": {},
   "source": [
    "# Jupyer Notebook\n",
    "\n",
    "\n",
    "## Shortcuts\n",
    "\n",
    "**Find the shortcuts in `Help > Keyboard Shortcuts` tab**\n",
    "\n",
    "In this [article (source:Ventsislav Yordanov\n",
    " Dec 22, 2017)](https://towardsdatascience.com/jypyter-notebook-shortcuts-bf0101a98330), I’ll show you my favorite ones. Note that the shortcuts are for Windows and Linux users. Anyway, for the Mac users, they’re different buttons for `Ctrl`, `Shift`, and `Alt`:\n",
    "\n",
    "- `Ctrl`: command key `⌘`\n",
    "- `Shift`: Shift `⇧`\n",
    "- `Alt`: option `⌥`\n",
    "\n",
    "First, we need to know that they are 2 modes in the Jupyter Notebook App: command mode and edit mode. I’ll start with the shortcuts shared between the two modes.\n",
    "\n",
    "**Shortcuts in both modes**:\n",
    "- `Shift + Enter` run the current cell, select below\n",
    "- `Ctrl + Enter` run selected cells\n",
    "- `Alt + Enter` run the current cell, insert below\n",
    "- `Ctrl + S` save and checkpoint\n",
    "\n",
    "While in **command mode** (press `Esc` to activate):\n",
    "- `Enter` take you into **edit mode**\n",
    "- `H` show all shortcuts\n",
    "- `Up` select cell above\n",
    "- `Down` select cell below\n",
    "- `Shift + Up` extend selected cells above\n",
    "- `Shift + Down` extend selected cells below\n",
    "- `A` insert cell above\n",
    "- `B` insert cell below\n",
    "- `X` cut selected cells\n",
    "- `C` copy selected cells\n",
    "- `V` paste cells below\n",
    "- `Shift + V` paste cells above\n",
    "- `D, D` (press the key twice) delete selected cells\n",
    "- `Z` undo cell deletion\n",
    "- `S` Save and Checkpoint\n",
    "- `Y` change the cell type to Code\n",
    "- `M` change the cell type to Markdown\n",
    "- `P` open the command palette. <br>\n",
    "This dialog helps you run any command by name. It’s really useful if you don’t know some shortcut or when you don’t have a shortcut for the wanted command.\n",
    "\n",
    "- `Shift + Space` scroll notebook up\n",
    "- `Space` scroll notebook down\n",
    "\n",
    "**While in edit mode (press `Enter` to activate)**\n",
    "- `Esc` take you into command mode\n",
    "- `Tab` code completion or indent\n",
    "- `Shift + Tab` tooltip\n",
    "- `Ctrl + ]` indent\n",
    "- `Ctrl + [` dedent\n",
    "- `Ctrl + A` select all\n",
    "- `Ctrl + Z` undo\n",
    "- `Ctrl + Shift + Z` or `Ctrl + Y` redo\n",
    "- `Ctrl + Home` go to cell start\n",
    "- `Ctrl + End` go to cell end\n",
    "- `Ctrl + Left` go one word left\n",
    "- `Ctrl + Right` go one word right\n",
    "- `Ctrl + Shift + P` open the command palette\n",
    "- `Down` move cursor down\n",
    "- `Up` move cursor up"
   ]
  },
  {
   "cell_type": "code",
   "execution_count": 1,
   "metadata": {},
   "outputs": [
    {
     "name": "stdout",
     "output_type": "stream",
     "text": [
      "Hello World\n"
     ]
    }
   ],
   "source": [
    "print('Hello World')\n",
    "var = 10"
   ]
  },
  {
   "cell_type": "code",
   "execution_count": 2,
   "metadata": {},
   "outputs": [
    {
     "name": "stdout",
     "output_type": "stream",
     "text": [
      "10\n"
     ]
    }
   ],
   "source": [
    "print(var)"
   ]
  },
  {
   "cell_type": "code",
   "execution_count": 3,
   "metadata": {},
   "outputs": [],
   "source": [
    "import math"
   ]
  },
  {
   "cell_type": "code",
   "execution_count": 4,
   "metadata": {},
   "outputs": [
    {
     "data": {
      "text/plain": [
       "<function math.fabs(x, /)>"
      ]
     },
     "execution_count": 4,
     "metadata": {},
     "output_type": "execute_result"
    }
   ],
   "source": [
    "math.fabs # tab+shift to see decription"
   ]
  },
  {
   "cell_type": "markdown",
   "metadata": {},
   "source": [
    "## Markdown Examples:\n",
    "\n",
    "- Headings `#`\n",
    "\n",
    "# level 1\n",
    "## level 2\n",
    "### level 3 \n",
    "#### level 4\n",
    "##### level 5\n",
    "###### level 6\n",
    "\n",
    "\n",
    "**Bold** `** **`\n",
    "\n",
    "\n",
    "*Italic* `* *`\n",
    "\n",
    "\n",
    "$LaTeX (Math symbols)$ `$ $`\n",
    "\n",
    "\n",
    "~~strikthrough~~ `~~ ~~`\n",
    "\n",
    "\n",
    "* bullet 1\n",
    "* bullet 2\n",
    "* bullet 3\n",
    "\n",
    "\n",
    "- bullet 1\n",
    "  - bullet 1.1\n",
    "    - bullet 1.1.1"
   ]
  },
  {
   "cell_type": "markdown",
   "metadata": {},
   "source": [
    "# List Comprehension\n",
    "**List Comprehensions** are used to create a new list by applying simple operations to an existing list"
   ]
  },
  {
   "cell_type": "code",
   "execution_count": 5,
   "metadata": {},
   "outputs": [
    {
     "name": "stdout",
     "output_type": "stream",
     "text": [
      "[1, 4, 9, 16, 25]\n"
     ]
    }
   ],
   "source": [
    "# Basic For Loop\n",
    "nums = [1,2,3,4,5]\n",
    "\n",
    "numsqr = []\n",
    "\n",
    "for i in nums:\n",
    "    numsqr.append(i**2)\n",
    "\n",
    "print(numsqr)"
   ]
  },
  {
   "cell_type": "code",
   "execution_count": 6,
   "metadata": {},
   "outputs": [
    {
     "name": "stdout",
     "output_type": "stream",
     "text": [
      "[1, 4, 9, 16, 25]\n",
      "[1, 4, 9, 16, 25]\n"
     ]
    }
   ],
   "source": [
    "# List Comprehension\n",
    "nums = [1,2,3,4,5]\n",
    "numsqr = [i**2 for i in nums]\n",
    "print(numsqr)\n",
    "print([i**2 for i in nums])"
   ]
  },
  {
   "cell_type": "code",
   "execution_count": 7,
   "metadata": {},
   "outputs": [
    {
     "name": "stdout",
     "output_type": "stream",
     "text": [
      "[2, 4, 6, 8, 10]\n",
      "[2, 4, 6, 8, 10]\n"
     ]
    }
   ],
   "source": [
    "# List Comprehension\n",
    "nums = [1,2,3,4,5]\n",
    "numsdubles = [i*2 for i in nums]\n",
    "print(numsdubles)\n",
    "print([i*2 for i in nums])"
   ]
  },
  {
   "cell_type": "code",
   "execution_count": 8,
   "metadata": {},
   "outputs": [
    {
     "name": "stdout",
     "output_type": "stream",
     "text": [
      "['hi', 'how', 'are', 'you']\n"
     ]
    }
   ],
   "source": [
    "words = ['Hi', 'How', 'Are', 'You']\n",
    "print([w.lower() for w in words])"
   ]
  },
  {
   "cell_type": "markdown",
   "metadata": {},
   "source": [
    "# Lambda Functions\n",
    "**Lambda Functions** are used to define and use small anonymous functions inline\n",
    "\n",
    "\n",
    "Construction:\n",
    "- Change function into one line\n",
    "- Replace the `def` with `lambda`\n",
    "- Remove the `return` leaving only the `:`\n",
    "- Place the input argument(s) after the lmabda function, between `()`\n"
   ]
  },
  {
   "cell_type": "code",
   "execution_count": 9,
   "metadata": {},
   "outputs": [
    {
     "name": "stdout",
     "output_type": "stream",
     "text": [
      "100\n"
     ]
    }
   ],
   "source": [
    "# normal function definition\n",
    "def numSquare(num):\n",
    "    return (num**2)\n",
    "\n",
    "print(numSquare(10))"
   ]
  },
  {
   "cell_type": "code",
   "execution_count": 10,
   "metadata": {},
   "outputs": [
    {
     "name": "stdout",
     "output_type": "stream",
     "text": [
      "16\n"
     ]
    }
   ],
   "source": [
    "# lambda function (simplify a function by removing the name (annonymous function))\n",
    "\n",
    "print((lambda num: (num**2))(4))"
   ]
  },
  {
   "cell_type": "code",
   "execution_count": 11,
   "metadata": {},
   "outputs": [
    {
     "name": "stdout",
     "output_type": "stream",
     "text": [
      "9\n"
     ]
    }
   ],
   "source": [
    "print((lambda num1, num2: (num1+num2))(4,5))"
   ]
  },
  {
   "cell_type": "code",
   "execution_count": 12,
   "metadata": {},
   "outputs": [
    {
     "name": "stdout",
     "output_type": "stream",
     "text": [
      "hello\n"
     ]
    }
   ],
   "source": [
    "print((lambda s: s.lower())('HELLO'))"
   ]
  },
  {
   "cell_type": "code",
   "execution_count": 13,
   "metadata": {},
   "outputs": [
    {
     "name": "stdout",
     "output_type": "stream",
     "text": [
      "['h', 'e', 'l', 'l', 'o']\n"
     ]
    }
   ],
   "source": [
    "# lambda function used with list comprehension\n",
    "print([(lambda s: s.lower())(i) for i in 'HELLO'])"
   ]
  },
  {
   "cell_type": "markdown",
   "metadata": {},
   "source": [
    "# Map Functions\n",
    "**Map Functions** are used to apply a function to each item in an iterable"
   ]
  },
  {
   "cell_type": "code",
   "execution_count": 14,
   "metadata": {},
   "outputs": [
    {
     "name": "stdout",
     "output_type": "stream",
     "text": [
      "[1, 4, 9, 16, 25]\n"
     ]
    }
   ],
   "source": [
    "# Traditional Way\n",
    "def numSquare(num):\n",
    "    return (num ** 2)\n",
    "\n",
    "nums = [1,2,3,4,5]\n",
    "\n",
    "numsqr = []\n",
    "for num in nums:\n",
    "    numsqr.append(numSquare(num))\n",
    "print(numsqr)"
   ]
  },
  {
   "cell_type": "code",
   "execution_count": 15,
   "metadata": {},
   "outputs": [
    {
     "name": "stdout",
     "output_type": "stream",
     "text": [
      "[1, 4, 9, 16, 25]\n"
     ]
    }
   ],
   "source": [
    "# using Map Function\n",
    "numsqr = map(numSquare, nums)\n",
    "print(list(numsqr))"
   ]
  },
  {
   "cell_type": "code",
   "execution_count": 16,
   "metadata": {},
   "outputs": [
    {
     "name": "stdout",
     "output_type": "stream",
     "text": [
      "[1, 4, 9, 16, 25]\n"
     ]
    }
   ],
   "source": [
    "# using Map Function with Lambda Function\n",
    "numsqr = map((lambda num: num**2),nums)\n",
    "print(list(numsqr))"
   ]
  },
  {
   "cell_type": "code",
   "execution_count": 17,
   "metadata": {},
   "outputs": [
    {
     "name": "stdout",
     "output_type": "stream",
     "text": [
      "['hi', 'how', 'are', 'you']\n"
     ]
    }
   ],
   "source": [
    "words = ['Hi', 'How', 'Are', 'You']\n",
    "\n",
    "wordsLower = map((lambda w: w.lower()), words)\n",
    "print(list(wordsLower))"
   ]
  },
  {
   "cell_type": "markdown",
   "metadata": {},
   "source": [
    "# Filter Functions\n",
    "\n",
    "**Filter functions** are used to apply a function to each item in an iterable, and return only those elements that meet some criteria."
   ]
  },
  {
   "cell_type": "code",
   "execution_count": 18,
   "metadata": {},
   "outputs": [],
   "source": [
    "nums = [5, 10, 15, 20, 25]\n",
    "def checkG15(n):\n",
    "    if n > 15:\n",
    "        return True\n",
    "    else:\n",
    "        return False"
   ]
  },
  {
   "cell_type": "code",
   "execution_count": 19,
   "metadata": {},
   "outputs": [
    {
     "name": "stdout",
     "output_type": "stream",
     "text": [
      "[20, 25]\n"
     ]
    }
   ],
   "source": [
    "numNew = []\n",
    "for n in nums:\n",
    "    if checkG15(n) == True:\n",
    "        numNew.append(n)\n",
    "\n",
    "print(numNew)"
   ]
  },
  {
   "cell_type": "code",
   "execution_count": 20,
   "metadata": {},
   "outputs": [
    {
     "name": "stdout",
     "output_type": "stream",
     "text": [
      "[20, 25]\n"
     ]
    }
   ],
   "source": [
    "# filter function\n",
    "numNew = filter(checkG15, nums)\n",
    "print(list(numNew))"
   ]
  },
  {
   "cell_type": "code",
   "execution_count": 21,
   "metadata": {},
   "outputs": [
    {
     "name": "stdout",
     "output_type": "stream",
     "text": [
      "[20, 25]\n"
     ]
    }
   ],
   "source": [
    "numNew = filter((lambda n: n > 15), nums)\n",
    "print(list(numNew))"
   ]
  },
  {
   "cell_type": "markdown",
   "metadata": {},
   "source": [
    "# Exercise 1\n",
    "\n",
    "### Question 1\n",
    "Use list comprehension to convert a list of number to a list of absolute values of those numbers.\n",
    "- nums = [100, -200, -300, 400, 500]"
   ]
  },
  {
   "cell_type": "code",
   "execution_count": 22,
   "metadata": {},
   "outputs": [
    {
     "name": "stdout",
     "output_type": "stream",
     "text": [
      "[100, 200, 300, 400, 500]\n"
     ]
    }
   ],
   "source": [
    "nums = [100, -200, -300, 400, 500]\n",
    "print([abs(n) for n in nums])"
   ]
  },
  {
   "cell_type": "markdown",
   "metadata": {},
   "source": [
    "### Question 2\n",
    "\n",
    "Use list comprehension to get a list of first characters from a list of words.\n",
    "- words = [\"apple\", \"banana\", \"grape\", \"orange\", \"pineapple\"]"
   ]
  },
  {
   "cell_type": "code",
   "execution_count": 23,
   "metadata": {},
   "outputs": [
    {
     "name": "stdout",
     "output_type": "stream",
     "text": [
      "['a', 'b', 'g', 'o', 'p']\n"
     ]
    }
   ],
   "source": [
    "words = [\"apple\", \"banana\", \"grape\", \"orange\", \"pineapple\"]\n",
    "print([w[0] for w in words])"
   ]
  },
  {
   "cell_type": "markdown",
   "metadata": {},
   "source": [
    "### Question 3\n",
    "Use list comprehension to sum corresponding elements of two lists.\n",
    "- lst1 = [1, 2, 3, 4, 5]\n",
    "- lst2= [10, 20, 30, 40, 50]"
   ]
  },
  {
   "cell_type": "code",
   "execution_count": 24,
   "metadata": {},
   "outputs": [
    {
     "name": "stdout",
     "output_type": "stream",
     "text": [
      "[11, 22, 33, 44, 55]\n",
      "[11, 22, 33, 44, 55]\n"
     ]
    }
   ],
   "source": [
    "lst1 = [1, 2, 3, 4, 5]\n",
    "lst2= [10, 20, 30, 40, 50]\n",
    "\n",
    "print([lst1[i]+lst2[i] for i, v in enumerate(lst1)])\n",
    "print([i+j for i, j in zip(lst1,lst2)])"
   ]
  },
  {
   "cell_type": "markdown",
   "metadata": {},
   "source": [
    "### Question 4\n",
    "Use list comprehension to get a list of words <= 5 characters long from a list of words.\n",
    "- words = [\"apple\", \"banana\", \"grape\", \"orange\", \"pineapple\"]"
   ]
  },
  {
   "cell_type": "code",
   "execution_count": 25,
   "metadata": {},
   "outputs": [
    {
     "name": "stdout",
     "output_type": "stream",
     "text": [
      "['apple', 'grape']\n",
      "['apple', 'grape']\n"
     ]
    }
   ],
   "source": [
    "words = [\"apple\", \"banana\", \"grape\", \"orange\", \"pineapple\"]\n",
    "\n",
    "print( list(filter((lambda w: len(w) <= 5), words)) )\n",
    "print([w for w in words if len(w) <= 5])"
   ]
  },
  {
   "cell_type": "markdown",
   "metadata": {},
   "source": [
    "### Question 5\n",
    "Create a lambda function to return True if a number is even, else return False. Then use it with the number 5."
   ]
  },
  {
   "cell_type": "code",
   "execution_count": 26,
   "metadata": {},
   "outputs": [
    {
     "name": "stdout",
     "output_type": "stream",
     "text": [
      "False\n"
     ]
    }
   ],
   "source": [
    "print((lambda x: x%2 == 0)(5))"
   ]
  },
  {
   "cell_type": "markdown",
   "metadata": {},
   "source": [
    "### Question 6\n",
    "Use map and lambda to return a new list with 0 or 1 depending on whether the elements in the existing list are >=100 or <100.\n",
    "- lst = [100, 50, 75, 200, 25]"
   ]
  },
  {
   "cell_type": "code",
   "execution_count": 27,
   "metadata": {},
   "outputs": [
    {
     "name": "stdout",
     "output_type": "stream",
     "text": [
      "[0, 1, 1, 0, 1]\n"
     ]
    }
   ],
   "source": [
    "lst = [100, 50, 75, 200, 25]\n",
    "print(list(map((lambda x: 0 if x >= 100 else 1), lst)))"
   ]
  },
  {
   "cell_type": "markdown",
   "metadata": {},
   "source": [
    "### Question 7\n",
    "Use map to convert a list of numbers to a list of absolute values of those numbers.\n",
    "- nums = [100, -200, -300, 400, 500]"
   ]
  },
  {
   "cell_type": "code",
   "execution_count": 28,
   "metadata": {},
   "outputs": [
    {
     "name": "stdout",
     "output_type": "stream",
     "text": [
      "[100, 200, 300, 400, 500]\n"
     ]
    }
   ],
   "source": [
    "nums = [100, -200, -300, 400, 500]\n",
    "print(list(map(abs,nums)))"
   ]
  },
  {
   "cell_type": "markdown",
   "metadata": {},
   "source": [
    "### Question 8\n",
    "Use map to lower case items in a list.\n",
    "- words = [\"APPLE\", \"Banana\", \"Grape\", \"ORANGE\", \"pineapple\"]"
   ]
  },
  {
   "cell_type": "code",
   "execution_count": 29,
   "metadata": {},
   "outputs": [
    {
     "name": "stdout",
     "output_type": "stream",
     "text": [
      "['apple', 'banana', 'grape', 'orange', 'pineapple']\n",
      "['apple', 'banana', 'grape', 'orange', 'pineapple']\n"
     ]
    }
   ],
   "source": [
    "words = [\"APPLE\", \"Banana\", \"Grape\", \"ORANGE\", \"pineapple\"]\n",
    "\n",
    "print(list(map((lambda s: s.lower()), words)))\n",
    "print(list(map(str.lower, words)))"
   ]
  },
  {
   "cell_type": "markdown",
   "metadata": {},
   "source": [
    "### Question 9\n",
    "Use map and lambda to sum corresponding elements of two lists.\n",
    "- lst1 = [1, 2, 3, 4, 5]\n",
    "- lst2= [10, 20, 30, 40, 50]"
   ]
  },
  {
   "cell_type": "code",
   "execution_count": 30,
   "metadata": {},
   "outputs": [
    {
     "name": "stdout",
     "output_type": "stream",
     "text": [
      "[11, 22, 33, 44, 55]\n"
     ]
    }
   ],
   "source": [
    "lst1 = [1, 2, 3, 4, 5]\n",
    "lst2 = [10, 20, 30, 40, 50]\n",
    "\n",
    "print(list(map((lambda a,b: a+b), lst1, lst2)))"
   ]
  },
  {
   "cell_type": "markdown",
   "metadata": {},
   "source": [
    "### Question 10\n",
    "What will this return?\n",
    "- `lst = [10, 20, 30, 40, 50]`\n",
    "- `newlst = list(map((lambda x: x>25), lst))`\n",
    "- `newlst`\n",
    "\n",
    "Ans: `[False, False, True, True, True]`"
   ]
  },
  {
   "cell_type": "code",
   "execution_count": 31,
   "metadata": {},
   "outputs": [
    {
     "data": {
      "text/plain": [
       "[False, False, True, True, True]"
      ]
     },
     "execution_count": 31,
     "metadata": {},
     "output_type": "execute_result"
    }
   ],
   "source": [
    "lst = [10, 20, 30, 40, 50]\n",
    "newlst = list(map((lambda x: x>25), lst))\n",
    "newlst"
   ]
  },
  {
   "cell_type": "markdown",
   "metadata": {},
   "source": [
    "### Question 11\n",
    "What will this return?\n",
    "- `lst = [10, 20, 30, 40, 50]`\n",
    "- `newlst = list(filter((lambda x: x>25), lst))`\n",
    "- `newlst`\n",
    "\n",
    "Ans: `[30,40,50]`"
   ]
  },
  {
   "cell_type": "code",
   "execution_count": 32,
   "metadata": {},
   "outputs": [
    {
     "data": {
      "text/plain": [
       "[30, 40, 50]"
      ]
     },
     "execution_count": 32,
     "metadata": {},
     "output_type": "execute_result"
    }
   ],
   "source": [
    "lst = [10, 20, 30, 40, 50]\n",
    "newlst = list(filter((lambda x: x>25), lst))\n",
    "newlst"
   ]
  },
  {
   "cell_type": "markdown",
   "metadata": {},
   "source": [
    "### Question 12\n",
    "Use filter and lambda functions to get a list of words <= 5 characters long from a list of words.\n",
    "- words = [\"apple\", \"banana\", \"grape\", \"orange\", \"pineapple\"]"
   ]
  },
  {
   "cell_type": "code",
   "execution_count": 33,
   "metadata": {},
   "outputs": [
    {
     "name": "stdout",
     "output_type": "stream",
     "text": [
      "['apple', 'grape']\n"
     ]
    }
   ],
   "source": [
    "words = [\"apple\", \"banana\", \"grape\", \"orange\", \"pineapple\"]\n",
    "print(list(filter((lambda x: len(x) <= 5), words)))"
   ]
  },
  {
   "cell_type": "markdown",
   "metadata": {},
   "source": [
    "### Question 13\n",
    "Use filter and lambda functions to get even elements from a list of integers.\n",
    "- nums = [10, 13, 14, 15, 17, 20]"
   ]
  },
  {
   "cell_type": "code",
   "execution_count": 34,
   "metadata": {},
   "outputs": [
    {
     "name": "stdout",
     "output_type": "stream",
     "text": [
      "[10, 14, 20]\n"
     ]
    }
   ],
   "source": [
    "nums = [10, 13, 14, 15, 17, 20]\n",
    "print(list(filter((lambda i: i%2==0), nums)))"
   ]
  },
  {
   "cell_type": "code",
   "execution_count": null,
   "metadata": {},
   "outputs": [],
   "source": []
  }
 ],
 "metadata": {
  "kernelspec": {
   "display_name": "Python 3",
   "language": "python",
   "name": "python3"
  },
  "language_info": {
   "codemirror_mode": {
    "name": "ipython",
    "version": 3
   },
   "file_extension": ".py",
   "mimetype": "text/x-python",
   "name": "python",
   "nbconvert_exporter": "python",
   "pygments_lexer": "ipython3",
   "version": "3.8.1"
  }
 },
 "nbformat": 4,
 "nbformat_minor": 4
}
